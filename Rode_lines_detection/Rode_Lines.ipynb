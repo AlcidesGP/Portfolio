{
 "cells": [
  {
   "cell_type": "code",
   "execution_count": 1,
   "id": "4ebe67b6-694f-420f-905c-4064765ac6c9",
   "metadata": {},
   "outputs": [],
   "source": [
    "import cv2 as cv\n",
    "import numpy as np"
   ]
  },
  {
   "cell_type": "code",
   "execution_count": 4,
   "id": "569e8a80-cd70-4734-83e6-c5c9b9b61f9c",
   "metadata": {},
   "outputs": [],
   "source": [
    "!pip freeze > requirements.txt"
   ]
  },
  {
   "cell_type": "code",
   "execution_count": 7,
   "id": "917de719-b4f3-477b-b592-34ec01843282",
   "metadata": {},
   "outputs": [],
   "source": [
    "def mask_region_of_interest(image, vertices):\n",
    "    # Cria uma máscara preta com as mesmas dimensões que a imagem de entrada\n",
    "    mask = np.zeros_like(image)\n",
    "    \n",
    "    # Define a cor para preencher a região de interesse (geralmente branca)\n",
    "    match_mask_color = 255\n",
    "    \n",
    "    # Preenche a região de interesse definida pelos vértices com a cor especificada\n",
    "    cv.fillPoly(mask, vertices, match_mask_color)\n",
    "    \n",
    "    # Aplica a máscara à imagem original usando a operação AND bit a bit\n",
    "    masked_image = cv.bitwise_and(image, mask)\n",
    "    \n",
    "    # Retorna a imagem resultante, onde apenas a região de interesse é preservada\n",
    "    return masked_image"
   ]
  },
  {
   "cell_type": "code",
   "execution_count": 61,
   "id": "0d6642e7-e326-4c07-b01e-627ec69de92c",
   "metadata": {},
   "outputs": [],
   "source": [
    "def draw_the_lines(image, lines):\n",
    "    # Faz uma cópia da imagem original para não modificar a original\n",
    "    image = np.copy(image)\n",
    "    \n",
    "    # Cria uma imagem em branco do mesmo tamanho que a imagem original\n",
    "    blank_image = np.zeros((image.shape[0], image.shape[1], 3), dtype=np.uint8)\n",
    "    \n",
    "    # Verifica se existem linhas para desenhar\n",
    "    if lines is not None:\n",
    "        # Para cada linha detectada\n",
    "        for line in lines:\n",
    "            # Extrai as coordenadas dos pontos inicial e final da linha\n",
    "            for x1, y1, x2, y2 in line:\n",
    "                # Desenha a linha na imagem em branco\n",
    "                cv.line(blank_image, (x1, y1), (x2, y2), color=(0, 255, 0), thickness=3)\n",
    "    \n",
    "    # Combina as linhas desenhadas na imagem em branco com a imagem original usando uma ponderação\n",
    "    # A imagem original é mais pesada (0.8) do que a imagem em branco (1)\n",
    "    # Isso produz um efeito de transparência para as linhas desenhadas\n",
    "    image = cv.addWeighted(image, 0.8, blank_image, 1, 0.0)\n",
    "    \n",
    "    # Retorna a imagem resultante com as linhas desenhadas\n",
    "    return image"
   ]
  },
  {
   "cell_type": "code",
   "execution_count": 72,
   "id": "f1ecd5e5-13a6-4581-947d-3564bd6215df",
   "metadata": {},
   "outputs": [],
   "source": [
    "# Abrir o vídeo\n",
    "cap = cv.VideoCapture(\"estrada_imagem.mp4\")\n",
    "\n",
    "# Obter a taxa de quadros do vídeo original\n",
    "fps = cap.get(cv.CAP_PROP_FPS)\n",
    "\n",
    "while True:\n",
    "    # Capturar o próximo frame\n",
    "    ret, frame = cap.read()\n",
    "    \n",
    "    # Verificar se o frame foi capturado corretamente\n",
    "    if not ret:\n",
    "        break\n",
    "\n",
    "    # Redimensionar o frame para 720p\n",
    "    frame = cv.resize(frame, (1280, 720))\n",
    "\n",
    "    # Exibir o frame\n",
    "    #cv.imshow('estrada', frame)\n",
    "    \n",
    "    h, w = frame.shape[:2]\n",
    "\n",
    "    # Definir a região de interesse como um triângulo na parte inferior do quadro\n",
    "  \n",
    "    region_of_interest = np.array([[\n",
    "        (0, h), # Inf Esquerdo\n",
    "        (w, h), # Inf direito\n",
    "        (w*.15, h * 2 // 3), # sup esquerdo\n",
    "        (w*.25, h * 2 // 3)]], dtype=np.int32) # Sup direito\n",
    "    \n",
    "    # Converter o quadro para escala de cinza e aplicar detecção de bordas\n",
    "    frame_gray = cv.cvtColor(frame, cv.COLOR_BGR2GRAY)\n",
    "    frame_canny = cv.Canny(frame_gray, 100, 150)\n",
    "\n",
    "    # Aplicar a máscara para manter apenas a região de interesse\n",
    "    frame_masked = mask_region_of_interest(frame_canny, region_of_interest)\n",
    "    #cv.imshow('Video com Linhas', frame_masked)\n",
    "\n",
    "    \n",
    "    # Detectar linhas usando a Transformada de Hough Probabilística\n",
    "    lines = cv.HoughLinesP(\n",
    "        frame_masked,\n",
    "        rho=1,\n",
    "        theta=np.pi/50,\n",
    "        threshold=5,\n",
    "        minLineLength=5,\n",
    "        maxLineGap=15\n",
    "    )\n",
    "\n",
    "    # Desenhar as linhas no quadro original\n",
    "    frame_with_lines = draw_the_lines(frame, lines)\n",
    "\n",
    "    # Exibir o quadro com as linhas detectadas\n",
    "    cv.imshow('Video com Linhas', frame_with_lines)\n",
    "    \n",
    "    # Aguardar pela tecla de saída (ESC)\n",
    "    key = cv.waitKey(int(500 / fps))  # Ajustar o tempo de espera para corresponder ao FPS do vídeo\n",
    "    if key == 27:\n",
    "        break\n",
    "\n",
    "# Liberar os recursos\n",
    "cap.release()\n",
    "cv.destroyAllWindows()"
   ]
  },
  {
   "cell_type": "code",
   "execution_count": null,
   "id": "9a312129-22fe-4451-8628-b606e444c7eb",
   "metadata": {},
   "outputs": [],
   "source": []
  },
  {
   "cell_type": "code",
   "execution_count": null,
   "id": "e7e6cbff-0522-4006-a7d3-a81bf9a8eb18",
   "metadata": {},
   "outputs": [],
   "source": []
  },
  {
   "cell_type": "code",
   "execution_count": null,
   "id": "2b3de783-d122-46c9-8831-220d18b736b0",
   "metadata": {},
   "outputs": [],
   "source": []
  },
  {
   "cell_type": "code",
   "execution_count": null,
   "id": "29499a42-58fa-47c0-8a2e-cf05c724886b",
   "metadata": {},
   "outputs": [],
   "source": []
  },
  {
   "cell_type": "code",
   "execution_count": null,
   "id": "f55731a2-2b2f-42eb-a11a-705b7f09b59c",
   "metadata": {},
   "outputs": [],
   "source": []
  },
  {
   "cell_type": "code",
   "execution_count": null,
   "id": "887ea227-c00b-4480-abd8-1dd018eea70c",
   "metadata": {},
   "outputs": [],
   "source": []
  },
  {
   "cell_type": "code",
   "execution_count": null,
   "id": "fd5d80b1-b8c6-4a57-8a68-60993707b814",
   "metadata": {},
   "outputs": [],
   "source": []
  },
  {
   "cell_type": "code",
   "execution_count": null,
   "id": "77440ced-5776-4d33-8fcb-b24e42586d51",
   "metadata": {},
   "outputs": [],
   "source": []
  },
  {
   "cell_type": "code",
   "execution_count": null,
   "id": "b5e047df-f24a-4db8-89f0-35c191158c50",
   "metadata": {},
   "outputs": [],
   "source": []
  },
  {
   "cell_type": "code",
   "execution_count": null,
   "id": "91d21962-41e3-49fa-9f4f-63db3e590850",
   "metadata": {},
   "outputs": [],
   "source": []
  },
  {
   "cell_type": "code",
   "execution_count": null,
   "id": "bd576ed3-65fa-4c6d-a1a9-f4d63dd3bea7",
   "metadata": {},
   "outputs": [],
   "source": []
  },
  {
   "cell_type": "code",
   "execution_count": null,
   "id": "0860bb60-c3b3-4322-abde-858c3905a6e6",
   "metadata": {},
   "outputs": [],
   "source": []
  },
  {
   "cell_type": "code",
   "execution_count": null,
   "id": "196758f6-da1d-4e20-a588-62cdf3cfea22",
   "metadata": {},
   "outputs": [],
   "source": []
  },
  {
   "cell_type": "code",
   "execution_count": null,
   "id": "a3829440-fa9f-4728-948c-bb0eae2ee30e",
   "metadata": {},
   "outputs": [],
   "source": []
  }
 ],
 "metadata": {
  "kernelspec": {
   "display_name": "Python 3 (ipykernel)",
   "language": "python",
   "name": "python3"
  },
  "language_info": {
   "codemirror_mode": {
    "name": "ipython",
    "version": 3
   },
   "file_extension": ".py",
   "mimetype": "text/x-python",
   "name": "python",
   "nbconvert_exporter": "python",
   "pygments_lexer": "ipython3",
   "version": "3.11.8"
  }
 },
 "nbformat": 4,
 "nbformat_minor": 5
}
