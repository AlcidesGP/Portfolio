{
 "cells": [
  {
   "cell_type": "markdown",
   "id": "2aac45f1",
   "metadata": {},
   "source": [
    "<div class=\"anchor\" style=\"color:rosybrown\" id='home'> \n",
    "    <h1 style=\"font-size:200%; text-align:center\">Previsão de Preços do Hostel</h1>\n",
    "\n",
    "\n",
    "<br>\n",
    "<li>O modelo desenvolvido abaixo tem como objetivo realizar o desenvolvimento estratégico de precificação dos preços do aluguel de hostels na cidade de Nova york, e avaliar tal modelo utilizando as métricas de avaliação que mais fazem sentido para o problema.</li>\n",
    "    <br>\n",
    "    <li>Importante ressaltar que estamos lidando com um problema de regressão, ou seja, o valor a ser previsto não é uma categoria. Diante disso, já podemos definir quais modelos podemos utilizar, assim como as métricas de avaliação dos resultado. O trabalho será feito utilizando dois modelos diferentes de machine learning. Será primeiro utilizado a regressão linear para respeitar o princípio da parcimônia. Com a análise desses resultados será elabora então um modelo usando o Extreme Gradient Boosting, a escolha desse modelo será apresentada mais abaixo.</li>\n",
    "    <br><li>Com os modelos definidos, falta avaliar quais métricas devem ser utilizadas, para esse problema irei utilizar duas métricas, o R2 e o RMSE (Root Mean Squared Error) em português seria a raíz do erro média quadrático. Eu gosto muito de ambas pois o R2 consegue demonstrar o quanto aquele modelo está reprensentando os dados reais, já o rmse consegue ponderar, de uma forma semelhante ao desvio padrão, como o erro se comporta, sendo mais ajustado que outras métricas.</li>\n",
    "\n",
    "    \n",
    "</div>"
   ]
  },
  {
   "cell_type": "markdown",
   "id": "d5091725",
   "metadata": {},
   "source": [
    "<div class=\"anchor\" style=\"color:rosybrown\" id='home'> \n",
    "    <h1 style=\"font-size:200%; text-align:center\">Sumário</h1>\n",
    "    <br><li> Infelizmente sempre ocorre um problema de uso no github, então recomendo acessar ao arquivo pelo nbviwer, ao clicar no <a href=\"https://nbviewer.org/github/AlcidesGP/Portfolio/tree/main/Indicium_Light_House/\">aqui</a> você será redirecionado para a página.</li>     \n",
    "    <ul>\n",
    "        <li><a href=\"#biblioteca\">Bibliotecas e Importações</a></li>\n",
    "        <li><a href=\"#import\">Função de Importação de Dados</a></li>\n",
    "        <li><a href=\"#rl\">Modelo de Regressão Linear</a></li>\n",
    "            <ul>\n",
    "                <li><a href=\"#rl.1\">Funções do Modelo</a></li>\n",
    "                <li><a href=\"#rl.2\">Análisando Resultados</a></li>\n",
    "            </ul>        \n",
    "        <li><a href=\"#xgb\">Extreme Gradient Boost</a></li>\n",
    "            <ul>\n",
    "                <li><a href=\"#xgb.1\">Função do Modelo</a></li>\n",
    "                <li><a href=\"#xgb.2\">Análisando Resultados</a></li>\n",
    "            </ul>\n",
    "        <li><a href=\"#tun\">Tunando o Modelo</a></li>\n",
    "        <li><a href=\"#5\">Avaliando Novos Dados e Exportando Modelos</a></li>\n",
    "</div>"
   ]
  },
  {
   "cell_type": "markdown",
   "id": "f488e8c0",
   "metadata": {
    "id": "f488e8c0"
   },
   "source": [
    "--- \n",
    "<div class=\"anchor\" style = \" box-shadow: 10px 10px 5px 0px rgb(0,32,46);\n",
    "                             text-align: center; background-color:#bc8f8f;color: \twhite;\n",
    "                             font-size:120%; font-family:newtimeroman; border-radius: 15px 15px\" id = \"biblioteca\">\n",
    "    <br>\n",
    "    <h1>Bibliotecas</h1>\n",
    "    <br>\n",
    "    <br>\n",
    "</div>\n",
    "\n",
    "<div>\n",
    "<ul>\n",
    "  <br>\n",
    "  <li style = \"font-size:120%;color:#005073\">Nessa seção todas as ferramentas necessárias o desenvolvimento do modelo e o tratamento dos dados será instalada e/ou importada</dt>\n",
    "</ul>\n",
    "</div>"
   ]
  },
  {
   "cell_type": "code",
   "execution_count": 1,
   "id": "jZpRCSpzMkXB",
   "metadata": {
    "id": "jZpRCSpzMkXB"
   },
   "outputs": [
    {
     "name": "stdout",
     "output_type": "stream",
     "text": [
      "Requirement already satisfied: hyperopt in c:\\users\\alcid\\anaconda3\\lib\\site-packages (0.2.7)\n",
      "Requirement already satisfied: numpy in c:\\users\\alcid\\anaconda3\\lib\\site-packages (from hyperopt) (1.24.3)\n",
      "Requirement already satisfied: scipy in c:\\users\\alcid\\anaconda3\\lib\\site-packages (from hyperopt) (1.10.1)\n",
      "Requirement already satisfied: six in c:\\users\\alcid\\anaconda3\\lib\\site-packages (from hyperopt) (1.16.0)\n",
      "Requirement already satisfied: networkx>=2.2 in c:\\users\\alcid\\anaconda3\\lib\\site-packages (from hyperopt) (3.1)\n",
      "Requirement already satisfied: future in c:\\users\\alcid\\anaconda3\\lib\\site-packages (from hyperopt) (0.18.3)\n",
      "Requirement already satisfied: tqdm in c:\\users\\alcid\\anaconda3\\lib\\site-packages (from hyperopt) (4.65.0)\n",
      "Requirement already satisfied: cloudpickle in c:\\users\\alcid\\anaconda3\\lib\\site-packages (from hyperopt) (2.2.1)\n",
      "Requirement already satisfied: py4j in c:\\users\\alcid\\anaconda3\\lib\\site-packages (from hyperopt) (0.10.9.7)\n",
      "Requirement already satisfied: colorama in c:\\users\\alcid\\anaconda3\\lib\\site-packages (from tqdm->hyperopt) (0.4.6)\n",
      "Requirement already satisfied: geopy in c:\\users\\alcid\\anaconda3\\lib\\site-packages (2.4.1)\n",
      "Requirement already satisfied: geographiclib<3,>=1.52 in c:\\users\\alcid\\anaconda3\\lib\\site-packages (from geopy) (2.0)\n",
      "Requirement already satisfied: holidays in c:\\users\\alcid\\anaconda3\\lib\\site-packages (0.41)\n",
      "Requirement already satisfied: python-dateutil in c:\\users\\alcid\\anaconda3\\lib\\site-packages (from holidays) (2.8.2)\n",
      "Requirement already satisfied: six>=1.5 in c:\\users\\alcid\\anaconda3\\lib\\site-packages (from python-dateutil->holidays) (1.16.0)\n"
     ]
    }
   ],
   "source": [
    "# Tunning\n",
    "!pip install hyperopt\n",
    "# Trabalhar com dados geoespaciais\n",
    "!pip install geopy\n",
    "# Trabalhar com datas de feriado\n",
    "!pip install holidays"
   ]
  },
  {
   "cell_type": "code",
   "execution_count": 2,
   "id": "2fc7d950",
   "metadata": {
    "executionInfo": {
     "elapsed": 362,
     "status": "ok",
     "timestamp": 1707260965133,
     "user": {
      "displayName": "Alcide Gabriel P. Coutinho Maciel",
      "userId": "18324768684938800470"
     },
     "user_tz": 180
    },
    "id": "2fc7d950"
   },
   "outputs": [],
   "source": [
    "# Bibliotecas Base\n",
    "import pandas as pd\n",
    "import numpy as np\n",
    "import matplotlib.pyplot as plt\n",
    "import seaborn as sns\n",
    "\n",
    "# Bibliotecas específicas\n",
    "from geopy.distance import geodesic\n",
    "from geopy.geocoders import Nominatim\n",
    "import math\n",
    "from tqdm import tqdm\n",
    "import holidays\n",
    "import re\n",
    "import pickle\n",
    "\n",
    "# Bibliotecas ML\n",
    "from sklearn.base import BaseEstimator, TransformerMixin\n",
    "from sklearn.pipeline import Pipeline\n",
    "from sklearn.preprocessing import LabelEncoder\n",
    "import statsmodels.formula.api as smf\n",
    "from sklearn.preprocessing import PowerTransformer\n",
    "from sklearn.ensemble import GradientBoostingRegressor\n",
    "import xgboost as xgb\n",
    "import lightgbm as lgb\n",
    "from sklearn.model_selection import train_test_split\n",
    "from sklearn.preprocessing import StandardScaler\n",
    "from sklearn.metrics import r2_score, mean_squared_error\n",
    "from hyperopt import fmin, tpe, hp, STATUS_OK, Trials\n"
   ]
  },
  {
   "cell_type": "markdown",
   "id": "54fa7f21",
   "metadata": {},
   "source": [
    "--- \n",
    "<div class=\"anchor\" style = \" box-shadow: 10px 10px 5px 0px rgb(0,32,46);\n",
    "                             text-align: center; background-color:#bc8f8f;color: \twhite;\n",
    "                             font-size:120%; font-family:newtimeroman; border-radius: 15px 15px\" id = \"import\">\n",
    "    <br>\n",
    "    <h1>Funções de Importação dos Dados</h1>\n",
    "    <br>\n",
    "    <br>\n",
    "</div>\n",
    "\n",
    "<div>\n",
    "<ul>\n",
    "  <br>\n",
    "  <li style = \"font-size:120%;color:#005073\">Abaixo de encontra as funções criadas para importar os dados, tantos externos quanto internos.</dt>\n",
    "</ul>\n",
    "</div>"
   ]
  },
  {
   "cell_type": "code",
   "execution_count": 8,
   "id": "770979d1",
   "metadata": {
    "executionInfo": {
     "elapsed": 326,
     "status": "ok",
     "timestamp": 1707251659034,
     "user": {
      "displayName": "Alcide Gabriel P. Coutinho Maciel",
      "userId": "18324768684938800470"
     },
     "user_tz": 180
    },
    "id": "770979d1"
   },
   "outputs": [],
   "source": [
    "class ImportarDados():\n",
    "    @property\n",
    "    def base_original(self) -> pd.DataFrame:\n",
    "        \"\"\"\n",
    "        Coletar dados da base de dados\n",
    "        \"\"\"\n",
    "        #dados = pd.read_csv(\"/content/drive/MyDrive/projeto/teste_indicium_precificacao.csv\")\n",
    "        dados = pd.read_csv(\"./Dados/teste_indicium_precificacao.csv\")\n",
    "        eliminar_zeros = dados.loc[dados['price'] == 0].index\n",
    "        dados = dados.drop(axis=1, index=eliminar_zeros)\n",
    "        return dados\n",
    "\n",
    "    @property\n",
    "    def base_universidades(self) -> pd.DataFrame:\n",
    "        \"\"\"\n",
    "        Coletar dados universidade\n",
    "        \"\"\"\n",
    "        dados = pd.read_csv(\"./Dados/city_uni.csv\")\n",
    "        #dados = pd.read_csv(\"/content/drive/MyDrive/projeto/city_uni.csv\")\n",
    "        dados.columns = [i.lower() for i in dados.columns]\n",
    "        return dados\n",
    "\n",
    "    def base_subway(self) -> pd.DataFrame:\n",
    "        \"\"\"\n",
    "          Coltear dados do metrô\n",
    "        \"\"\"\n",
    "        # URL do site do governo de Nova York com os dados das entradas das estações\n",
    "        tabela = pd.read_csv('https://data.ny.gov/resource/i9wp-a4ja.csv')\n",
    "\n",
    "        #Os dados de interesse são somente a região e as coordenadas da entrada. Então já podemos fazer o filtro.\n",
    "        tabela = tabela.loc[:,['station_name','borough','entrance_latitude','entrance_longitude']]\n",
    "\n",
    "        # O dados da região estão no formato reduzido, então a função map será usada para ajustar.\n",
    "        tabela['borough'] = tabela['borough'].map(\n",
    "                                    {\n",
    "                                        'M':'Manhattan',\n",
    "                                        'Q':'Queens',\n",
    "                                        'B':'Brooklyn',\n",
    "                                        'Bx':'Bronx'\n",
    "                                    }\n",
    "                                )\n",
    "\n",
    "        # Abaixo estou removendo os dados duplicados e resetando o índice.\n",
    "        tabela = tabela.drop_duplicates().reset_index(drop=True)\n",
    "        tabela.columns = ['station_name','borough','latitude','longitude']\n",
    "\n",
    "        return tabela\n",
    "\n",
    "    def obter_geoloc(self, station: str) -> list:\n",
    "        \"\"\"\n",
    "        O objetivo dessa função é coletar a posição geográfica de cada estação de trem da Staten Island.\n",
    "        Staten Island é um distrito mais afastado de Nova York e só apresenta linhas de trem, sem nenhum metrô.\n",
    "        \"\"\"\n",
    "        geolocator = Nominatim(user_agent=\"localizador\") # Função que permite retornar a latitude e longitude de um local somente com o texto.\n",
    "        loc = geolocator.geocode(f'{station}, staten island ,New York', language='en') # Aplicando a função\n",
    "\n",
    "\n",
    "        return [station, loc.latitude, loc.longitude] # retornando as informações.\n",
    "\n",
    "\n",
    "    def base_trem(self) -> pd.DataFrame:\n",
    "        \"\"\"\n",
    "        Coletar dados das estações de trem em staten island\n",
    "        \"\"\"\n",
    "        # Importando tabela das estações de trem de staten island\n",
    "        staten_island = pd.read_html('https://en.wikipedia.org/wiki/List_of_Staten_Island_Railway_stations', header=0)[1]\n",
    "\n",
    "        # Separando somente o nome de cada estação\n",
    "        staten_island = staten_island['Name']\n",
    "\n",
    "        # Criar lista para salvar a estação, latitude e longitude.\n",
    "        staten_resultados = list()\n",
    "        for col in staten_island:\n",
    "            staten_resultados.append(self.obter_geoloc(col))\n",
    "\n",
    "        # Dataset contendo a latitude e longitude.\n",
    "        df_staten = pd.DataFrame(staten_resultados, columns=['station_name','latitude','longitude'])\n",
    "        df_staten['borough'] = ['Staten Island' for i in range(df_staten.shape[0])]\n",
    "        return df_staten\n",
    "\n",
    "    @property\n",
    "    def base_stations(self) -> pd.DataFrame:\n",
    "        \"\"\"\n",
    "        Concatenar Dados\n",
    "        \"\"\"\n",
    "        # Concatenando ambas os datasets.\n",
    "        df_stations = pd.concat([self.base_trem(), self.base_subway()], ignore_index=True)\n",
    "        return df_stations\n",
    "\n",
    "\n",
    "    def obter_geoloc_turismo(self, local: str) -> list:\n",
    "        \"\"\"\n",
    "        O objetivo dessa função é coletar a posição geográfica de 12 pontos turísticosda cidade de New York\n",
    "        \"\"\"\n",
    "\n",
    "        # A funçaõ abaixo vai permitir converter endereços em uma localização geográfica.\n",
    "        geolocator = Nominatim(user_agent=\"localizador\")\n",
    "        loc = geolocator.geocode(f'{local}, New York', language='en')\n",
    "\n",
    "        return [local, loc.latitude, loc.longitude]\n",
    "\n",
    "        # Principais 12 pontos turísticos.\n",
    "\n",
    "\n",
    "    @property\n",
    "    def base_turismo(self)  -> pd.DataFrame:\n",
    "        \"\"\"\n",
    "        Coletar posição geográfica de pontos turisticos\n",
    "        \"\"\"\n",
    "\n",
    "\n",
    "        turismo = ['Empire State Building','Grand Central Terminal','Memorial','The Metropolitan Museum',\n",
    "                   'Statue of Liberty','Times Square','Broadway', 'Wall Street','One World Observatory',\n",
    "                   'Brooklyn Museum','Central Park','Museum of Natural History']\n",
    "        # Criar uma lista para salvar os resultados. Rodar um looping para cada localidade.\n",
    "        locais = list()\n",
    "        for i in turismo:\n",
    "            locais.append(self.obter_geoloc_turismo(i))\n",
    "        df_turismo = pd.DataFrame(locais, columns=['turism_place','latitude','longitude'])\n",
    "        return df_turismo"
   ]
  },
  {
   "cell_type": "code",
   "execution_count": 4,
   "id": "e06418da",
   "metadata": {
    "executionInfo": {
     "elapsed": 6,
     "status": "ok",
     "timestamp": 1707252454302,
     "user": {
      "displayName": "Alcide Gabriel P. Coutinho Maciel",
      "userId": "18324768684938800470"
     },
     "user_tz": 180
    },
    "id": "e06418da"
   },
   "outputs": [],
   "source": [
    "class ColetaDadosDistancia(BaseEstimator, TransformerMixin):\n",
    "\n",
    "    def metodo_euclidiano(self, subway: pd.DataFrame, coluna: str, df_referencial: list) -> float:\n",
    "        \"\"\"\n",
    "        O cálculo será realizado para medir a distância euclidiana com base na latitude e longitude das estações com cada hostel.\n",
    "        \"\"\"\n",
    "        menor_distancia = float('inf') # Salvar qual a menor distancia\n",
    "        ponto_mais_proximo = None # Qual é o ponto mais próximo\n",
    "        dt_subway = subway.copy()\n",
    "\n",
    "        if coluna == 'borough': # Realizar o filtro com base no distrito\n",
    "            dt_subway = dt_subway.loc[dt_subway[coluna] == df_referencial[0]]\n",
    "\n",
    "        ponto_referencia = df_referencial[1:]\n",
    "        pontos = dt_subway[['latitude','longitude']].to_numpy()\n",
    "\n",
    "        for ponto in pontos: # Loop do cálculo\n",
    "            distancia = self.calcular_distancia(ponto, ponto_referencia)\n",
    "            if distancia < menor_distancia:\n",
    "                menor_distancia = distancia\n",
    "                ponto_mais_proximo = ponto\n",
    "\n",
    "        # Retonar a distância em KM do menor ponto\n",
    "        return geodesic((ponto_mais_proximo[0],ponto_mais_proximo[1]), (ponto_referencia[0], ponto_referencia[1])).km\n",
    "\n",
    "    def calcular_distancia(self, ponto1: tuple, ponto2: tuple) -> float:\n",
    "        \"\"\"\n",
    "        Cálculo da distância euclidiana\n",
    "        \"\"\"\n",
    "        x1, y1 = ponto1\n",
    "        x2, y2 = ponto2\n",
    "        return math.sqrt((x2 - x1)**2 + (y2 - y1)**2)\n",
    "\n",
    "    def fit(self, X, y=None) -> None:\n",
    "        return self\n",
    "\n",
    "    def transform(self, dados: pd.DataFrame) -> None:\n",
    "        # Importar dados\n",
    "        dt = dados.copy()\n",
    "        station = ImportarDados().base_stations\n",
    "        uni = ImportarDados().base_turismo\n",
    "        turismo = ImportarDados().base_turismo\n",
    "\n",
    "        # ==== Coletando dados de metro\n",
    "\n",
    "        resultado = list()\n",
    "        for n,valores in tqdm(dt.iterrows(), total=len(dt), desc=\"Distancia Metrô\"):\n",
    "            resultado.append(ColetaDadosDistancia().metodo_euclidiano(station,'borough' ,[valores['bairro_group'], valores['latitude'], valores['longitude']]))\n",
    "        dt['distacia_metro'] = resultado\n",
    "\n",
    "        # ==== Coletando dados Universidade\n",
    "\n",
    "        resultado_uni = list()\n",
    "        for n,valores in tqdm(dt.iterrows(), total=len(dt), desc=\"Distancia Universidade\"):\n",
    "            resultado_uni.append(ColetaDadosDistancia().metodo_euclidiano(uni,'city' ,[valores['bairro_group'], valores['latitude'], valores['longitude']]))\n",
    "        dt['distacia_uni'] = resultado_uni\n",
    "\n",
    "        # ==== Coletando dados Turismo\n",
    "        for i, ponto_turistico in tqdm(turismo.iterrows(), total=len(turismo), desc=\"Distância Pontos Turísticos\"):\n",
    "            resultado_turismo = list()\n",
    "            for n,valores in dt.iterrows():\n",
    "                resultado_turismo.append(geodesic((ponto_turistico['latitude'],ponto_turistico['longitude']), (valores['latitude'], valores['longitude'])).km)\n",
    "            nome = ponto_turistico['turism_place'].lower().replace(' ','_')\n",
    "            dt[nome] = resultado_turismo\n",
    "\n",
    "        return dt\n",
    "\n"
   ]
  },
  {
   "cell_type": "code",
   "execution_count": 5,
   "id": "ba5f84cd",
   "metadata": {
    "executionInfo": {
     "elapsed": 2,
     "status": "ok",
     "timestamp": 1707252490472,
     "user": {
      "displayName": "Alcide Gabriel P. Coutinho Maciel",
      "userId": "18324768684938800470"
     },
     "user_tz": 180
    },
    "id": "ba5f84cd"
   },
   "outputs": [],
   "source": [
    "class TransformacaoTemporal(BaseEstimator, TransformerMixin):\n",
    "    \"\"\"\n",
    "    Função ira decompor os dados temporais\n",
    "    \"\"\"\n",
    "    def fit(self, X: pd.DataFrame, y: pd.Series =None) -> None:\n",
    "        return self\n",
    "\n",
    "    def transform(self, X: pd.DataFrame) -> pd.DataFrame:\n",
    "        ## Passar para o formato Date Time.\n",
    "        date_time = pd.to_datetime(X['ultima_review']).copy()\n",
    "        df_temporal = X.copy()\n",
    "\n",
    "        ## Extração de dados temporais\n",
    "            # Dia\n",
    "        df_temporal['dia'] = date_time.dt.day\n",
    "            # Mês\n",
    "        df_temporal['mes'] = date_time.dt.month\n",
    "            # Dia da semana\n",
    "        df_temporal['dia_semana']  = date_time.dt.day_name()\n",
    "            # Final de semana ou não.\n",
    "        df_temporal['fim_de_semana']  = date_time.dt.day_of_week.apply(lambda x: 'final_de_semana' if x in [5, 6] else ('dia_de_semana' if pd.notna(x) else 'Não informado'))\n",
    "            # Se é feriado ou não.\n",
    "        country_code = 'US'\n",
    "        feriados = holidays.CountryHoliday(country_code)\n",
    "        # Função abaixo irá retornar se é feriado, se não é ou se não foi registrado.\n",
    "        df_temporal['feriado']  = date_time.apply(lambda x: 'Feriado' if x in feriados else('Não Feriado' if pd.notna(x) else 'Não informado'))\n",
    "\n",
    "        # Preencher vazios por falta de review nos numéricos\n",
    "        for col in ['dia','mes','reviews_por_mes']:\n",
    "            df_temporal[col] = df_temporal[col].fillna(0)\n",
    "\n",
    "        # Preencher vazios por falta de review no nominal.\n",
    "        df_temporal['dia_semana'] = df_temporal['dia_semana'].fillna('Não informado')\n",
    "\n",
    "        df_temporal = df_temporal.drop(axis=0,columns=['ultima_review'])\n",
    "\n",
    "        return df_temporal"
   ]
  },
  {
   "cell_type": "markdown",
   "id": "2_dDWbxzorH0",
   "metadata": {
    "id": "2_dDWbxzorH0"
   },
   "source": [
    "--- \n",
    "<div class=\"anchor\" style = \" box-shadow: 10px 10px 5px 0px rgb(0,32,46);\n",
    "                             text-align: center; background-color:#bc8f8f;color: \twhite;\n",
    "                             font-size:120%; font-family:newtimeroman; border-radius: 15px 15px\" id = \"rl\">\n",
    "    <br>\n",
    "    <h1>Regressão Linear</h1>\n",
    "    <br>\n",
    "    <br>\n",
    "</div>\n",
    "\n",
    "<div>\n"
   ]
  },
  {
   "cell_type": "markdown",
   "id": "52adda14",
   "metadata": {},
   "source": [
    "<div class=\"anchor\" style = \" box-shadow: 10px 10px 5px 0px rgb(0,32,46);\n",
    "                             text-align: center; background-color:#d9b2b2;color:black;\n",
    "                             font-size:120%; font-family:newtimeroman; border-radius: 15px 15px\" id = \"rl.1\">\n",
    "<br>\n",
    "<h2>Funções do Modelo de Regressão Linear</h2>\n",
    "<br>\n",
    "</div>\n"
   ]
  },
  {
   "cell_type": "code",
   "execution_count": 6,
   "id": "vSZ_7-46ox3z",
   "metadata": {
    "executionInfo": {
     "elapsed": 287,
     "status": "ok",
     "timestamp": 1707251926859,
     "user": {
      "displayName": "Alcide Gabriel P. Coutinho Maciel",
      "userId": "18324768684938800470"
     },
     "user_tz": 180
    },
    "id": "vSZ_7-46ox3z"
   },
   "outputs": [],
   "source": [
    "class ModeloLinear:\n",
    "    def aval_model(self, sumario) -> pd.DataFrame:\n",
    "        tabela = pd.DataFrame(sumario.tables[0], columns = ['Atributos','coef','std','t','P>|t|','[0.025','0.975'])\n",
    "        tabela.drop(0,axis=0, inplace=True)\n",
    "        for i in tabela:\n",
    "            tabela[i] = tabela[i].astype(str).astype(str)\n",
    "       # tabela.set_index('Atributos',inplace=True)\n",
    "        tabela.set_index('Atributos', inplace=True)\n",
    "        for i in tabela:\n",
    "            tabela[i] = tabela[i].astype(str).astype(float)\n",
    "\n",
    "        #display(tabela.style.highlight_between(left=0, right=0.1,subset='P>|t|'))\n",
    "        return tabela\n",
    "\n",
    "    def dados_originais(self, X: pd.DataFrame) -> pd.DataFrame:\n",
    "\n",
    "        dt = X.copy()\n",
    "        dt = dt.drop(axis=0, columns=['id','nome','host_id','host_name','ultima_review'])\n",
    "        dt['reviews_por_mes'] = dt['reviews_por_mes'].fillna(0)\n",
    "\n",
    "        # Selecionando dados categóricos\n",
    "        categoricos = ['bairro','bairro_group','room_type']\n",
    "        # Selecionando as variáveis numéricas\n",
    "        numericos =  list(set(dt.columns.tolist()) - set(categoricos))\n",
    "        numericos.remove('price')\n",
    "        # Adaptando os dados Categóricos para o modelo do Statsmodels.\n",
    "        categoricos = [f\"C({x})\" for x in categoricos]\n",
    "        # Adicionando o + para passar na função.\n",
    "        categoricos = ' + '.join(categoricos)\n",
    "        numericos = ' + '.join(numericos)\n",
    "\n",
    "        reg = smf.ols(f\"price ~ {numericos} + {categoricos}\", data=dt).fit()\n",
    "        return reg.summary().tables[0]\n",
    "\n",
    "\n",
    "    def dados_tempo(self, X: pd.DataFrame) -> pd.DataFrame:\n",
    "\n",
    "        dt = X.copy()\n",
    "        dt = dt.drop(axis=0, columns=['id','nome','host_id','host_name'])\n",
    "        dt['reviews_por_mes'] = dt['reviews_por_mes'].fillna(0)\n",
    "        dt = TransformacaoTemporal().fit_transform(dt)\n",
    "\n",
    "        # Selecionando dados categóricos\n",
    "        categoricos = ['bairro','bairro_group','room_type','dia_semana','fim_de_semana','feriado']\n",
    "        # Selecionando as variáveis numéricas\n",
    "        numericos =  list(set(dt.columns.tolist()) - set(categoricos))\n",
    "        numericos.remove('price')\n",
    "        # Adaptando os dados Categóricos para o modelo do Statsmodels.\n",
    "        categoricos = [f\"C({x})\" for x in categoricos]\n",
    "        # Adicionando o + para passar na função.\n",
    "        categoricos = ' + '.join(categoricos)\n",
    "        numericos = ' + '.join(numericos)\n",
    "\n",
    "        reg = smf.ols(f\"price ~ {numericos} + {categoricos}\", data=dt).fit()\n",
    "        return reg.summary().tables[0]\n",
    "\n",
    "    def dados_distancia(self,X: pd.DataFrame) -> pd.DataFrame:\n",
    "        dt = X.copy()\n",
    "        dt = dt.drop(axis=0, columns=['id','nome','host_id','host_name'])\n",
    "        dt['reviews_por_mes'] = dt['reviews_por_mes'].fillna(0)\n",
    "\n",
    "        # Selecionando dados categóricos\n",
    "        categoricos = ['bairro','bairro_group','room_type','dia_semana','fim_de_semana','feriado']\n",
    "        # Selecionando as variáveis numéricas\n",
    "        numericos =  list(set(dt.columns.tolist()) - set(categoricos))\n",
    "        numericos.remove('price')\n",
    "        # Adaptando os dados Categóricos para o modelo do Statsmodels.\n",
    "        categoricos = [f\"C({x})\" for x in categoricos]\n",
    "        # Adicionando o + para passar na função.\n",
    "        categoricos = ' + '.join(categoricos)\n",
    "        numericos = ' + '.join(numericos)\n",
    "\n",
    "        reg = smf.ols(f\"price ~ {numericos} + {categoricos}\", data=dt).fit()\n",
    "        return reg.summary().tables[0]\n",
    "\n",
    "    def matrix_corr(self, entrada: pd.DataFrame) -> None:\n",
    "        plt.figure(figsize=(10,8))\n",
    "        correl = abs(entrada.corr(method='spearman'))\n",
    "        correl[(correl <.8) & (correl > -.8)] = 0\n",
    "        col = correl.sum(1)[correl.sum(1)>1].index\n",
    "        correl = correl.loc[col,col]\n",
    "        mask = np.triu(np.ones_like(correl, dtype=bool))\n",
    "        sns.heatmap(correl[col], mask=mask, cbar=False, annot=True)\n",
    "\n",
    "\n",
    "    def dados_ajustados(self, X: pd.DataFrame) -> pd.DataFrame:\n",
    "        dt = X.copy()\n",
    "        dt = dt.drop(axis=0, columns=['id','nome','host_id','host_name','museum_of_natural_history','the_metropolitan_museum','statue_of_liberty','times_square','grand_central_terminal','one_world_observatory'])\n",
    "        dt['reviews_por_mes'] = dt['reviews_por_mes'].fillna(0)\n",
    "\n",
    "        # Selecionando dados categóricos\n",
    "        categoricos = ['bairro','bairro_group','room_type','dia_semana','fim_de_semana','feriado']\n",
    "        # Selecionando as variáveis numéricas\n",
    "        numericos =  list(set(dt.columns.tolist()) - set(categoricos))\n",
    "        numericos.remove('price')\n",
    "\n",
    "        for col in dt.select_dtypes(include=np.number).min()[(dt.select_dtypes(include=np.number).min() == 0) ].index.tolist():\n",
    "            dt[col] = dt[col] + 1\n",
    "\n",
    "        # Criar o Binning das variáveis numéricas.\n",
    "        for col in numericos:\n",
    "            dt[f\"cat_{col}\"] = pd.cut(dt[col], 8)\n",
    "            categoricos.append(f\"cat_{col}\")\n",
    "\n",
    "        # Aplicar a transformação linear nos dados.\n",
    "        numericos = [f\"np.log({x})\" if dt[x].min() > 0 else x for x in numericos]\n",
    "        # Adaptando os dados Categóricos para o modelo do Statsmodels.\n",
    "        categoricos = [f\"C({x})\" for x in categoricos]\n",
    "        # Adicionando o + para passar na função.\n",
    "        categoricos = ' + '.join(categoricos)\n",
    "        numericos = ' + '.join(numericos)\n",
    "\n",
    "        reg = smf.ols(f\"np.log(price) ~ {numericos} + {categoricos}\", data=dt).fit()\n",
    "        return reg.summary().tables[0]\n",
    "\n",
    "\n"
   ]
  },
  {
   "cell_type": "markdown",
   "id": "92564c64",
   "metadata": {},
   "source": [
    "<div class=\"anchor\" style = \" box-shadow: 10px 10px 5px 0px rgb(0,32,46);\n",
    "                             text-align: center; background-color:#d9b2b2;color:black;\n",
    "                             font-size:120%; font-family:newtimeroman; border-radius: 15px 15px\" id = \"rl.2\">\n",
    "<br>\n",
    "<h2>Análise dos Modelos</h2>\n",
    "<br>\n",
    "</div>\n"
   ]
  },
  {
   "cell_type": "code",
   "execution_count": 9,
   "id": "e6d1892a",
   "metadata": {
    "executionInfo": {
     "elapsed": 319,
     "status": "ok",
     "timestamp": 1707251939922,
     "user": {
      "displayName": "Alcide Gabriel P. Coutinho Maciel",
      "userId": "18324768684938800470"
     },
     "user_tz": 180
    },
    "id": "e6d1892a"
   },
   "outputs": [],
   "source": [
    "df = ImportarDados().base_original"
   ]
  },
  {
   "cell_type": "code",
   "execution_count": null,
   "id": "nmKZkys1oyAj",
   "metadata": {
    "colab": {
     "base_uri": "https://localhost:8080/",
     "height": 227
    },
    "executionInfo": {
     "elapsed": 3892,
     "status": "ok",
     "timestamp": 1707227753977,
     "user": {
      "displayName": "Alcide Gabriel P. Coutinho Maciel",
      "userId": "18324768684938800470"
     },
     "user_tz": 180
    },
    "id": "nmKZkys1oyAj",
    "outputId": "0b63ecec-19c4-4a0e-904d-80ebbe3676a3"
   },
   "outputs": [
    {
     "data": {
      "text/html": [
       "<table class=\"simpletable\">\n",
       "<caption>OLS Regression Results</caption>\n",
       "<tr>\n",
       "  <th>Dep. Variable:</th>          <td>price</td>      <th>  R-squared:         </th>  <td>   0.117</td>  \n",
       "</tr>\n",
       "<tr>\n",
       "  <th>Model:</th>                   <td>OLS</td>       <th>  Adj. R-squared:    </th>  <td>   0.113</td>  \n",
       "</tr>\n",
       "<tr>\n",
       "  <th>Method:</th>             <td>Least Squares</td>  <th>  F-statistic:       </th>  <td>   28.22</td>  \n",
       "</tr>\n",
       "<tr>\n",
       "  <th>Date:</th>             <td>Tue, 06 Feb 2024</td> <th>  Prob (F-statistic):</th>   <td>  0.00</td>   \n",
       "</tr>\n",
       "<tr>\n",
       "  <th>Time:</th>                 <td>13:55:53</td>     <th>  Log-Likelihood:    </th> <td>-3.3426e+05</td>\n",
       "</tr>\n",
       "<tr>\n",
       "  <th>No. Observations:</th>      <td> 48883</td>      <th>  AIC:               </th>  <td>6.690e+05</td> \n",
       "</tr>\n",
       "<tr>\n",
       "  <th>Df Residuals:</th>          <td> 48653</td>      <th>  BIC:               </th>  <td>6.710e+05</td> \n",
       "</tr>\n",
       "<tr>\n",
       "  <th>Df Model:</th>              <td>   229</td>      <th>                     </th>      <td> </td>     \n",
       "</tr>\n",
       "<tr>\n",
       "  <th>Covariance Type:</th>      <td>nonrobust</td>    <th>                     </th>      <td> </td>     \n",
       "</tr>\n",
       "</table>"
      ],
      "text/latex": [
       "\\begin{center}\n",
       "\\begin{tabular}{lclc}\n",
       "\\toprule\n",
       "\\textbf{Dep. Variable:}    &      price       & \\textbf{  R-squared:         } &      0.117   \\\\\n",
       "\\textbf{Model:}            &       OLS        & \\textbf{  Adj. R-squared:    } &      0.113   \\\\\n",
       "\\textbf{Method:}           &  Least Squares   & \\textbf{  F-statistic:       } &      28.22   \\\\\n",
       "\\textbf{Date:}             & Tue, 06 Feb 2024 & \\textbf{  Prob (F-statistic):} &      0.00    \\\\\n",
       "\\textbf{Time:}             &     13:55:53     & \\textbf{  Log-Likelihood:    } & -3.3426e+05  \\\\\n",
       "\\textbf{No. Observations:} &       48883      & \\textbf{  AIC:               } &  6.690e+05   \\\\\n",
       "\\textbf{Df Residuals:}     &       48653      & \\textbf{  BIC:               } &  6.710e+05   \\\\\n",
       "\\textbf{Df Model:}         &         229      & \\textbf{                     } &              \\\\\n",
       "\\textbf{Covariance Type:}  &    nonrobust     & \\textbf{                     } &              \\\\\n",
       "\\bottomrule\n",
       "\\end{tabular}\n",
       "%\\caption{OLS Regression Results}\n",
       "\\end{center}"
      ],
      "text/plain": [
       "<class 'statsmodels.iolib.table.SimpleTable'>"
      ]
     },
     "execution_count": 139,
     "metadata": {},
     "output_type": "execute_result"
    }
   ],
   "source": [
    "ModeloLinear().dados_originais(df)"
   ]
  },
  {
   "cell_type": "code",
   "execution_count": null,
   "id": "nP0wKRQIoyFV",
   "metadata": {
    "colab": {
     "base_uri": "https://localhost:8080/",
     "height": 227
    },
    "executionInfo": {
     "elapsed": 5505,
     "status": "ok",
     "timestamp": 1707228068115,
     "user": {
      "displayName": "Alcide Gabriel P. Coutinho Maciel",
      "userId": "18324768684938800470"
     },
     "user_tz": 180
    },
    "id": "nP0wKRQIoyFV",
    "outputId": "3623d65f-944d-4b66-8315-c24ee0890fa2"
   },
   "outputs": [
    {
     "data": {
      "text/html": [
       "<table class=\"simpletable\">\n",
       "<caption>OLS Regression Results</caption>\n",
       "<tr>\n",
       "  <th>Dep. Variable:</th>          <td>price</td>      <th>  R-squared:         </th>  <td>   0.122</td>  \n",
       "</tr>\n",
       "<tr>\n",
       "  <th>Model:</th>                   <td>OLS</td>       <th>  Adj. R-squared:    </th>  <td>   0.118</td>  \n",
       "</tr>\n",
       "<tr>\n",
       "  <th>Method:</th>             <td>Least Squares</td>  <th>  F-statistic:       </th>  <td>   27.24</td>  \n",
       "</tr>\n",
       "<tr>\n",
       "  <th>Date:</th>             <td>Tue, 06 Feb 2024</td> <th>  Prob (F-statistic):</th>   <td>  0.00</td>   \n",
       "</tr>\n",
       "<tr>\n",
       "  <th>Time:</th>                 <td>14:01:08</td>     <th>  Log-Likelihood:    </th> <td>-3.3412e+05</td>\n",
       "</tr>\n",
       "<tr>\n",
       "  <th>No. Observations:</th>      <td> 48883</td>      <th>  AIC:               </th>  <td>6.687e+05</td> \n",
       "</tr>\n",
       "<tr>\n",
       "  <th>Df Residuals:</th>          <td> 48633</td>      <th>  BIC:               </th>  <td>6.709e+05</td> \n",
       "</tr>\n",
       "<tr>\n",
       "  <th>Df Model:</th>              <td>   249</td>      <th>                     </th>      <td> </td>     \n",
       "</tr>\n",
       "<tr>\n",
       "  <th>Covariance Type:</th>      <td>nonrobust</td>    <th>                     </th>      <td> </td>     \n",
       "</tr>\n",
       "</table>"
      ],
      "text/latex": [
       "\\begin{center}\n",
       "\\begin{tabular}{lclc}\n",
       "\\toprule\n",
       "\\textbf{Dep. Variable:}    &      price       & \\textbf{  R-squared:         } &      0.122   \\\\\n",
       "\\textbf{Model:}            &       OLS        & \\textbf{  Adj. R-squared:    } &      0.118   \\\\\n",
       "\\textbf{Method:}           &  Least Squares   & \\textbf{  F-statistic:       } &      27.24   \\\\\n",
       "\\textbf{Date:}             & Tue, 06 Feb 2024 & \\textbf{  Prob (F-statistic):} &      0.00    \\\\\n",
       "\\textbf{Time:}             &     14:01:08     & \\textbf{  Log-Likelihood:    } & -3.3412e+05  \\\\\n",
       "\\textbf{No. Observations:} &       48883      & \\textbf{  AIC:               } &  6.687e+05   \\\\\n",
       "\\textbf{Df Residuals:}     &       48633      & \\textbf{  BIC:               } &  6.709e+05   \\\\\n",
       "\\textbf{Df Model:}         &         249      & \\textbf{                     } &              \\\\\n",
       "\\textbf{Covariance Type:}  &    nonrobust     & \\textbf{                     } &              \\\\\n",
       "\\bottomrule\n",
       "\\end{tabular}\n",
       "%\\caption{OLS Regression Results}\n",
       "\\end{center}"
      ],
      "text/plain": [
       "<class 'statsmodels.iolib.table.SimpleTable'>"
      ]
     },
     "execution_count": 145,
     "metadata": {},
     "output_type": "execute_result"
    }
   ],
   "source": [
    "ModeloLinear().dados_tempo(df)"
   ]
  },
  {
   "cell_type": "code",
   "execution_count": 10,
   "id": "ce17334a",
   "metadata": {},
   "outputs": [
    {
     "name": "stderr",
     "output_type": "stream",
     "text": [
      "Distancia Metrô: 100%|██████████████████████████████████████████████████████████| 48883/48883 [00:54<00:00, 902.78it/s]\n",
      "Distancia Universidade: 100%|██████████████████████████████████████████████████| 48883/48883 [00:26<00:00, 1818.59it/s]\n",
      "Distância Pontos Turísticos: 100%|█████████████████████████████████████████████████████| 12/12 [01:29<00:00,  7.46s/it]\n"
     ]
    }
   ],
   "source": [
    "# Criar pipeline para carregar os dados da distância.\n",
    "pipe = Pipeline([\n",
    "    ('distancia',ColetaDadosDistancia()),\n",
    "    ('tempo', TransformacaoTemporal())\n",
    "])\n",
    "# Criar dataset com os dados de distancia e tempo\n",
    "df_completo = pipe.fit_transform(df)"
   ]
  },
  {
   "cell_type": "code",
   "execution_count": 11,
   "id": "36fc8219",
   "metadata": {},
   "outputs": [
    {
     "data": {
      "text/html": [
       "<table class=\"simpletable\">\n",
       "<caption>OLS Regression Results</caption>\n",
       "<tr>\n",
       "  <th>Dep. Variable:</th>          <td>price</td>      <th>  R-squared:         </th>  <td>   0.124</td>  \n",
       "</tr>\n",
       "<tr>\n",
       "  <th>Model:</th>                   <td>OLS</td>       <th>  Adj. R-squared:    </th>  <td>   0.120</td>  \n",
       "</tr>\n",
       "<tr>\n",
       "  <th>Method:</th>             <td>Least Squares</td>  <th>  F-statistic:       </th>  <td>   27.27</td>  \n",
       "</tr>\n",
       "<tr>\n",
       "  <th>Date:</th>             <td>Tue, 06 Feb 2024</td> <th>  Prob (F-statistic):</th>   <td>  0.00</td>   \n",
       "</tr>\n",
       "<tr>\n",
       "  <th>Time:</th>                 <td>20:49:11</td>     <th>  Log-Likelihood:    </th> <td>-3.3406e+05</td>\n",
       "</tr>\n",
       "<tr>\n",
       "  <th>No. Observations:</th>      <td> 48883</td>      <th>  AIC:               </th>  <td>6.686e+05</td> \n",
       "</tr>\n",
       "<tr>\n",
       "  <th>Df Residuals:</th>          <td> 48629</td>      <th>  BIC:               </th>  <td>6.709e+05</td> \n",
       "</tr>\n",
       "<tr>\n",
       "  <th>Df Model:</th>              <td>   253</td>      <th>                     </th>      <td> </td>     \n",
       "</tr>\n",
       "<tr>\n",
       "  <th>Covariance Type:</th>      <td>nonrobust</td>    <th>                     </th>      <td> </td>     \n",
       "</tr>\n",
       "</table>"
      ],
      "text/latex": [
       "\\begin{center}\n",
       "\\begin{tabular}{lclc}\n",
       "\\toprule\n",
       "\\textbf{Dep. Variable:}    &      price       & \\textbf{  R-squared:         } &      0.124   \\\\\n",
       "\\textbf{Model:}            &       OLS        & \\textbf{  Adj. R-squared:    } &      0.120   \\\\\n",
       "\\textbf{Method:}           &  Least Squares   & \\textbf{  F-statistic:       } &      27.27   \\\\\n",
       "\\textbf{Date:}             & Tue, 06 Feb 2024 & \\textbf{  Prob (F-statistic):} &      0.00    \\\\\n",
       "\\textbf{Time:}             &     20:49:11     & \\textbf{  Log-Likelihood:    } & -3.3406e+05  \\\\\n",
       "\\textbf{No. Observations:} &       48883      & \\textbf{  AIC:               } &  6.686e+05   \\\\\n",
       "\\textbf{Df Residuals:}     &       48629      & \\textbf{  BIC:               } &  6.709e+05   \\\\\n",
       "\\textbf{Df Model:}         &         253      & \\textbf{                     } &              \\\\\n",
       "\\textbf{Covariance Type:}  &    nonrobust     & \\textbf{                     } &              \\\\\n",
       "\\bottomrule\n",
       "\\end{tabular}\n",
       "%\\caption{OLS Regression Results}\n",
       "\\end{center}"
      ],
      "text/plain": [
       "<class 'statsmodels.iolib.table.SimpleTable'>"
      ]
     },
     "execution_count": 11,
     "metadata": {},
     "output_type": "execute_result"
    }
   ],
   "source": [
    "ModeloLinear().dados_distancia(df_completo)"
   ]
  },
  {
   "cell_type": "markdown",
   "id": "EObiFm-Iy24I",
   "metadata": {
    "id": "EObiFm-Iy24I"
   },
   "source": [
    "<div class=\"anchor\" style = \" box-shadow: 5px 5px 5px 0px rgb(0,32,46); background-color:ghostwhite;color: \tblack;\n",
    "                             font-size:120%; font-family:newtimeroman; \" id = \"10\">\n",
    "<ul style=\"text-align: center; font-family:newtimeroman\">\n",
    "<br>\n",
    "<li>Iniciando a análise explicando os elementos-chave, destacamos o R-squared, o adj. R-squared e o F-statistic. O R-squared representa a porcentagem de variação dos dados reais que o modelo é capaz de explicar. O adj. R-squared é uma versão ajustada do R-squared que leva em consideração o número de variáveis independentes no modelo, penalizando a inclusão de variáveis desnecessárias. Por fim, o F-statistic fornece uma medida da significância global do modelo, onde um valor elevado indica que pelo menos uma variável é significativa para a previsão do modelo.\n",
    "    \n",
    "<li>Observa-se que quanto mais informações são adicionadas, melhor os resultados são expressos. No entanto, muitos tratamentos podem ser aplicados para aprimorar a precisão das previsões do modelo. Abordaremos essas técnicas de engenharia de características abaixo, visando melhorar ainda mais os resultados.</li>\n",
    "<li>Iniciaremos avaliando algumas das premissas do modelo de regressão linear, incluindo a ausência de multicolinearidade.</li>\n",
    "<br>\n",
    "</ul>\n",
    "    \n",
    "</div>"
   ]
  },
  {
   "cell_type": "code",
   "execution_count": null,
   "id": "kqp74dRtoyNV",
   "metadata": {
    "colab": {
     "base_uri": "https://localhost:8080/",
     "height": 911
    },
    "executionInfo": {
     "elapsed": 2723,
     "status": "ok",
     "timestamp": 1707229983373,
     "user": {
      "displayName": "Alcide Gabriel P. Coutinho Maciel",
      "userId": "18324768684938800470"
     },
     "user_tz": 180
    },
    "id": "kqp74dRtoyNV",
    "outputId": "f7f72c16-736c-48fa-a93c-2eb435122c8d"
   },
   "outputs": [
    {
     "name": "stderr",
     "output_type": "stream",
     "text": [
      "<ipython-input-155-41e71044fc94>:78: FutureWarning: The default value of numeric_only in DataFrame.corr is deprecated. In a future version, it will default to False. Select only valid columns or specify the value of numeric_only to silence this warning.\n",
      "  correl = abs(entrada.corr(method='spearman'))\n"
     ]
    },
    {
     "data": {
      "image/png": "[encoded data removed]",
      "text/plain": [
       "<Figure size 1000x800 with 1 Axes>"
      ]
     },
     "metadata": {},
     "output_type": "display_data"
    }
   ],
   "source": [
    "ModeloLinear().matrix_corr(df_completo)"
   ]
  },
  {
   "cell_type": "markdown",
   "id": "Gl3Cq6Lp1mBg",
   "metadata": {
    "id": "Gl3Cq6Lp1mBg"
   },
   "source": [
    "\n",
    "<div class=\"anchor\" style = \" box-shadow: 5px 5px 5px 0px rgb(0,32,46); background-color:ghostwhite;color: \tblack;\n",
    "                             font-size:120%; font-family:newtimeroman; \" id = \"10\">\n",
    "<ul style=\"text-align: center; font-family:newtimeroman\">\n",
    "<br>\n",
    "<li>Anteriormente, foi aplicado um filtro para destacar dados com correlação acima e abaixo de 0.8. Observamos que diversos dados apresentam correlações altas, indicando a necessidade de uma filtragem no conjunto de dados.</li>\n",
    "    \n",
    "<li>Os seguintes dados serão removidos: Museu de História Natural, Museu Metropolitano, Estátua da Liberdade, Observatório, Times Square e Grand Central Terminal. Essa decisão baseia-se na proximidade geográfica desses locais com outros pontos de interesse, sugerindo que a remoção dessas variáveis contribuirá para um modelo mais eficiente e com possíveis melhorias nos resultados.</li>\n",
    "    <br>\n",
    "</div>"
   ]
  },
  {
   "cell_type": "code",
   "execution_count": null,
   "id": "-j6El5-S2XrL",
   "metadata": {
    "colab": {
     "base_uri": "https://localhost:8080/",
     "height": 227
    },
    "executionInfo": {
     "elapsed": 16907,
     "status": "ok",
     "timestamp": 1707231190046,
     "user": {
      "displayName": "Alcide Gabriel P. Coutinho Maciel",
      "userId": "18324768684938800470"
     },
     "user_tz": 180
    },
    "id": "-j6El5-S2XrL",
    "outputId": "d78f8821-c3ac-4e4b-bd48-3475053f74af"
   },
   "outputs": [
    {
     "data": {
      "text/html": [
       "<table class=\"simpletable\">\n",
       "<caption>OLS Regression Results</caption>\n",
       "<tr>\n",
       "  <th>Dep. Variable:</th>      <td>np.log(price)</td>  <th>  R-squared:         </th> <td>   0.575</td> \n",
       "</tr>\n",
       "<tr>\n",
       "  <th>Model:</th>                   <td>OLS</td>       <th>  Adj. R-squared:    </th> <td>   0.572</td> \n",
       "</tr>\n",
       "<tr>\n",
       "  <th>Method:</th>             <td>Least Squares</td>  <th>  F-statistic:       </th> <td>   185.5</td> \n",
       "</tr>\n",
       "<tr>\n",
       "  <th>Date:</th>             <td>Tue, 06 Feb 2024</td> <th>  Prob (F-statistic):</th>  <td>  0.00</td>  \n",
       "</tr>\n",
       "<tr>\n",
       "  <th>Time:</th>                 <td>14:53:09</td>     <th>  Log-Likelihood:    </th> <td> -30886.</td> \n",
       "</tr>\n",
       "<tr>\n",
       "  <th>No. Observations:</th>      <td> 48883</td>      <th>  AIC:               </th> <td>6.248e+04</td>\n",
       "</tr>\n",
       "<tr>\n",
       "  <th>Df Residuals:</th>          <td> 48528</td>      <th>  BIC:               </th> <td>6.560e+04</td>\n",
       "</tr>\n",
       "<tr>\n",
       "  <th>Df Model:</th>              <td>   354</td>      <th>                     </th>     <td> </td>    \n",
       "</tr>\n",
       "<tr>\n",
       "  <th>Covariance Type:</th>      <td>nonrobust</td>    <th>                     </th>     <td> </td>    \n",
       "</tr>\n",
       "</table>"
      ],
      "text/latex": [
       "\\begin{center}\n",
       "\\begin{tabular}{lclc}\n",
       "\\toprule\n",
       "\\textbf{Dep. Variable:}    &  np.log(price)   & \\textbf{  R-squared:         } &     0.575  \\\\\n",
       "\\textbf{Model:}            &       OLS        & \\textbf{  Adj. R-squared:    } &     0.572  \\\\\n",
       "\\textbf{Method:}           &  Least Squares   & \\textbf{  F-statistic:       } &     185.5  \\\\\n",
       "\\textbf{Date:}             & Tue, 06 Feb 2024 & \\textbf{  Prob (F-statistic):} &     0.00   \\\\\n",
       "\\textbf{Time:}             &     14:53:09     & \\textbf{  Log-Likelihood:    } &   -30886.  \\\\\n",
       "\\textbf{No. Observations:} &       48883      & \\textbf{  AIC:               } & 6.248e+04  \\\\\n",
       "\\textbf{Df Residuals:}     &       48528      & \\textbf{  BIC:               } & 6.560e+04  \\\\\n",
       "\\textbf{Df Model:}         &         354      & \\textbf{                     } &            \\\\\n",
       "\\textbf{Covariance Type:}  &    nonrobust     & \\textbf{                     } &            \\\\\n",
       "\\bottomrule\n",
       "\\end{tabular}\n",
       "%\\caption{OLS Regression Results}\n",
       "\\end{center}"
      ],
      "text/plain": [
       "<class 'statsmodels.iolib.table.SimpleTable'>"
      ]
     },
     "execution_count": 182,
     "metadata": {},
     "output_type": "execute_result"
    }
   ],
   "source": [
    "ModeloLinear().dados_ajustados(df_completo)"
   ]
  },
  {
   "cell_type": "markdown",
   "id": "w4HNrlEf6UID",
   "metadata": {
    "id": "w4HNrlEf6UID"
   },
   "source": [
    "<div class=\"anchor\" style=\"box-shadow: 5px 5px 5px 0px rgb(0, 32, 46); background-color: ghostwhite; color: black; font-size: 120%; font-family: newtimeroman;\" id=\"10\">\n",
    "    <ul style=\"text-align: left; font-family: newtimeroman\"><br>\n",
    "        <li>Antes de examinarmos os resultados, é crucial explicar todas as transformações realizadas durante o processo de preparação dos dados.</li><br>\n",
    "        <li>Começando pela eliminação de dados com multicolinearidade, uma etapa necessária para atender aos critérios da regressão linear. Durante a análise exploratória, observou-se a presença de outliers em todas as variáveis numéricas. Esses valores discrepantes podem impactar negativamente os modelos de machine learning, e uma premissa fundamental da regressão linear é a ausência desses elementos. Para tratar esse problema, foi aplicado o tratamento de logaritmo (log) mais um (log + 1). Como o logaritmo de 0 é infinito, todos os valores com mínimo igual a zero foram incrementados em 1 antes da aplicação da transformação. A variável 'longitude', que contém valores negativos, não foi transformada devido a essa característica. Embora técnicas como Yeo-Johnson pudessem ser empregadas, por aceitarem valores de zero e negativos, optou-se por manter um padrão na aplicação do log. O mesmo tratamento foi aplicado aos preços, seguindo a mesma lógica do tratamento anterior.</li><br>\n",
    "        <li>O terceiro processo foi o binning, uma técnica de categorização de dados numéricos. Essa técnica é especialmente útil para melhorar a capacidade dos modelos de machine learning em prever os dados.</li><br>\n",
    "        <li>Outra etapa de tratamento que poderia ser realizada é a análise dos valores P gerados pelo modelo do statsmodels. Devido ao grande número de colunas, optou-se por não plotar todos os valores, pois isso resultaria em uma lista extensa para avaliação. No entanto, a análise desses valores pode ser utilizada para realizar uma seleção de características (feature selection).</li><br>\n",
    "        <li>Valores P acima de 0.05 geralmente indicam que a variável correspondente não é estatisticamente significativa para o modelo. Portanto, essas variáveis podem ser eliminadas do modelo para simplificação e melhoria do desempenho. Além disso, a análise dos valores P pode indicar a necessidade de mesclar classes em outras variáveis, a fim de simplificar o modelo de machine learning e aumentar sua eficácia.</li><br>\n",
    "        <li>Um ponto importante a ser esclarecido é que o valor de R² mencionado acima é resultado da previsão feita sobre o próprio conjunto de dados utilizado no treinamento. Em outras palavras, o conjunto de treinamento foi também utilizado como conjunto de teste para avaliar a performance do modelo.</li><br>\n",
    "        <li>A seguir, iremos criar um modelo de Machine Learning onde os dados foram divididos em conjuntos de treinamento, teste e validação. Essa abordagem nos permitirá obter resultados mais realistas e próximos ao desempenho do modelo em situações do mundo real.</li><br>\n",
    "    </ul>\n",
    "</div>"
   ]
  },
  {
   "cell_type": "markdown",
   "id": "c44f88c5",
   "metadata": {},
   "source": [
    "--- \n",
    "<div class=\"anchor\" style = \" box-shadow: 10px 10px 5px 0px rgb(0,32,46);\n",
    "                             text-align: center; background-color:#bc8f8f;color: \twhite;\n",
    "                             font-size:120%; font-family:newtimeroman; border-radius: 15px 15px\" id = \"xgb\">\n",
    "    <br>\n",
    "    <h1>Extreme Gradient Boost</h1>\n",
    "    <br>\n",
    "    <br>\n",
    "</div>\n",
    "\n",
    "<div>"
   ]
  },
  {
   "cell_type": "markdown",
   "id": "3fxV65KxAWlk",
   "metadata": {
    "id": "3fxV65KxAWlk"
   },
   "source": [
    "\n",
    "<div class=\"anchor\" style=\"box-shadow: 5px 5px 5px 0px rgb(0, 32, 46); background-color: ghostwhite; color: black; font-size: 120%; font-family: newtimeroman;\" id=\"10\">\n",
    "    <ul style=\"text-align: left; font-family: newtimeroman\"><br>\n",
    "        <li>Após a análise inicial da regressão linear, costumo aplicar diversas técnicas de machine learning, buscando seguir o princípio da parcimônia. Esse princípio sugere que, em situações em que dois modelos de machine learning apresentam resultados iguais ou próximos, deve-se sempre optar pelo modelo mais simples.</li><br>\n",
    "        <li>Geralmente a construção de um AutoML como Pycaret é uma alternativa interessante para testar uma gama diferente de modelos e técnicas de feature engineering e após algum dos modelos apresentar o destaque, pode-se optar por tunar pelo próprio automl ou aparte (sempre minha opção), mas devido ao limite de tempo, nesse trabalho irei focar somente no método do XGBoost.</li><br>\n",
    "        <li>O XGBoost é uma implementação do algoritmo de Gradient Boosting, que é uma técnica de ensemble learning. O Gradient Boosting funciona construindo árvores de decisão sequencialmente, onde cada nova árvore tenta corrigir os erros cometidos pelos modelos anteriores.</li><br>\n",
    "        <li>O XGBoost é altamente otimizado para eficiência computacional e pode ser paralelizado para aproveitar ao máximo o poder de processamento disponível. Ele utiliza técnicas como amostragem de linhas e colunas, além de otimizações de cache, para acelerar o treinamento do modelo.</li><br>\n",
    "        <li>Como o tempo de desenvolvimento é reduzido, vou usufruir da velocidade do XGBoost. Isso irá possibilitar testar diversas técnicas de feature engineering de maneira mais eficiente e explorar diferentes estratégias para aprimorar o desempenho do modelo. Como resultado, podemos iterar mais rapidamente no processo de desenvolvimento do modelo e entregar melhores resultados em um tempo mais curto.</li><br>\n",
    "    </ul>\n",
    "</div>"
   ]
  },
  {
   "cell_type": "markdown",
   "id": "0d634b43",
   "metadata": {},
   "source": [
    "<div class=\"anchor\" style = \" box-shadow: 10px 10px 5px 0px rgb(0,32,46);\n",
    "                             text-align: center; background-color:#d9b2b2;color:black;\n",
    "                             font-size:120%; font-family:newtimeroman; border-radius: 15px 15px\" id = \"xgb.1\">\n",
    "<br>\n",
    "<h2>Funções</h2>\n",
    "<br>\n",
    "</div>"
   ]
  },
  {
   "cell_type": "code",
   "execution_count": 89,
   "id": "0pSg5AVk4D-T",
   "metadata": {
    "executionInfo": {
     "elapsed": 348,
     "status": "ok",
     "timestamp": 1707254659415,
     "user": {
      "displayName": "Alcide Gabriel P. Coutinho Maciel",
      "userId": "18324768684938800470"
     },
     "user_tz": 180
    },
    "id": "0pSg5AVk4D-T"
   },
   "outputs": [],
   "source": [
    "class ModeloLight:\n",
    "    def dividir(self, dado_entrada, target):\n",
    "        \n",
    "        X = dado_entrada.copy()\n",
    "        y = X.pop(target)\n",
    "        X_train, X_test, y_train, y_test = train_test_split(X,y,random_state=42, train_size=0.85)\n",
    "        X_test, X_val, y_test, y_val = train_test_split(X_test, y_test, random_state=42, train_size=0.95)\n",
    "        print(f\"Tamanho dados treino {X_train.shape}\\nTamanho dados teste {X_test.shape}\\nTamanho dados Validação {X_val.shape}\")\n",
    "        return X_train, X_test, X_val, y_train, y_test, y_val\n",
    "\n",
    "    def modelo(self,_X_train, _y_train, _X_test, _y_test):\n",
    "\n",
    "        # Converter dados para DMatrix\n",
    "        dtrain = xgb.DMatrix(_X_train, label=_y_train)\n",
    "        dtest = xgb.DMatrix(_X_test, label=_y_test)\n",
    "\n",
    "        # Definir parâmetros do modelo\n",
    "        params = {\n",
    "            'objective': 'reg:squarederror',\n",
    "            'eval_metric': 'rmse'\n",
    "        }\n",
    "\n",
    "        # Treinar o modelo\n",
    "        model = xgb.train(params, dtrain, num_boost_round=500, evals=[(dtest, 'eval')], early_stopping_rounds=10, verbose_eval=False)\n",
    "        y_pred = model.predict(dtest)\n",
    "\n",
    "        # Avaliar o modelo\n",
    "        rmse = mean_squared_error(_y_test, y_pred) ** 0.5\n",
    "        r2 = r2_score(_y_test, y_pred)\n",
    "\n",
    "        print(f\"RMSE: {rmse} | R2: {r2}\")\n",
    "        return model"
   ]
  },
  {
   "cell_type": "code",
   "execution_count": 14,
   "id": "S4V9RWnNG2oW",
   "metadata": {
    "executionInfo": {
     "elapsed": 343,
     "status": "ok",
     "timestamp": 1707252751242,
     "user": {
      "displayName": "Alcide Gabriel P. Coutinho Maciel",
      "userId": "18324768684938800470"
     },
     "user_tz": 180
    },
    "id": "S4V9RWnNG2oW"
   },
   "outputs": [],
   "source": [
    "class DataTreatment(BaseEstimator, TransformerMixin):\n",
    "    def __init__(self):\n",
    "        self.binning = ['latitude', 'longitude',  'minimo_noites', 'numero_de_reviews', 'reviews_por_mes',\n",
    "                    'calculado_host_listings_count', 'disponibilidade_365',\n",
    "                    'distacia_metro', 'distacia_uni', 'empire_state_building', 'memorial',\n",
    "                    'broadway', 'wall_street', 'brooklyn_museum', 'central_park']\n",
    "\n",
    "    def fit(self, X, y=None):\n",
    "        # Bins.\n",
    "        self.binning_classes = {}\n",
    "        for col in self.binning:\n",
    "            self.binning_classes[col] = pd.cut(X[col], bins = 10, retbins=True, duplicates='drop')[1]\n",
    "\n",
    "    return self\n",
    "\n",
    "    def transform(self, X, y=None):\n",
    "        dt = X.copy()\n",
    "        dt = dt.drop(axis=0, columns=['id','nome','host_id','host_name','museum_of_natural_history','the_metropolitan_museum','statue_of_liberty'\n",
    "                                      ,'times_square','grand_central_terminal','one_world_observatory'])\n",
    "        dt['reviews_por_mes'] = dt['reviews_por_mes'].fillna(0)\n",
    "\n",
    "        ### Utilizar as classes do treino (em fit) para passar nos dados de entrada.\n",
    "        for col in self.binning:\n",
    "            dt[f\"{col}_cat\"] = pd.cut(dt[col], bins=self.binning_classes[col], labels=False).astype(str)\n",
    "\n",
    "\n",
    "        for col in dt.select_dtypes(include=np.number).min()[(dt.select_dtypes(include=np.number).min() == 0) ].index.tolist():\n",
    "            dt[col] = dt[col] + 1\n",
    "\n",
    "\n",
    "        for col in dt.iloc[:,4:].select_dtypes(include=np.number):\n",
    "            dt[col] = np.log(dt[col])\n",
    "\n",
    "        for col in dt.select_dtypes(exclude=np.number):\n",
    "            dt[col] = LabelEncoder().fit_transform(dt[col])\n",
    "\n",
    "        if y is not None:\n",
    "            return dt, np.log(y)\n",
    "        else:\n",
    "            return dt"
   ]
  },
  {
   "cell_type": "markdown",
   "id": "a9dcdd9c",
   "metadata": {},
   "source": [
    "<div class=\"anchor\" style = \" box-shadow: 10px 10px 5px 0px rgb(0,32,46);\n",
    "                             text-align: center; background-color:#d9b2b2;color:black;\n",
    "                             font-size:120%; font-family:newtimeroman; border-radius: 15px 15px\" id = \"xgb.2\">\n",
    "<br>\n",
    "<h2>Desenvolvimento do modelo</h2>\n",
    "<br>\n",
    "</div>"
   ]
  },
  {
   "cell_type": "code",
   "execution_count": 92,
   "id": "RoZC6-RNGrYb",
   "metadata": {
    "colab": {
     "base_uri": "https://localhost:8080/"
    },
    "executionInfo": {
     "elapsed": 404,
     "status": "ok",
     "timestamp": 1707254671847,
     "user": {
      "displayName": "Alcide Gabriel P. Coutinho Maciel",
      "userId": "18324768684938800470"
     },
     "user_tz": 180
    },
    "id": "RoZC6-RNGrYb",
    "outputId": "f9fc3f1e-0942-45d8-c7ac-87b96fcedf02"
   },
   "outputs": [
    {
     "name": "stdout",
     "output_type": "stream",
     "text": [
      "Tamanho dados treino (41550, 33)\n",
      "Tamanho dados teste (6966, 33)\n",
      "Tamanho dados Validação (367, 33)\n"
     ]
    }
   ],
   "source": [
    " # Divisão dos dados em Treino, Teste e Validação\n",
    "X_train, X_test, X_val, y_train, y_test, y_val = ModeloLight().dividir(df_completo,'price')"
   ]
  },
  {
   "cell_type": "code",
   "execution_count": 93,
   "id": "VrYIl-oAG3Tx",
   "metadata": {
    "executionInfo": {
     "elapsed": 1779,
     "status": "ok",
     "timestamp": 1707254675426,
     "user": {
      "displayName": "Alcide Gabriel P. Coutinho Maciel",
      "userId": "18324768684938800470"
     },
     "user_tz": 180
    },
    "id": "VrYIl-oAG3Tx"
   },
   "outputs": [],
   "source": [
    "modelo_transformador = DataTreatment().fit(X_train)\n",
    "X_train, y_train = modelo_transformador.transform(X_train, y_train)\n",
    "X_test, y_test = modelo_transformador.transform(X_test, y_test)\n",
    "X_val, y_val = modelo_transformador.transform(X_val, y_val)"
   ]
  },
  {
   "cell_type": "code",
   "execution_count": 90,
   "id": "0hMlwllkRxLm",
   "metadata": {
    "colab": {
     "base_uri": "https://localhost:8080/"
    },
    "executionInfo": {
     "elapsed": 1233,
     "status": "ok",
     "timestamp": 1707254663339,
     "user": {
      "displayName": "Alcide Gabriel P. Coutinho Maciel",
      "userId": "18324768684938800470"
     },
     "user_tz": 180
    },
    "id": "0hMlwllkRxLm",
    "outputId": "9aebf450-ce24-49e3-ae8d-49d99a077a25"
   },
   "outputs": [
    {
     "name": "stdout",
     "output_type": "stream",
     "text": [
      "RMSE: 0.4375126822050887 | R2: 0.602540846389183\n"
     ]
    }
   ],
   "source": [
    "modelo = ModeloLight().modelo(X_train, y_train, X_test, y_test)"
   ]
  },
  {
   "cell_type": "code",
   "execution_count": 95,
   "id": "MsJOI2xR0kQV",
   "metadata": {
    "colab": {
     "base_uri": "https://localhost:8080/"
    },
    "executionInfo": {
     "elapsed": 2,
     "status": "ok",
     "timestamp": 1707254760205,
     "user": {
      "displayName": "Alcide Gabriel P. Coutinho Maciel",
      "userId": "18324768684938800470"
     },
     "user_tz": 180
    },
    "id": "MsJOI2xR0kQV",
    "outputId": "2bf605e3-7cae-4705-d534-c03e1f375f52"
   },
   "outputs": [
    {
     "name": "stdout",
     "output_type": "stream",
     "text": [
      "RMSE: 0.430755424187701 | R2: 0.5944179695552\n"
     ]
    }
   ],
   "source": [
    "y_pred_val = modelo.predict(xgb.DMatrix(X_val))\n",
    "rmse = mean_squared_error(y_val, y_pred_val) ** 0.5\n",
    "r2 = r2_score(y_val, y_pred_val)\n",
    "print(f\"RMSE: {rmse} | R2: {r2}\")"
   ]
  },
  {
   "cell_type": "markdown",
   "id": "8tkYb4m6ykGV",
   "metadata": {
    "id": "8tkYb4m6ykGV"
   },
   "source": [
    "<div class=\"anchor\" style=\"box-shadow: 5px 5px 5px 0px rgb(0, 32, 46); background-color: ghostwhite; color: black; font-size: 120%; font-family: newtimeroman;\" id=\"10\">\n",
    "    <ul style=\"text-align: left; font-family: newtimeroman\"><br>\n",
    "        <li> Para explicar o funcionamento das funções, a função <code>ModeloLight().dividir()</code> irá separar os dados em conjuntos de treino, teste e validação. Por outro lado, a função <code>DataTreatment()</code> irá processar e transformar os dados, realizando operações como Binning (transformação de dados numéricos em categóricos), aplicação de power transformation (logaritmo + 1) e codificação de variáveis. Além disso, as variáveis correlacionadas serão removidas durante esse processo.</li><br>\n",
    "        <li> Durante o treinamento do modelo, 85% dos dados foram utilizados para treino e 14.25% para teste, deixando o restante para validação. Após executar e avaliar o modelo, obtemos um R2 de 60% e um RMSE de 0.43. Ao passarmos para a fase de validação, observamos uma queda no R2 para 59%, indicando uma pequena margem de erro. O resultado é interessante pela sua representação, especialmente considerando que o RMSE está em escala logarítmica, o que significa que mesmo uma pequena alteração nesse valor pode representar uma variação considerável no range dos dados.</li><br>\n",
    "        <li> Podemos inferir que mais informações sobre o imóvel, como área do imóvel, condição e avaliações de clientes anteriores, poderiam melhorar o desempenho do modelo de aprendizado de máquina. Além disso, outras técnicas de feature engineering mais avançadas poderiam ser exploradas para buscar resultados ainda melhores.</li><br>\n",
    "        <li> A próxima etapa consistirá em ajustar o modelo de machine learning (tunar) para tentar obter um desempenho aprimorado.</li><br>\n",
    "    </ul>\n",
    "</div>"
   ]
  },
  {
   "cell_type": "markdown",
   "id": "d13131c4",
   "metadata": {},
   "source": [
    "<div class=\"anchor\" style = \" box-shadow: 10px 10px 5px 0px rgb(0,32,46);\n",
    "                             text-align: center; background-color:#d9b2b2;color:black;\n",
    "                             font-size:120%; font-family:newtimeroman; border-radius: 15px 15px\" id = \"tun\">\n",
    "<br>\n",
    "<h2>Tunando o Modelo</h2>\n",
    "<br>\n",
    "</div>"
   ]
  },
  {
   "cell_type": "markdown",
   "id": "a55b7e65",
   "metadata": {},
   "source": [
    "<div class=\"anchor\" style=\"box-shadow: 5px 5px 5px 0px rgb(0, 32, 46); background-color: ghostwhite; color: black; font-size: 120%; font-family: newtimeroman;\" id=\"10\">\n",
    "    <ul style=\"text-align: left; font-family: newtimeroman\"><br>\n",
    "        <li>Após a escolha do algoritmo, uma das etapas finais no processo de criação de um modelo de machine learning é tunning. Esse processo envolve a escolha cuidadosa de quais hiperparâmetros do modelo serão testador com o intuito de buscar a otimização dos resultados e a robustes do modelo de previsão.</li><br>\n",
    "        <li>Para a realização da tunagem do modelo XGBoost foi escolhido a biblioteca hyperopt. Essa biblioteca realiza a busca em árvore, é uma técnica mais avançada que utiliza algoritmos baseados em árvores para explorar o espaço de busca de maneira mais eficiente do que a busca aleatória. Essa abordagem é particularmente útil para espaços de busca complexos ou de alta dimensionalidade. </li><br>\n",
    "        \n",
    "</div>"
   ]
  },
  {
   "cell_type": "code",
   "execution_count": 124,
   "id": "zB3C0P8-0afD",
   "metadata": {
    "executionInfo": {
     "elapsed": 2,
     "status": "ok",
     "timestamp": 1707257663271,
     "user": {
      "displayName": "Alcide Gabriel P. Coutinho Maciel",
      "userId": "18324768684938800470"
     },
     "user_tz": 180
    },
    "id": "zB3C0P8-0afD"
   },
   "outputs": [],
   "source": [
    "def plot_comparison(real_data, predicted_data):\n",
    "    # Calcular métricas\n",
    "    rmse = np.sqrt(mean_squared_error(real_data, predicted_data))\n",
    "    r2 = r2_score(real_data, predicted_data)\n",
    "\n",
    "    # Configurar figura e eixos\n",
    "    fig = plt.figure(figsize=(12, 6))\n",
    "    ax1 = plt.subplot2grid((1, 2), (0, 0))  # Gráfico de dispersão\n",
    "    ax2 = plt.subplot2grid((1, 2), (0, 1))  # Texto com métricas\n",
    "\n",
    "    # Gráfico de dispersão\n",
    "    ax1.scatter(real_data, predicted_data, color='blue', alpha=0.5)\n",
    "    ax1.plot([real_data.min(), real_data.max()], [real_data.min(), real_data.max()], 'k--', lw=2)\n",
    "    ax1.set_xlabel('Real')\n",
    "    ax1.set_ylabel('Previsto')\n",
    "    ax1.set_title('Comparação entre Real e Previsto')\n",
    "\n",
    "    # Texto com métricas\n",
    "    metrics_text = f'RMSE: {rmse:.2f}\\nR2: {r2:.2f}'\n",
    "    ax2.text(0.5, 0.5, metrics_text, ha='center', va='center', fontsize=14)\n",
    "    ax2.axis('off')  # Ocultar eixos\n",
    "\n",
    "    plt.tight_layout()\n",
    "    plt.show()"
   ]
  },
  {
   "cell_type": "code",
   "execution_count": 118,
   "id": "KRKAPhDe0ami",
   "metadata": {
    "executionInfo": {
     "elapsed": 321,
     "status": "ok",
     "timestamp": 1707257008400,
     "user": {
      "displayName": "Alcide Gabriel P. Coutinho Maciel",
      "userId": "18324768684938800470"
     },
     "user_tz": 180
    },
    "id": "KRKAPhDe0ami"
   },
   "outputs": [],
   "source": [
    "class TunningXGB:\n",
    "    def __init__(self):\n",
    "        self.space = {\n",
    "            'n_estimators': hp.quniform('n_estimators', 1000, 5000, 350),\n",
    "            'learning_rate': hp.uniform('learning_rate', 0.001, 0.1),\n",
    "            'max_depth': hp.quniform('max_depth', 3, 10, 1),\n",
    "            'min_child_weight': hp.quniform('min_child_weight', 1, 6, 1),\n",
    "            'subsample': hp.uniform('subsample', 0.6, 1.0),\n",
    "            'colsample_bytree': hp.uniform('colsample_bytree', 0.6, 1.0),\n",
    "            'lambda': hp.uniform('lambda', 0.0, 0.9),  # L2 regularization\n",
    "        }\n",
    "\n",
    "    def hyper(self, params):\n",
    "        # Converter os parâmetros\n",
    "        params['n_estimators'] = int(params['n_estimators'])\n",
    "        params['max_depth'] = int(params['max_depth'])\n",
    "        params['min_child_weight'] = int(params['min_child_weight'])\n",
    "\n",
    "        n_estimators = params.pop('n_estimators')\n",
    "\n",
    "        dtrain = xgb.DMatrix(X_train, label=y_train)\n",
    "        dtest = xgb.DMatrix(X_test, label=y_test)\n",
    "\n",
    "        # Treinar o modelo\n",
    "        model = xgb.train(params, dtrain, num_boost_round = n_estimators, evals=[(dtest, 'eval')], early_stopping_rounds=10, verbose_eval=False)\n",
    "        y_pred = model.predict(dtest)\n",
    "\n",
    "        # Avaliar o modelo\n",
    "        rmse = mean_squared_error(y_test, y_pred) ** 0.5\n",
    "\n",
    "        # Retornar o negativo do RMSE (pois fmin busca minimizar)\n",
    "        return -rmse\n",
    "\n",
    "    def train(self):\n",
    "        trials = Trials()\n",
    "        best = fmin(fn=self.hyper, # Função que irá retornar a métrica que deseja-se otimizar\n",
    "                    space=self.space, # Área de busca\n",
    "                    algo=tpe.suggest, # Busca utilizando árvore.\n",
    "                    max_evals=50, trials=trials) # Aqui permite-nos acompanha o progresso da avaliação.\n",
    "        return best"
   ]
  },
  {
   "cell_type": "code",
   "execution_count": 119,
   "id": "UVT_gKDk0akK",
   "metadata": {
    "colab": {
     "base_uri": "https://localhost:8080/"
    },
    "executionInfo": {
     "elapsed": 568319,
     "status": "ok",
     "timestamp": 1707257583355,
     "user": {
      "displayName": "Alcide Gabriel P. Coutinho Maciel",
      "userId": "18324768684938800470"
     },
     "user_tz": 180
    },
    "id": "UVT_gKDk0akK",
    "outputId": "4e9b3f87-5785-4323-98f3-2768e9d2810f"
   },
   "outputs": [
    {
     "name": "stdout",
     "output_type": "stream",
     "text": [
      "100%|██████████| 50/50 [09:27<00:00, 11.36s/trial, best loss: -0.4498096234430302]\n"
     ]
    }
   ],
   "source": [
    "# Rodando a função de tunagem\n",
    "tunner = TunningXGB()\n",
    "best_params = tunner.train()"
   ]
  },
  {
   "cell_type": "code",
   "execution_count": 120,
   "id": "LzMxGvnDbCF6",
   "metadata": {
    "executionInfo": {
     "elapsed": 14,
     "status": "ok",
     "timestamp": 1707257583355,
     "user": {
      "displayName": "Alcide Gabriel P. Coutinho Maciel",
      "userId": "18324768684938800470"
     },
     "user_tz": 180
    },
    "id": "LzMxGvnDbCF6"
   },
   "outputs": [],
   "source": [
    "\n",
    "best_params['n_estimators'] = int(best_params['n_estimators'])\n",
    "best_params['max_depth'] = int(best_params['max_depth'])\n",
    "best_params['min_child_weight'] = int(best_params['min_child_weight'])\n",
    "n_int = best_params.pop('n_estimators')"
   ]
  },
  {
   "cell_type": "code",
   "execution_count": 123,
   "id": "T3o7Ce9ye-Ow",
   "metadata": {
    "colab": {
     "base_uri": "https://localhost:8080/"
    },
    "executionInfo": {
     "elapsed": 3,
     "status": "ok",
     "timestamp": 1707257624420,
     "user": {
      "displayName": "Alcide Gabriel P. Coutinho Maciel",
      "userId": "18324768684938800470"
     },
     "user_tz": 180
    },
    "id": "T3o7Ce9ye-Ow",
    "outputId": "64b3b0e9-54c0-4d4d-9f73-8b5224a7d03d"
   },
   "outputs": [
    {
     "data": {
      "text/plain": [
       "{'colsample_bytree': 0.8694775523626922,\n",
       " 'lambda': 0.005393693054094095,\n",
       " 'learning_rate': 0.0019413904938640272,\n",
       " 'max_depth': 3,\n",
       " 'min_child_weight': 5,\n",
       " 'subsample': 0.6967673050292301}"
      ]
     },
     "execution_count": 123,
     "metadata": {},
     "output_type": "execute_result"
    }
   ],
   "source": [
    "best_params"
   ]
  },
  {
   "cell_type": "code",
   "execution_count": 121,
   "id": "fBLYZryubSqF",
   "metadata": {
    "executionInfo": {
     "elapsed": 25638,
     "status": "ok",
     "timestamp": 1707257608991,
     "user": {
      "displayName": "Alcide Gabriel P. Coutinho Maciel",
      "userId": "18324768684938800470"
     },
     "user_tz": 180
    },
    "id": "fBLYZryubSqF"
   },
   "outputs": [],
   "source": [
    "dtrain = xgb.DMatrix(X_train, label=y_train)\n",
    "dtest = xgb.DMatrix(X_test, label=y_test)\n",
    "\n",
    "model = xgb.train(best_params, dtrain, num_boost_round = n_int, evals=[(dtest, 'teste')], early_stopping_rounds=10, verbose_eval=False)\n"
   ]
  },
  {
   "cell_type": "code",
   "execution_count": 127,
   "id": "FFTQUBlUcCby",
   "metadata": {
    "colab": {
     "base_uri": "https://localhost:8080/"
    },
    "executionInfo": {
     "elapsed": 3,
     "status": "ok",
     "timestamp": 1707257767799,
     "user": {
      "displayName": "Alcide Gabriel P. Coutinho Maciel",
      "userId": "18324768684938800470"
     },
     "user_tz": 180
    },
    "id": "FFTQUBlUcCby",
    "outputId": "e7f0e7e0-dc6c-4f26-8643-d32a16efb61d"
   },
   "outputs": [
    {
     "name": "stdout",
     "output_type": "stream",
     "text": [
      "RMSE: 0.4210286748649067 | R2: 0.612527802624881\n"
     ]
    }
   ],
   "source": [
    "dval = xgb.DMatrix(X_val)\n",
    "y_pred = model.predict(dval)\n",
    "rmse = mean_squared_error(y_val, y_pred) ** 0.5\n",
    "r2 = r2_score(y_val, y_pred)\n",
    "print(f\"RMSE: {rmse} | R2: {r2}\")"
   ]
  },
  {
   "cell_type": "code",
   "execution_count": 126,
   "id": "ITutOoEtOggr",
   "metadata": {
    "colab": {
     "base_uri": "https://localhost:8080/",
     "height": 607
    },
    "executionInfo": {
     "elapsed": 1204,
     "status": "ok",
     "timestamp": 1707257713721,
     "user": {
      "displayName": "Alcide Gabriel P. Coutinho Maciel",
      "userId": "18324768684938800470"
     },
     "user_tz": 180
    },
    "id": "ITutOoEtOggr",
    "outputId": "6538ff00-c68c-4cf2-9b51-c3f4ea05da5b"
   },
   "outputs": [
    {
     "data": {
      "image/png": "[encoded data removed]",
      "text/plain": [
       "<Figure size 1200x600 with 2 Axes>"
      ]
     },
     "metadata": {},
     "output_type": "display_data"
    }
   ],
   "source": [
    "plot_comparison(y_val , y_pred)"
   ]
  },
  {
   "cell_type": "markdown",
   "id": "f26c0a7c",
   "metadata": {},
   "source": [
    "<div class=\"anchor\" style=\"box-shadow: 5px 5px 5px 0px rgb(0, 32, 46); background-color: ghostwhite; color: black; font-size: 120%; font-family: newtimeroman;\" id=\"10\">\n",
    "    <ul style=\"text-align: left; font-family: newtimeroman\"><br>\n",
    "        <li>Como podemos observar, a tunagem do modelo não operar nenhum milagre, mas fara alterações que podem ser mais eficientes em alguns cenários que outros, nesse caso as duas métricas obtiveram uma melhora, avançando para 61% de R2 e 0.42 de RMSE.</li><br>\n",
    "    </ul>\n",
    "</div>"
   ]
  },
  {
   "cell_type": "markdown",
   "id": "b5cb1c18",
   "metadata": {},
   "source": [
    "<div class=\"anchor\" style = \" box-shadow: 10px 10px 5px 0px rgb(0,32,46);\n",
    "                             text-align: center; background-color:#d9b2b2;color:black;\n",
    "                             font-size:120%; font-family:newtimeroman; border-radius: 15px 15px\" id = \"2.1\">\n",
    "<br>\n",
    "<h2>Avaliando Novos Dados e Exportando o Modelo</h2>\n",
    "<br>\n",
    "</div>"
   ]
  },
  {
   "cell_type": "markdown",
   "id": "edf858a0",
   "metadata": {},
   "source": [
    "<div class=\"anchor\" style=\"box-shadow: 5px 5px 5px 0px rgb(0, 32, 46); background-color: ghostwhite; color: black; font-size: 120%; font-family: newtimeroman;\" id=\"10\">\n",
    "    <ul style=\"text-align: left; font-family: newtimeroman\"><br>\n",
    "        <li>Para testar nosso modelo preditivo, recebemos informações sobre um novo usuário da plataforma que possui uma cobrança de aluguel na faixa de $225. Abaixo, apresentamos a função responsável por preparar esse novo conjunto de dados de forma adequada para ser utilizado no modelo criado.\n",
    "        </li><br>\n",
    "    </ul>\n",
    "</div>"
   ]
  },
  {
   "cell_type": "code",
   "execution_count": 151,
   "id": "ZOvsOLz20acJ",
   "metadata": {
    "executionInfo": {
     "elapsed": 313,
     "status": "ok",
     "timestamp": 1707258786671,
     "user": {
      "displayName": "Alcide Gabriel P. Coutinho Maciel",
      "userId": "18324768684938800470"
     },
     "user_tz": 180
    },
    "id": "ZOvsOLz20acJ"
   },
   "outputs": [],
   "source": [
    "def avaliar_novos_dados():\n",
    "    data = {\n",
    "      'id': [2595],\n",
    "      'nome': ['Skylit Midtown Castle'],\n",
    "      'host_id': [2845],\n",
    "      'host_name': ['Jennifer'],\n",
    "      'bairro_group': ['Manhattan'],\n",
    "      'bairro': ['Midtown'],\n",
    "      'latitude': [40.75362],\n",
    "      'longitude': [-73.98377],\n",
    "      'room_type': ['Entire home/apt'],\n",
    "      'price': [225],\n",
    "      'minimo_noites': [1],\n",
    "      'numero_de_reviews': [45],\n",
    "      'ultima_review': ['2019-05-21'],\n",
    "      'reviews_por_mes': [0.38],\n",
    "      'calculado_host_listings_count': [2],\n",
    "      'disponibilidade_365': [355]\n",
    "  }\n",
    "    # Criar no formato dataframe\n",
    "    df_avaliar = pd.DataFrame(data)\n",
    "    # Utilizar o pipeline para adicionar informações externas\n",
    "    df_avaliar = pipe.fit_transform(df_avaliar)\n",
    "    # Realizar o tratamento dos dados\n",
    "    df_avaliar = DataTreatment().fit(df_completo).transform(df_avaliar)\n",
    "    # Remover o preço\n",
    "    price = df_avaliar.pop('price')\n",
    "    return df_avaliar"
   ]
  },
  {
   "cell_type": "code",
   "execution_count": 148,
   "id": "J4szbX-Sh9yw",
   "metadata": {
    "executionInfo": {
     "elapsed": 32321,
     "status": "ok",
     "timestamp": 1707258724342,
     "user": {
      "displayName": "Alcide Gabriel P. Coutinho Maciel",
      "userId": "18324768684938800470"
     },
     "user_tz": 180
    },
    "id": "J4szbX-Sh9yw"
   },
   "outputs": [],
   "source": [
    "# Treinar o modelo com o dataset completo\n",
    "X_total = DataTreatment().fit(df_completo).transform(df_completo)\n",
    "y_total = X_total.pop('price')\n",
    "dtotal = xgb.DMatrix(X_total, label = y_total)\n",
    "\n",
    "model = xgb.train(best_params, dtotal, num_boost_round = n_int, evals=[(dtest, 'teste')], early_stopping_rounds=10, verbose_eval=False)"
   ]
  },
  {
   "cell_type": "code",
   "execution_count": 152,
   "id": "fk780-fNgt7q",
   "metadata": {
    "colab": {
     "base_uri": "https://localhost:8080/"
    },
    "executionInfo": {
     "elapsed": 27544,
     "status": "ok",
     "timestamp": 1707258816532,
     "user": {
      "displayName": "Alcide Gabriel P. Coutinho Maciel",
      "userId": "18324768684938800470"
     },
     "user_tz": 180
    },
    "id": "fk780-fNgt7q",
    "outputId": "1f5aff78-b833-4b2e-ea7a-ab68dd781573"
   },
   "outputs": [
    {
     "name": "stderr",
     "output_type": "stream",
     "text": [
      "WARNING:urllib3.connectionpool:Retrying (Retry(total=1, connect=None, read=None, redirect=None, status=None)) after connection broken by 'ReadTimeoutError(\"HTTPSConnectionPool(host='nominatim.openstreetmap.org', port=443): Read timed out. (read timeout=1)\")': /search?q=Times+Square%2C+New+York&format=json&limit=1&accept-language=en\n",
      "Distancia Metrô: 100%|██████████| 1/1 [00:00<00:00, 116.70it/s]\n",
      "Distancia Universidade: 100%|██████████| 1/1 [00:00<00:00, 182.35it/s]\n",
      "Distância Pontos Turísticos: 100%|██████████| 12/12 [00:00<00:00, 399.32it/s]\n"
     ]
    }
   ],
   "source": [
    "# carregar dados novos\n",
    "df_aval = avaliar_novos_dados()"
   ]
  },
  {
   "cell_type": "code",
   "execution_count": 153,
   "id": "Xqqm7AooigKM",
   "metadata": {
    "colab": {
     "base_uri": "https://localhost:8080/",
     "height": 130
    },
    "executionInfo": {
     "elapsed": 12,
     "status": "ok",
     "timestamp": 1707258816533,
     "user": {
      "displayName": "Alcide Gabriel P. Coutinho Maciel",
      "userId": "18324768684938800470"
     },
     "user_tz": 180
    },
    "id": "Xqqm7AooigKM",
    "outputId": "9a5b53a3-5516-475e-92a9-bf4f8a89864c"
   },
   "outputs": [
    {
     "data": {
      "text/html": [
       "\n",
       "  <div id=\"df-10159dae-f8e9-4663-baaf-71cd7ed3d193\" class=\"colab-df-container\">\n",
       "    <div>\n",
       "<style scoped>\n",
       "    .dataframe tbody tr th:only-of-type {\n",
       "        vertical-align: middle;\n",
       "    }\n",
       "\n",
       "    .dataframe tbody tr th {\n",
       "        vertical-align: top;\n",
       "    }\n",
       "\n",
       "    .dataframe thead th {\n",
       "        text-align: right;\n",
       "    }\n",
       "</style>\n",
       "<table border=\"1\" class=\"dataframe\">\n",
       "  <thead>\n",
       "    <tr style=\"text-align: right;\">\n",
       "      <th></th>\n",
       "      <th>bairro_group</th>\n",
       "      <th>bairro</th>\n",
       "      <th>latitude</th>\n",
       "      <th>longitude</th>\n",
       "      <th>room_type</th>\n",
       "      <th>minimo_noites</th>\n",
       "      <th>numero_de_reviews</th>\n",
       "      <th>reviews_por_mes</th>\n",
       "      <th>calculado_host_listings_count</th>\n",
       "      <th>disponibilidade_365</th>\n",
       "      <th>...</th>\n",
       "      <th>calculado_host_listings_count_cat</th>\n",
       "      <th>disponibilidade_365_cat</th>\n",
       "      <th>distacia_metro_cat</th>\n",
       "      <th>distacia_uni_cat</th>\n",
       "      <th>empire_state_building_cat</th>\n",
       "      <th>memorial_cat</th>\n",
       "      <th>broadway_cat</th>\n",
       "      <th>wall_street_cat</th>\n",
       "      <th>brooklyn_museum_cat</th>\n",
       "      <th>central_park_cat</th>\n",
       "    </tr>\n",
       "  </thead>\n",
       "  <tbody>\n",
       "    <tr>\n",
       "      <th>0</th>\n",
       "      <td>0</td>\n",
       "      <td>0</td>\n",
       "      <td>40.75362</td>\n",
       "      <td>-73.98377</td>\n",
       "      <td>0</td>\n",
       "      <td>0.0</td>\n",
       "      <td>3.806662</td>\n",
       "      <td>-0.967584</td>\n",
       "      <td>0.693147</td>\n",
       "      <td>5.872118</td>\n",
       "      <td>...</td>\n",
       "      <td>0</td>\n",
       "      <td>0</td>\n",
       "      <td>0</td>\n",
       "      <td>0</td>\n",
       "      <td>0</td>\n",
       "      <td>0</td>\n",
       "      <td>0</td>\n",
       "      <td>0</td>\n",
       "      <td>0</td>\n",
       "      <td>0</td>\n",
       "    </tr>\n",
       "  </tbody>\n",
       "</table>\n",
       "<p>1 rows × 38 columns</p>\n",
       "</div>\n",
       "    <div class=\"colab-df-buttons\">\n",
       "\n",
       "  <div class=\"colab-df-container\">\n",
       "    <button class=\"colab-df-convert\" onclick=\"convertToInteractive('df-10159dae-f8e9-4663-baaf-71cd7ed3d193')\"\n",
       "            title=\"Convert this dataframe to an interactive table.\"\n",
       "            style=\"display:none;\">\n",
       "\n",
       "  <svg xmlns=\"http://www.w3.org/2000/svg\" height=\"24px\" viewBox=\"0 -960 960 960\">\n",
       "    <path d=\"M120-120v-720h720v720H120Zm60-500h600v-160H180v160Zm220 220h160v-160H400v160Zm0 220h160v-160H400v160ZM180-400h160v-160H180v160Zm440 0h160v-160H620v160ZM180-180h160v-160H180v160Zm440 0h160v-160H620v160Z\"/>\n",
       "  </svg>\n",
       "    </button>\n",
       "\n",
       "  <style>\n",
       "    .colab-df-container {\n",
       "      display:flex;\n",
       "      gap: 12px;\n",
       "    }\n",
       "\n",
       "    .colab-df-convert {\n",
       "      background-color: #E8F0FE;\n",
       "      border: none;\n",
       "      border-radius: 50%;\n",
       "      cursor: pointer;\n",
       "      display: none;\n",
       "      fill: #1967D2;\n",
       "      height: 32px;\n",
       "      padding: 0 0 0 0;\n",
       "      width: 32px;\n",
       "    }\n",
       "\n",
       "    .colab-df-convert:hover {\n",
       "      background-color: #E2EBFA;\n",
       "      box-shadow: 0px 1px 2px rgba(60, 64, 67, 0.3), 0px 1px 3px 1px rgba(60, 64, 67, 0.15);\n",
       "      fill: #174EA6;\n",
       "    }\n",
       "\n",
       "    .colab-df-buttons div {\n",
       "      margin-bottom: 4px;\n",
       "    }\n",
       "\n",
       "    [theme=dark] .colab-df-convert {\n",
       "      background-color: #3B4455;\n",
       "      fill: #D2E3FC;\n",
       "    }\n",
       "\n",
       "    [theme=dark] .colab-df-convert:hover {\n",
       "      background-color: #434B5C;\n",
       "      box-shadow: 0px 1px 3px 1px rgba(0, 0, 0, 0.15);\n",
       "      filter: drop-shadow(0px 1px 2px rgba(0, 0, 0, 0.3));\n",
       "      fill: #FFFFFF;\n",
       "    }\n",
       "  </style>\n",
       "\n",
       "    <script>\n",
       "      const buttonEl =\n",
       "        document.querySelector('#df-10159dae-f8e9-4663-baaf-71cd7ed3d193 button.colab-df-convert');\n",
       "      buttonEl.style.display =\n",
       "        google.colab.kernel.accessAllowed ? 'block' : 'none';\n",
       "\n",
       "      async function convertToInteractive(key) {\n",
       "        const element = document.querySelector('#df-10159dae-f8e9-4663-baaf-71cd7ed3d193');\n",
       "        const dataTable =\n",
       "          await google.colab.kernel.invokeFunction('convertToInteractive',\n",
       "                                                    [key], {});\n",
       "        if (!dataTable) return;\n",
       "\n",
       "        const docLinkHtml = 'Like what you see? Visit the ' +\n",
       "          '<a target=\"_blank\" href=https://colab.research.google.com/notebooks/data_table.ipynb>data table notebook</a>'\n",
       "          + ' to learn more about interactive tables.';\n",
       "        element.innerHTML = '';\n",
       "        dataTable['output_type'] = 'display_data';\n",
       "        await google.colab.output.renderOutput(dataTable, element);\n",
       "        const docLink = document.createElement('div');\n",
       "        docLink.innerHTML = docLinkHtml;\n",
       "        element.appendChild(docLink);\n",
       "      }\n",
       "    </script>\n",
       "  </div>\n",
       "\n",
       "\n",
       "  <div id=\"id_5441b729-8c7d-4114-b9a7-f55509eba1e4\">\n",
       "    <style>\n",
       "      .colab-df-generate {\n",
       "        background-color: #E8F0FE;\n",
       "        border: none;\n",
       "        border-radius: 50%;\n",
       "        cursor: pointer;\n",
       "        display: none;\n",
       "        fill: #1967D2;\n",
       "        height: 32px;\n",
       "        padding: 0 0 0 0;\n",
       "        width: 32px;\n",
       "      }\n",
       "\n",
       "      .colab-df-generate:hover {\n",
       "        background-color: #E2EBFA;\n",
       "        box-shadow: 0px 1px 2px rgba(60, 64, 67, 0.3), 0px 1px 3px 1px rgba(60, 64, 67, 0.15);\n",
       "        fill: #174EA6;\n",
       "      }\n",
       "\n",
       "      [theme=dark] .colab-df-generate {\n",
       "        background-color: #3B4455;\n",
       "        fill: #D2E3FC;\n",
       "      }\n",
       "\n",
       "      [theme=dark] .colab-df-generate:hover {\n",
       "        background-color: #434B5C;\n",
       "        box-shadow: 0px 1px 3px 1px rgba(0, 0, 0, 0.15);\n",
       "        filter: drop-shadow(0px 1px 2px rgba(0, 0, 0, 0.3));\n",
       "        fill: #FFFFFF;\n",
       "      }\n",
       "    </style>\n",
       "    <button class=\"colab-df-generate\" onclick=\"generateWithVariable('df_aval')\"\n",
       "            title=\"Generate code using this dataframe.\"\n",
       "            style=\"display:none;\">\n",
       "\n",
       "  <svg xmlns=\"http://www.w3.org/2000/svg\" height=\"24px\"viewBox=\"0 0 24 24\"\n",
       "       width=\"24px\">\n",
       "    <path d=\"M7,19H8.4L18.45,9,17,7.55,7,17.6ZM5,21V16.75L18.45,3.32a2,2,0,0,1,2.83,0l1.4,1.43a1.91,1.91,0,0,1,.58,1.4,1.91,1.91,0,0,1-.58,1.4L9.25,21ZM18.45,9,17,7.55Zm-12,3A5.31,5.31,0,0,0,4.9,8.1,5.31,5.31,0,0,0,1,6.5,5.31,5.31,0,0,0,4.9,4.9,5.31,5.31,0,0,0,6.5,1,5.31,5.31,0,0,0,8.1,4.9,5.31,5.31,0,0,0,12,6.5,5.46,5.46,0,0,0,6.5,12Z\"/>\n",
       "  </svg>\n",
       "    </button>\n",
       "    <script>\n",
       "      (() => {\n",
       "      const buttonEl =\n",
       "        document.querySelector('#id_5441b729-8c7d-4114-b9a7-f55509eba1e4 button.colab-df-generate');\n",
       "      buttonEl.style.display =\n",
       "        google.colab.kernel.accessAllowed ? 'block' : 'none';\n",
       "\n",
       "      buttonEl.onclick = () => {\n",
       "        google.colab.notebook.generateWithVariable('df_aval');\n",
       "      }\n",
       "      })();\n",
       "    </script>\n",
       "  </div>\n",
       "\n",
       "    </div>\n",
       "  </div>\n"
      ],
      "text/plain": [
       "   bairro_group  bairro  latitude  longitude  room_type  minimo_noites  \\\n",
       "0             0       0  40.75362  -73.98377          0            0.0   \n",
       "\n",
       "   numero_de_reviews  reviews_por_mes  calculado_host_listings_count  \\\n",
       "0           3.806662        -0.967584                       0.693147   \n",
       "\n",
       "   disponibilidade_365  ...  calculado_host_listings_count_cat  \\\n",
       "0             5.872118  ...                                  0   \n",
       "\n",
       "   disponibilidade_365_cat  distacia_metro_cat  distacia_uni_cat  \\\n",
       "0                        0                   0                 0   \n",
       "\n",
       "   empire_state_building_cat  memorial_cat  broadway_cat  wall_street_cat  \\\n",
       "0                          0             0             0                0   \n",
       "\n",
       "   brooklyn_museum_cat  central_park_cat  \n",
       "0                    0                 0  \n",
       "\n",
       "[1 rows x 38 columns]"
      ]
     },
     "execution_count": 153,
     "metadata": {},
     "output_type": "execute_result"
    }
   ],
   "source": [
    "df_aval.head()"
   ]
  },
  {
   "cell_type": "code",
   "execution_count": 160,
   "id": "UUPE8_820aF5",
   "metadata": {
    "colab": {
     "base_uri": "https://localhost:8080/"
    },
    "executionInfo": {
     "elapsed": 348,
     "status": "ok",
     "timestamp": 1707261543941,
     "user": {
      "displayName": "Alcide Gabriel P. Coutinho Maciel",
      "userId": "18324768684938800470"
     },
     "user_tz": 180
    },
    "id": "UUPE8_820aF5",
    "outputId": "ed29c9bf-ab06-4ff1-e07e-203de3108878",
    "scrolled": true
   },
   "outputs": [
    {
     "name": "stdout",
     "output_type": "stream",
     "text": [
      "O modelo desenvolvido recomenda um valor de 275.39 $ para esse aluguel\n"
     ]
    }
   ],
   "source": [
    "# Realizar a previsão\n",
    "prev = model.predict(xgb.DMatrix(df_aval))\n",
    "print(f\"O modelo desenvolvido recomenda um valor de {np.exp(prev)[0]:.2f} $ para esse aluguel\")"
   ]
  },
  {
   "cell_type": "markdown",
   "id": "121bd626",
   "metadata": {},
   "source": [
    "<div class=\"anchor\" style=\"box-shadow: 5px 5px 5px 0px rgb(0, 32, 46); background-color: ghostwhite; color: black; font-size: 120%; font-family: newtimeroman;\" id=\"10\">\n",
    "    <ul style=\"text-align: left; font-family: newtimeroman\"><br>\n",
    "        <li>Ao rodar nosso modelo, a sugestão de preço obtido foi de aproximadamente 275.39 $. Um preço bastante próximo e dentro da realidade, visto que estamos falando em um apartamento completo, localizado no Midtown e por uma noite, e como visto na análise de dados, são fatores bem relevantes sobre a classificação </li><br>\n",
    "    </ul>\n",
    "</div>"
   ]
  },
  {
   "cell_type": "code",
   "execution_count": 161,
   "id": "5qJzIleSrl_H",
   "metadata": {
    "executionInfo": {
     "elapsed": 324,
     "status": "ok",
     "timestamp": 1707261592490,
     "user": {
      "displayName": "Alcide Gabriel P. Coutinho Maciel",
      "userId": "18324768684938800470"
     },
     "user_tz": 180
    },
    "id": "5qJzIleSrl_H"
   },
   "outputs": [],
   "source": [
    "# Salvar o modelo de machine learning\n",
    "with open('modelo.pkl', 'wb') as f:\n",
    "    pickle.dump(model, f)"
   ]
  }
 ],
 "metadata": {
  "colab": {
   "provenance": []
  },
  "kernelspec": {
   "display_name": "Python 3 (ipykernel)",
   "language": "python",
   "name": "python3"
  },
  "language_info": {
   "codemirror_mode": {
    "name": "ipython",
    "version": 3
   },
   "file_extension": ".py",
   "mimetype": "text/x-python",
   "name": "python",
   "nbconvert_exporter": "python",
   "pygments_lexer": "ipython3",
   "version": "3.11.5"
  }
 },
 "nbformat": 4,
 "nbformat_minor": 5
}
