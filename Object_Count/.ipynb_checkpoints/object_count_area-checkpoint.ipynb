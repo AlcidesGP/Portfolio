{
 "cells": [
  {
   "cell_type": "markdown",
   "id": "baaec51d-31bc-4aab-9c07-62dc772df8ef",
   "metadata": {},
   "source": [
    "# Libraries"
   ]
  },
  {
   "cell_type": "code",
   "execution_count": 1,
   "id": "3f127560-e33e-4f44-8cca-7209cb0f8122",
   "metadata": {},
   "outputs": [],
   "source": [
    "import cv2\n",
    "from ultralytics import YOLO\n",
    "import supervision as sv\n",
    "from matplotlib import pyplot as plt\n",
    "import numpy as np \n",
    "import time"
   ]
  },
  {
   "cell_type": "code",
   "execution_count": 5,
   "id": "26918e42-577b-40dd-a9af-401651aa7723",
   "metadata": {},
   "outputs": [],
   "source": [
    "!pip freeze > requirements.txt"
   ]
  },
  {
   "cell_type": "markdown",
   "id": "2aec36e5-030b-44d9-bda1-524cdfdba2c8",
   "metadata": {},
   "source": [
    "# Main Code"
   ]
  },
  {
   "cell_type": "code",
   "execution_count": 2,
   "id": "0018f6f9-214d-4a8e-841f-7dc86551342a",
   "metadata": {},
   "outputs": [],
   "source": [
    "class ProcessamentoImagem:\n",
    "    def __init__(self, areas):\n",
    "        self.video_path = \"./data/highway_traffic_short.mp4\"\n",
    "        self.model = YOLO(\"yolov8m.pt\")\n",
    "\n",
    "    def main(self):\n",
    "        start_time = time.time()\n",
    "        colors = sv.ColorPalette.DEFAULT\n",
    "        generator = sv.get_video_frames_generator(video_path)\n",
    "        iterator = iter(generator)\n",
    "        frame = next(iterator)\n",
    "        image = frame\n",
    "        height, width, channels = image.shape #Decompor a imagem.\n",
    "\n",
    "        self.zones = [\n",
    "            sv.PolygonZone(\n",
    "                polygon=polygon,\n",
    "                frame_resolution_wh=(width,width)\n",
    "            )\n",
    "            for polygon in areas\n",
    "        ]\n",
    "        \n",
    "        self.zone_annotators = [\n",
    "            sv.PolygonZoneAnnotator(\n",
    "                zone=zone,\n",
    "                color=colors.by_idx(index),\n",
    "                thickness=1,\n",
    "                text_thickness=1,\n",
    "                text_scale=1\n",
    "            )\n",
    "            for index, zone in enumerate(self.zones)\n",
    "        ]\n",
    "        \n",
    "        self.box_annotators = [\n",
    "            sv.BoxAnnotator(\n",
    "                color=colors.by_idx(index),\n",
    "                thickness=1,\n",
    "                text_thickness=1,\n",
    "                text_scale=0.6\n",
    "            )\n",
    "            for index in range(len(areas))\n",
    "        ]\n",
    "        \n",
    "        \n",
    "        label_annotator = sv.LabelAnnotator()  \n",
    "\n",
    "        sv.process_video(source_path=video_path, target_path=\"result2.mp4\", callback=self.process_frame)\n",
    "  \n",
    "        end_time = time.time()\n",
    "        \n",
    "\n",
    "        elapsed_time = end_time - start_time\n",
    "        print(f\"Tempo de execução: {elapsed_time} segundos\")\n",
    "        \n",
    "    def process_frame(self, frame:np.ndarray, i) -> np.ndarray:\n",
    "        results = self.model(frame, verbose=False)[0]\n",
    "        detections = sv.Detections.from_ultralytics(results)\n",
    "        for zone, zone_annotator, box_annotator in zip(self.zones, self.zone_annotators, self.box_annotators):\n",
    "            mask = zone.trigger(detections=detections)\n",
    "            detections_filtered = detections[mask]\n",
    "            frame = box_annotator.annotate(scene=frame, detections=detections_filtered, skip_label=True)\n",
    "            frame = zone_annotator.annotate(scene=frame) \n",
    "        return frame\n"
   ]
  },
  {
   "cell_type": "markdown",
   "id": "c061f394-9991-4b24-bf98-49b43bd7cd92",
   "metadata": {},
   "source": [
    "# Run "
   ]
  },
  {
   "cell_type": "code",
   "execution_count": 4,
   "id": "861ea367-7f21-446a-88e9-c28bccaf6ea4",
   "metadata": {},
   "outputs": [
    {
     "name": "stdout",
     "output_type": "stream",
     "text": [
      "Downloading https://github.com/ultralytics/assets/releases/download/v8.1.0/yolov8m.pt to 'yolov8m.pt'...\n"
     ]
    },
    {
     "name": "stderr",
     "output_type": "stream",
     "text": [
      "100%|██████████| 49.7M/49.7M [02:39<00:00, 327kB/s] \n",
      "SupervisionWarnings: BoxAnnotator is deprecated: `BoxAnnotator` is deprecated and will be removed in `supervision-0.22.0`. Use `BoundingBoxAnnotator` and `LabelAnnotator` instead\n",
      "SupervisionWarnings: BoxAnnotator is deprecated: `BoxAnnotator` is deprecated and will be removed in `supervision-0.22.0`. Use `BoundingBoxAnnotator` and `LabelAnnotator` instead\n"
     ]
    },
    {
     "name": "stdout",
     "output_type": "stream",
     "text": [
      "Tempo de execução: 180.039941072464 segundos\n"
     ]
    }
   ],
   "source": [
    "areas =[\n",
    "    np.array([\n",
    "        [605, 160],\n",
    "        [481, 140],\n",
    "        [5, 376],\n",
    "        [49, 728],\n",
    "        [305, 736],\n",
    "        [609, 156]\n",
    "]),\n",
    "    np.array([\n",
    "        [701, 200],\n",
    "        [1001, 752],\n",
    "        [1337, 340],\n",
    "        [877, 168],\n",
    "        [701, 192]\n",
    "])\n",
    "]\n",
    "\n",
    "ProcessamentoImagem(areas).main()"
   ]
  }
 ],
 "metadata": {
  "kernelspec": {
   "display_name": "Python 3 (ipykernel)",
   "language": "python",
   "name": "python3"
  },
  "language_info": {
   "codemirror_mode": {
    "name": "ipython",
    "version": 3
   },
   "file_extension": ".py",
   "mimetype": "text/x-python",
   "name": "python",
   "nbconvert_exporter": "python",
   "pygments_lexer": "ipython3",
   "version": "3.11.8"
  }
 },
 "nbformat": 4,
 "nbformat_minor": 5
}
