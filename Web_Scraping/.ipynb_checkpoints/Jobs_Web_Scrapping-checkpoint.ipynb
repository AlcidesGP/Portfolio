{
 "cells": [
  {
   "cell_type": "code",
   "execution_count": 1,
   "id": "dd98ad36-a7c4-49f2-8a4f-61ffbddab861",
   "metadata": {},
   "outputs": [],
   "source": [
    "import pandas as pd\n",
    "import numpy as np\n",
    "import re\n",
    "import time\n",
    "import requests\n",
    "from bs4 import BeautifulSoup\n",
    "import time\n",
    "\n",
    "from selenium import webdriver\n",
    "from selenium.webdriver.chrome.service import Service\n",
    "from selenium.webdriver.common.by import By\n",
    "from selenium.webdriver.common.keys import Keys\n",
    "from tqdm import tqdm"
   ]
  },
  {
   "cell_type": "code",
   "execution_count": 2,
   "id": "098750b1-0890-4465-a7e6-6795feb20248",
   "metadata": {},
   "outputs": [],
   "source": [
    "class ImportarDados:\n",
    "    def __init__(self):\n",
    "        pass\n",
    "    \n",
    "    def pesquisar_vaga(self):\n",
    "        start_time = time.time()\n",
    "        lista_urls = [\n",
    "            \"https://www.glassdoor.com.br/Vaga/trabalho-remoto-cientista-de-dados-vagas-SRCH_IL.0,15_IS12226_KO16,34.htm?sortBy=date_desc\",\n",
    "            \"https://www.glassdoor.com.br/Vaga/trabalho-remoto-analista-de-dados-vagas-SRCH_IL.0,15_IS12226_KO16,33.htm?sortBy=date_desc\"\n",
    "        ]\n",
    "        \n",
    "        lista_de_vagas = []\n",
    "        \n",
    "        for url in lista_urls:\n",
    "            chrome_options = webdriver.ChromeOptions()\n",
    "            chrome_options.add_argument('--headless')  # Executar o navegador sem interface gráfica.\n",
    "            chrome_options.add_argument(\"user-agent=Mozilla/5.0 (Windows NT 10.0; Win64; x64) AppleWebKit/537.36 (KHTML, like Gecko) Chrome/58.0.3029.110 Safari/537.3\")\n",
    "            driver = webdriver.Chrome(options=chrome_options)  # Abrir o URL no navegador\n",
    "        \n",
    "            driver.get(url)\n",
    "            time.sleep(2)\n",
    "        \n",
    "            # Clicar no botão \"Ver mais vagas\" três vezes com intervalos de 3 segundos\n",
    "            for _ in range(5):\n",
    "                try:\n",
    "                    botao_ver_mais = driver.find_element(By.XPATH, '//*[@id=\"left-column\"]/div[2]/div')\n",
    "                    botao_ver_mais.click()\n",
    "                    time.sleep(4)\n",
    "                except:\n",
    "                    pass\n",
    "        \n",
    "            # Obtendo o conteúdo da página\n",
    "            page_content = driver.page_source\n",
    "            driver.quit()\n",
    "        \n",
    "            # Analisando o conteúdo da página com Beautiful Soup\n",
    "            soup = BeautifulSoup(page_content, 'html.parser')\n",
    "        \n",
    "            # Encontrando todos os elementos li dentro do XPath especificado\n",
    "            lista_de_vagas.extend(soup.select('ul.JobsList_jobsList__lqjTr li'))\n",
    "        \n",
    "        end_time = time.time()\n",
    "        execution_time = end_time - start_time\n",
    "        print(\"Tempo de execução:\", execution_time, \"segundos\")\n",
    "                \n",
    "        return lista_de_vagas\n",
    "\n",
    "    def coletar_href_job_titles(self, page_content=None):\n",
    "        if page_content is None:\n",
    "            page_content = self.pesquisar_vaga()\n",
    "        \n",
    "        href = []\n",
    "        \n",
    "        for vagas_html in page_content:\n",
    "            a_tag = vagas_html.find('a', class_='JobCard_jobTitle___7I6y')\n",
    "            tempo = vagas_html.find('div', class_='JobCard_listingAge__Ny_nG')\n",
    "            if a_tag:\n",
    "                href.append([a_tag.get('href'), tempo.text])\n",
    "                \n",
    "            else:\n",
    "                pass\n",
    "\n",
    "        print(f\"Total de {len(href)} links encontrados.\")\n",
    "        return href\n"
   ]
  },
  {
   "cell_type": "code",
   "execution_count": 9,
   "id": "795b8c18-0e38-4c5e-b069-8a718f252cbd",
   "metadata": {},
   "outputs": [],
   "source": [
    "def coletar_infos(entrada):\n",
    "    start_time = time.time()\n",
    "    resultados = []\n",
    "    chrome_options = webdriver.ChromeOptions()\n",
    "    chrome_options.add_argument('--headless')  # Executar o navegador sem interface gráfica.\n",
    "    chrome_options.add_argument(\"user-agent=Mozilla/5.0 (Windows NT 10.0; Win64; x64) AppleWebKit/537.36 (KHTML, like Gecko) Chrome/58.0.3029.110 Safari/537.3\")\n",
    "    driver = webdriver.Chrome(options=chrome_options)  # Abrir o URL no navegador\n",
    "    for url in tqdm(entrada):\n",
    "        driver.get(url)\n",
    "        time.sleep(2)\n",
    "\n",
    "        # Obtendo o conteúdo da página com BeautifulSoup\n",
    "        page_content = driver.page_source\n",
    "        soup = BeautifulSoup(page_content, 'html.parser')\n",
    "\n",
    "        # Adicionando os resultados a uma lista\n",
    "        resultados.append((texto, html))\n",
    "\n",
    "    driver.quit()\n",
    "\n",
    "    return resultados"
   ]
  },
  {
   "cell_type": "code",
   "execution_count": 4,
   "id": "6808b01a-6205-400f-a39b-3e1db321713e",
   "metadata": {},
   "outputs": [
    {
     "name": "stdout",
     "output_type": "stream",
     "text": [
      "Tempo de execução: 43.47264623641968 segundos\n",
      "Total de 120 links encontrados.\n"
     ]
    }
   ],
   "source": [
    "importador = ImportarDados()\n",
    "links = importador.coletar_href_job_titles()\n",
    "dados = pd.DataFrame(links, columns=['site','Data_Pub']).drop_duplicates()"
   ]
  },
  {
   "cell_type": "code",
   "execution_count": 11,
   "id": "18654081-b2f0-4fad-b7cd-d003538a9783",
   "metadata": {},
   "outputs": [
    {
     "name": "stderr",
     "output_type": "stream",
     "text": [
      "  0%|          | 0/1 [00:15<?, ?it/s]\n"
     ]
    },
    {
     "ename": "NameError",
     "evalue": "name 'texto' is not defined",
     "output_type": "error",
     "traceback": [
      "\u001b[1;31m---------------------------------------------------------------------------\u001b[0m",
      "\u001b[1;31mNameError\u001b[0m                                 Traceback (most recent call last)",
      "Cell \u001b[1;32mIn[11], line 1\u001b[0m\n\u001b[1;32m----> 1\u001b[0m coletar_infos([dados[\u001b[38;5;124m'\u001b[39m\u001b[38;5;124msite\u001b[39m\u001b[38;5;124m'\u001b[39m][\u001b[38;5;241m0\u001b[39m]])\n",
      "Cell \u001b[1;32mIn[9], line 20\u001b[0m, in \u001b[0;36mcoletar_infos\u001b[1;34m(entrada)\u001b[0m\n\u001b[0;32m     16\u001b[0m     soup \u001b[38;5;241m=\u001b[39m BeautifulSoup(page_content, \u001b[38;5;124m'\u001b[39m\u001b[38;5;124mhtml.parser\u001b[39m\u001b[38;5;124m'\u001b[39m)\n\u001b[0;32m     19\u001b[0m     \u001b[38;5;66;03m# Adicionando os resultados a uma lista\u001b[39;00m\n\u001b[1;32m---> 20\u001b[0m     resultados\u001b[38;5;241m.\u001b[39mappend((texto, html))\n\u001b[0;32m     22\u001b[0m     driver\u001b[38;5;241m.\u001b[39mquit()\n\u001b[0;32m     24\u001b[0m \u001b[38;5;28;01mreturn\u001b[39;00m resultados\n",
      "\u001b[1;31mNameError\u001b[0m: name 'texto' is not defined"
     ]
    }
   ],
   "source": [
    "coletar_infos([dados['site'][0]]) "
   ]
  },
  {
   "cell_type": "code",
   "execution_count": null,
   "id": "04e652c7-6de3-478b-8dc6-576a5454e44b",
   "metadata": {},
   "outputs": [],
   "source": []
  },
  {
   "cell_type": "code",
   "execution_count": null,
   "id": "51533042-d22e-4c98-bdac-2638ed83b013",
   "metadata": {},
   "outputs": [],
   "source": []
  },
  {
   "cell_type": "code",
   "execution_count": null,
   "id": "09c58fdb-3f53-409a-b9da-d1618556bf33",
   "metadata": {},
   "outputs": [],
   "source": []
  },
  {
   "cell_type": "code",
   "execution_count": null,
   "id": "8b645201-ea0a-4101-8db2-01de82db2aa4",
   "metadata": {},
   "outputs": [],
   "source": []
  },
  {
   "cell_type": "code",
   "execution_count": null,
   "id": "d9baa242-cfe3-41e2-b5a3-18bbfebaea75",
   "metadata": {},
   "outputs": [],
   "source": []
  },
  {
   "cell_type": "code",
   "execution_count": null,
   "id": "976a344e-b6cb-47bc-887d-06fb550bb68c",
   "metadata": {},
   "outputs": [],
   "source": []
  },
  {
   "cell_type": "code",
   "execution_count": null,
   "id": "e81d3995-d94c-410d-9d20-482eb820757d",
   "metadata": {},
   "outputs": [],
   "source": []
  },
  {
   "cell_type": "code",
   "execution_count": null,
   "id": "1b0545b6-9ae7-46c3-a5a7-d42042af37c9",
   "metadata": {},
   "outputs": [],
   "source": []
  },
  {
   "cell_type": "code",
   "execution_count": null,
   "id": "cc6943cc-182d-41f2-a9ac-e5a2084cfc91",
   "metadata": {},
   "outputs": [],
   "source": []
  },
  {
   "cell_type": "code",
   "execution_count": null,
   "id": "d3eeafa9-d8c5-43e2-8eb3-ec273d6ebdce",
   "metadata": {},
   "outputs": [],
   "source": []
  },
  {
   "cell_type": "code",
   "execution_count": null,
   "id": "b70d3ff8-09b1-4328-acd3-594a562c5fc6",
   "metadata": {},
   "outputs": [],
   "source": []
  },
  {
   "cell_type": "code",
   "execution_count": null,
   "id": "832997ae-e2f7-4e6c-97a9-0f2f1f91bb54",
   "metadata": {},
   "outputs": [],
   "source": []
  },
  {
   "cell_type": "code",
   "execution_count": null,
   "id": "f0ea1cca-f6d6-4e97-8660-987d748c4953",
   "metadata": {},
   "outputs": [],
   "source": []
  },
  {
   "cell_type": "code",
   "execution_count": null,
   "id": "04ce6710-398d-4ef6-82d1-6fc63d76473f",
   "metadata": {},
   "outputs": [],
   "source": []
  },
  {
   "cell_type": "code",
   "execution_count": null,
   "id": "61fcac5f-654c-40db-8bca-e66b20bf5f36",
   "metadata": {},
   "outputs": [],
   "source": []
  },
  {
   "cell_type": "code",
   "execution_count": null,
   "id": "bc11637e-5c21-4f44-8f5a-b71179eba1f0",
   "metadata": {},
   "outputs": [],
   "source": []
  },
  {
   "cell_type": "code",
   "execution_count": null,
   "id": "e662f67c-9c6a-4bbd-8625-d36724643cf7",
   "metadata": {},
   "outputs": [],
   "source": []
  },
  {
   "cell_type": "code",
   "execution_count": null,
   "id": "8513a97f-aca6-4ac0-a84c-fdd82e8dd8d6",
   "metadata": {},
   "outputs": [],
   "source": []
  },
  {
   "cell_type": "code",
   "execution_count": null,
   "id": "b61ddbed-31fd-4c60-9f82-74cbb0517863",
   "metadata": {},
   "outputs": [],
   "source": []
  },
  {
   "cell_type": "code",
   "execution_count": null,
   "id": "46efd37e-af9f-4319-9f1a-d8b6895ea2f3",
   "metadata": {},
   "outputs": [],
   "source": []
  },
  {
   "cell_type": "code",
   "execution_count": null,
   "id": "e7f3e0f4-05a0-496b-a408-e92ea23bc4e4",
   "metadata": {},
   "outputs": [],
   "source": []
  },
  {
   "cell_type": "code",
   "execution_count": null,
   "id": "947536c9-2da9-489a-ab3b-963680aad1f6",
   "metadata": {},
   "outputs": [],
   "source": []
  },
  {
   "cell_type": "code",
   "execution_count": null,
   "id": "38bdf6c8-a110-4e99-ab5c-2457c22133ab",
   "metadata": {},
   "outputs": [],
   "source": []
  }
 ],
 "metadata": {
  "kernelspec": {
   "display_name": "Python 3 (ipykernel)",
   "language": "python",
   "name": "python3"
  },
  "language_info": {
   "codemirror_mode": {
    "name": "ipython",
    "version": 3
   },
   "file_extension": ".py",
   "mimetype": "text/x-python",
   "name": "python",
   "nbconvert_exporter": "python",
   "pygments_lexer": "ipython3",
   "version": "3.11.8"
  }
 },
 "nbformat": 4,
 "nbformat_minor": 5
}
