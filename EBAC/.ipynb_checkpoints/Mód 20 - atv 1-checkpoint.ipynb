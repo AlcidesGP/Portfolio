{
 "cells": [
  {
   "cell_type": "markdown",
   "id": "8349ec13",
   "metadata": {},
   "source": [
    "\n",
    "## Fórmula de Bhaskara\n",
    "$$x =\\frac{-b \\pm \\sqrt{b^2 - 4ac}}{2a}$$\n",
    "\n",
    "## Delta\n",
    "$$\\Delta = b^2 - 4ac $$\n"
   ]
  }
 ],
 "metadata": {
  "kernelspec": {
   "display_name": "Python 3 (ipykernel)",
   "language": "python",
   "name": "python3"
  },
  "language_info": {
   "codemirror_mode": {
    "name": "ipython",
    "version": 3
   },
   "file_extension": ".py",
   "mimetype": "text/x-python",
   "name": "python",
   "nbconvert_exporter": "python",
   "pygments_lexer": "ipython3",
   "version": "3.11.5"
  }
 },
 "nbformat": 4,
 "nbformat_minor": 5
}
