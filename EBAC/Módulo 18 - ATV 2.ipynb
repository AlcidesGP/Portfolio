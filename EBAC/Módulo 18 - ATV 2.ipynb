{
 "cells": [
  {
   "cell_type": "markdown",
   "metadata": {},
   "source": [
    "# Árvores II - Tarefa 2"
   ]
  },
  {
   "cell_type": "markdown",
   "metadata": {},
   "source": [
    "### 1. Carregar as bases\n",
    "\n",
    "Vamos carregar as bases lidas na tarefa passada. Se você salvou essas bases em arquivo texto, basta fazer a leitura com o comando ```pd.read_csv``` das seguintes bases:\n",
    "\n",
    "- X_train\n",
    "- Y_train\n",
    "- X_test\n",
    "- Y_test\n",
    "\n",
    "Não se esqueça de considerar a leitura dos índices dos arquivos no ```read_csv()```!"
   ]
  },
  {
   "cell_type": "code",
   "execution_count": 54,
   "metadata": {},
   "outputs": [],
   "source": [
    "import pandas as pd\n",
    "import seaborn as sns\n",
    "import matplotlib.pyplot as plt\n",
    "import numpy as np\n",
    "from sklearn.tree import DecisionTreeClassifier\n",
    "from sklearn.model_selection import train_test_split\n",
    "from sklearn.metrics import confusion_matrix, classification_report"
   ]
  },
  {
   "cell_type": "markdown",
   "metadata": {},
   "source": [
    "#### Importação dos dados \n"
   ]
  },
  {
   "cell_type": "code",
   "execution_count": 3,
   "metadata": {},
   "outputs": [],
   "source": [
    "# Importação\n",
    "Features = pd.read_table(\"./Dados\\\\UCI HAR Dataset\\\\UCI HAR Dataset\\\\features.txt\", delim_whitespace=True, header=None)\n",
    "X_train = pd.read_table('./Dados\\\\UCI HAR Dataset\\\\UCI HAR Dataset\\\\train\\X_train.txt', delim_whitespace=True, header=None)\n",
    "y_train = pd.read_table('./Dados\\\\UCI HAR Dataset\\\\UCI HAR Dataset\\\\train\\y_train.txt',delim_whitespace=True, header=None)\n",
    "subj_train = pd.read_table('./Dados\\\\UCI HAR Dataset\\\\UCI HAR Dataset\\\\train\\subject_train.txt',delim_whitespace=True, header=None)\n",
    "X_test = pd.read_table('./Dados\\\\UCI HAR Dataset\\\\UCI HAR Dataset\\\\test\\\\X_test.txt',delim_whitespace=True, header=None)\n",
    "y_test = pd.read_table('./Dados\\\\UCI HAR Dataset\\\\UCI HAR Dataset\\\\test\\y_test.txt',delim_whitespace=True, header=None)\n",
    "subj_test = pd.read_table('./Dados\\\\UCI HAR Dataset\\\\UCI HAR Dataset\\\\test\\subject_test.txt',delim_whitespace=True, header=None)\n",
    "\n",
    "# Tratamento\n",
    "X_train.columns = Features[1]\n",
    "X_test.columns = Features[1]\n",
    "X_test['subject'] = subj_test\n",
    "X_train['subject'] = subj_train"
   ]
  },
  {
   "cell_type": "markdown",
   "metadata": {},
   "source": [
    "### 2. Divisão da base em Treino, Validação e Teste\n",
    "\n",
    "A base já se encontra dividida em Treino e Validação. O que vamos fazer então é extrair uma base de Validação da base de Treino.\n",
    "\n",
    "Extraia 25% da base de treino como base de validação."
   ]
  },
  {
   "cell_type": "code",
   "execution_count": 25,
   "metadata": {},
   "outputs": [],
   "source": [
    "X_valid = X_train.sample(frac=0.25).copy()\n",
    "indice_treino_test = indice = list(set(X_train.index) - set(X_valid.index))\n",
    "y_valid = y_train.iloc[X_valid.index,:]\n",
    "X_train = X_train.iloc[indice_treino_test, :]\n",
    "y_train = y_train.iloc[indice_treino_test, :]"
   ]
  },
  {
   "cell_type": "code",
   "execution_count": 26,
   "metadata": {},
   "outputs": [
    {
     "data": {
      "text/html": [
       "<div>\n",
       "<style scoped>\n",
       "    .dataframe tbody tr th:only-of-type {\n",
       "        vertical-align: middle;\n",
       "    }\n",
       "\n",
       "    .dataframe tbody tr th {\n",
       "        vertical-align: top;\n",
       "    }\n",
       "\n",
       "    .dataframe thead th {\n",
       "        text-align: right;\n",
       "    }\n",
       "</style>\n",
       "<table border=\"1\" class=\"dataframe\">\n",
       "  <thead>\n",
       "    <tr style=\"text-align: right;\">\n",
       "      <th>1</th>\n",
       "      <th>tBodyAcc-mean()-X</th>\n",
       "      <th>tBodyAcc-mean()-Y</th>\n",
       "      <th>tBodyAcc-mean()-Z</th>\n",
       "      <th>tBodyAcc-std()-X</th>\n",
       "      <th>tBodyAcc-std()-Y</th>\n",
       "      <th>tBodyAcc-std()-Z</th>\n",
       "      <th>tBodyAcc-mad()-X</th>\n",
       "      <th>tBodyAcc-mad()-Y</th>\n",
       "      <th>tBodyAcc-mad()-Z</th>\n",
       "      <th>tBodyAcc-max()-X</th>\n",
       "      <th>...</th>\n",
       "      <th>fBodyBodyGyroJerkMag-skewness()</th>\n",
       "      <th>fBodyBodyGyroJerkMag-kurtosis()</th>\n",
       "      <th>angle(tBodyAccMean,gravity)</th>\n",
       "      <th>angle(tBodyAccJerkMean),gravityMean)</th>\n",
       "      <th>angle(tBodyGyroMean,gravityMean)</th>\n",
       "      <th>angle(tBodyGyroJerkMean,gravityMean)</th>\n",
       "      <th>angle(X,gravityMean)</th>\n",
       "      <th>angle(Y,gravityMean)</th>\n",
       "      <th>angle(Z,gravityMean)</th>\n",
       "      <th>subject</th>\n",
       "    </tr>\n",
       "  </thead>\n",
       "  <tbody>\n",
       "    <tr>\n",
       "      <th>3442</th>\n",
       "      <td>0.275638</td>\n",
       "      <td>-0.015203</td>\n",
       "      <td>-0.122476</td>\n",
       "      <td>-0.997891</td>\n",
       "      <td>-0.991359</td>\n",
       "      <td>-0.989268</td>\n",
       "      <td>-0.997980</td>\n",
       "      <td>-0.990710</td>\n",
       "      <td>-0.987728</td>\n",
       "      <td>-0.945770</td>\n",
       "      <td>...</td>\n",
       "      <td>-0.656875</td>\n",
       "      <td>-0.889213</td>\n",
       "      <td>0.055826</td>\n",
       "      <td>-0.208450</td>\n",
       "      <td>-0.542847</td>\n",
       "      <td>0.393260</td>\n",
       "      <td>-0.701697</td>\n",
       "      <td>0.299009</td>\n",
       "      <td>0.064672</td>\n",
       "      <td>17</td>\n",
       "    </tr>\n",
       "    <tr>\n",
       "      <th>2460</th>\n",
       "      <td>0.275001</td>\n",
       "      <td>-0.019195</td>\n",
       "      <td>-0.107682</td>\n",
       "      <td>-0.969739</td>\n",
       "      <td>-0.966048</td>\n",
       "      <td>-0.937678</td>\n",
       "      <td>-0.976775</td>\n",
       "      <td>-0.969157</td>\n",
       "      <td>-0.948871</td>\n",
       "      <td>-0.874746</td>\n",
       "      <td>...</td>\n",
       "      <td>-0.294847</td>\n",
       "      <td>-0.728074</td>\n",
       "      <td>0.281236</td>\n",
       "      <td>-0.000636</td>\n",
       "      <td>0.159831</td>\n",
       "      <td>0.155697</td>\n",
       "      <td>0.289325</td>\n",
       "      <td>-0.257320</td>\n",
       "      <td>-0.688797</td>\n",
       "      <td>14</td>\n",
       "    </tr>\n",
       "    <tr>\n",
       "      <th>5786</th>\n",
       "      <td>0.244161</td>\n",
       "      <td>-0.007055</td>\n",
       "      <td>-0.124610</td>\n",
       "      <td>-0.460954</td>\n",
       "      <td>-0.239890</td>\n",
       "      <td>-0.373710</td>\n",
       "      <td>-0.495188</td>\n",
       "      <td>-0.294438</td>\n",
       "      <td>-0.393872</td>\n",
       "      <td>-0.239120</td>\n",
       "      <td>...</td>\n",
       "      <td>0.446984</td>\n",
       "      <td>0.191863</td>\n",
       "      <td>0.580924</td>\n",
       "      <td>-0.120099</td>\n",
       "      <td>-0.720608</td>\n",
       "      <td>-0.079328</td>\n",
       "      <td>-0.844061</td>\n",
       "      <td>0.176969</td>\n",
       "      <td>-0.059061</td>\n",
       "      <td>26</td>\n",
       "    </tr>\n",
       "    <tr>\n",
       "      <th>1510</th>\n",
       "      <td>0.279752</td>\n",
       "      <td>-0.014677</td>\n",
       "      <td>-0.111577</td>\n",
       "      <td>-0.996335</td>\n",
       "      <td>-0.987600</td>\n",
       "      <td>-0.960093</td>\n",
       "      <td>-0.996611</td>\n",
       "      <td>-0.986621</td>\n",
       "      <td>-0.955519</td>\n",
       "      <td>-0.937894</td>\n",
       "      <td>...</td>\n",
       "      <td>-0.072443</td>\n",
       "      <td>-0.314648</td>\n",
       "      <td>-0.130988</td>\n",
       "      <td>0.098813</td>\n",
       "      <td>-0.595136</td>\n",
       "      <td>0.427502</td>\n",
       "      <td>-0.937356</td>\n",
       "      <td>0.100813</td>\n",
       "      <td>-0.029001</td>\n",
       "      <td>7</td>\n",
       "    </tr>\n",
       "    <tr>\n",
       "      <th>1855</th>\n",
       "      <td>0.267415</td>\n",
       "      <td>-0.052944</td>\n",
       "      <td>-0.084038</td>\n",
       "      <td>-0.072639</td>\n",
       "      <td>0.542015</td>\n",
       "      <td>0.092334</td>\n",
       "      <td>-0.104618</td>\n",
       "      <td>0.488658</td>\n",
       "      <td>0.150805</td>\n",
       "      <td>0.113131</td>\n",
       "      <td>...</td>\n",
       "      <td>-0.483650</td>\n",
       "      <td>-0.796148</td>\n",
       "      <td>0.071781</td>\n",
       "      <td>-0.033172</td>\n",
       "      <td>-0.945309</td>\n",
       "      <td>-0.738959</td>\n",
       "      <td>-0.637323</td>\n",
       "      <td>0.189335</td>\n",
       "      <td>0.260197</td>\n",
       "      <td>8</td>\n",
       "    </tr>\n",
       "  </tbody>\n",
       "</table>\n",
       "<p>5 rows × 562 columns</p>\n",
       "</div>"
      ],
      "text/plain": [
       "1     tBodyAcc-mean()-X  tBodyAcc-mean()-Y  tBodyAcc-mean()-Z  \\\n",
       "3442           0.275638          -0.015203          -0.122476   \n",
       "2460           0.275001          -0.019195          -0.107682   \n",
       "5786           0.244161          -0.007055          -0.124610   \n",
       "1510           0.279752          -0.014677          -0.111577   \n",
       "1855           0.267415          -0.052944          -0.084038   \n",
       "\n",
       "1     tBodyAcc-std()-X  tBodyAcc-std()-Y  tBodyAcc-std()-Z  tBodyAcc-mad()-X  \\\n",
       "3442         -0.997891         -0.991359         -0.989268         -0.997980   \n",
       "2460         -0.969739         -0.966048         -0.937678         -0.976775   \n",
       "5786         -0.460954         -0.239890         -0.373710         -0.495188   \n",
       "1510         -0.996335         -0.987600         -0.960093         -0.996611   \n",
       "1855         -0.072639          0.542015          0.092334         -0.104618   \n",
       "\n",
       "1     tBodyAcc-mad()-Y  tBodyAcc-mad()-Z  tBodyAcc-max()-X  ...  \\\n",
       "3442         -0.990710         -0.987728         -0.945770  ...   \n",
       "2460         -0.969157         -0.948871         -0.874746  ...   \n",
       "5786         -0.294438         -0.393872         -0.239120  ...   \n",
       "1510         -0.986621         -0.955519         -0.937894  ...   \n",
       "1855          0.488658          0.150805          0.113131  ...   \n",
       "\n",
       "1     fBodyBodyGyroJerkMag-skewness()  fBodyBodyGyroJerkMag-kurtosis()  \\\n",
       "3442                        -0.656875                        -0.889213   \n",
       "2460                        -0.294847                        -0.728074   \n",
       "5786                         0.446984                         0.191863   \n",
       "1510                        -0.072443                        -0.314648   \n",
       "1855                        -0.483650                        -0.796148   \n",
       "\n",
       "1     angle(tBodyAccMean,gravity)  angle(tBodyAccJerkMean),gravityMean)  \\\n",
       "3442                     0.055826                             -0.208450   \n",
       "2460                     0.281236                             -0.000636   \n",
       "5786                     0.580924                             -0.120099   \n",
       "1510                    -0.130988                              0.098813   \n",
       "1855                     0.071781                             -0.033172   \n",
       "\n",
       "1     angle(tBodyGyroMean,gravityMean)  angle(tBodyGyroJerkMean,gravityMean)  \\\n",
       "3442                         -0.542847                              0.393260   \n",
       "2460                          0.159831                              0.155697   \n",
       "5786                         -0.720608                             -0.079328   \n",
       "1510                         -0.595136                              0.427502   \n",
       "1855                         -0.945309                             -0.738959   \n",
       "\n",
       "1     angle(X,gravityMean)  angle(Y,gravityMean)  angle(Z,gravityMean)  \\\n",
       "3442             -0.701697              0.299009              0.064672   \n",
       "2460              0.289325             -0.257320             -0.688797   \n",
       "5786             -0.844061              0.176969             -0.059061   \n",
       "1510             -0.937356              0.100813             -0.029001   \n",
       "1855             -0.637323              0.189335              0.260197   \n",
       "\n",
       "1     subject  \n",
       "3442       17  \n",
       "2460       14  \n",
       "5786       26  \n",
       "1510        7  \n",
       "1855        8  \n",
       "\n",
       "[5 rows x 562 columns]"
      ]
     },
     "execution_count": 26,
     "metadata": {},
     "output_type": "execute_result"
    }
   ],
   "source": [
    "X_valid.head()"
   ]
  },
  {
   "cell_type": "markdown",
   "metadata": {},
   "source": [
    "### 3. Melhores 3 variáveis\n",
    "\n",
    "Rode uma árvore com profundidade máxima igual a 4 para prever a atividade humana com todas as variáveis.\n",
    "Observe a importância das variáveis e considere as 3 variáveis com maior importância para os próximos passos.\n",
    "Dica: utilize o atributo ```clf.feature_importances_``` da árvore treinada."
   ]
  },
  {
   "cell_type": "code",
   "execution_count": 32,
   "metadata": {},
   "outputs": [],
   "source": [
    "clf = DecisionTreeClassifier(max_depth = 4,random_state=20).fit(X_train, y_train)\n",
    "importance = clf.feature_importances_\n",
    "dados = list()\n",
    "for i, v in enumerate(importance):\n",
    "    dados.append([i, v])\n",
    "    \n",
    "dados = pd.DataFrame(dados,columns=['Indice','Importancia'])"
   ]
  },
  {
   "cell_type": "code",
   "execution_count": 37,
   "metadata": {},
   "outputs": [],
   "source": [
    "trees_importances = dados.sort_values(by='Importancia', ascending=False).iloc[:3,:]"
   ]
  },
  {
   "cell_type": "code",
   "execution_count": 38,
   "metadata": {},
   "outputs": [
    {
     "data": {
      "text/html": [
       "<div>\n",
       "<style scoped>\n",
       "    .dataframe tbody tr th:only-of-type {\n",
       "        vertical-align: middle;\n",
       "    }\n",
       "\n",
       "    .dataframe tbody tr th {\n",
       "        vertical-align: top;\n",
       "    }\n",
       "\n",
       "    .dataframe thead th {\n",
       "        text-align: right;\n",
       "    }\n",
       "</style>\n",
       "<table border=\"1\" class=\"dataframe\">\n",
       "  <thead>\n",
       "    <tr style=\"text-align: right;\">\n",
       "      <th></th>\n",
       "      <th>Indice</th>\n",
       "      <th>Importancia</th>\n",
       "    </tr>\n",
       "  </thead>\n",
       "  <tbody>\n",
       "    <tr>\n",
       "      <th>40</th>\n",
       "      <td>40</td>\n",
       "      <td>0.286315</td>\n",
       "    </tr>\n",
       "    <tr>\n",
       "      <th>393</th>\n",
       "      <td>393</td>\n",
       "      <td>0.252060</td>\n",
       "    </tr>\n",
       "    <tr>\n",
       "      <th>41</th>\n",
       "      <td>41</td>\n",
       "      <td>0.165079</td>\n",
       "    </tr>\n",
       "  </tbody>\n",
       "</table>\n",
       "</div>"
      ],
      "text/plain": [
       "     Indice  Importancia\n",
       "40       40     0.286315\n",
       "393     393     0.252060\n",
       "41       41     0.165079"
      ]
     },
     "execution_count": 38,
     "metadata": {},
     "output_type": "execute_result"
    }
   ],
   "source": [
    "trees_importances"
   ]
  },
  {
   "cell_type": "markdown",
   "metadata": {},
   "source": [
    "### 4. Construa uma árvore com as 3 melhores variáveis\n",
    "\n",
    "Utilizando as três variáveis encontradas acima, construa uma árvore de decisão. Encontre o melhor ```ccp_alpha``` utilizando a base de validação, conforme a estrutura que vimos em aula."
   ]
  },
  {
   "cell_type": "code",
   "execution_count": 45,
   "metadata": {},
   "outputs": [],
   "source": [
    "X_train_model = X_train.iloc[:,trees_importances['Indice']].copy()\n",
    "X_valid_model = X_valid.iloc[:,trees_importances['Indice']].copy()\n"
   ]
  },
  {
   "cell_type": "code",
   "execution_count": 46,
   "metadata": {},
   "outputs": [],
   "source": [
    "def modelo_arvore():\n",
    "    \"\"\"\n",
    "    1. Criação do modeo classificador com profundidade máxima para extrair os ccp_alphas.\n",
    "    2. Criar um loop para cada alpha ser treinado no modelo.\n",
    "    3. Treinar cada modelo e salvar o resultado da acurácia para avaliação.\n",
    "    4. Criar o gráfico de cada modelo rodado.\n",
    "    5. Selecionar o modelo com melhor resultado\n",
    "    \"\"\"\n",
    "    \n",
    "    # ----- 1. -------\n",
    "    clf = DecisionTreeClassifier(min_samples_leaf=20, random_state=27)\n",
    "    path = clf.cost_complexity_pruning_path(X_train_model, y_train)\n",
    "    ccp_alphas, imputiries = path.ccp_alphas, path.impurities\n",
    "    ccp_alphas = ccp_alphas[::5] # Para considerar 1 em 5 valores.\n",
    "    \n",
    "    # ----  2. -------\n",
    "    clfs = list()\n",
    "    for ccp_alpha in ccp_alphas:\n",
    "        clf = DecisionTreeClassifier(min_samples_leaf=20, random_state=27, ccp_alpha=ccp_alpha).fit(X_train_model, y_train)\n",
    "        clfs.append(clf)\n",
    "        \n",
    "    # ----  3. -------    \n",
    "    train_scores = [clf.score(X_train_model, y_train) for clf in clfs]\n",
    "    test_scores = [clf.score(X_valid_model, y_valid) for clf in clfs]\n",
    "    \n",
    "    # ----  4. -------   \n",
    "    fig, ax = plt.subplots()\n",
    "    ax.set_xlabel(\"alpha\")\n",
    "    ax.set_ylabel(\"Acurácia\")\n",
    "    ax.set_title(\"Acurácia x alpha do conjunto de dados de treino e teste\")\n",
    "    ax.plot(ccp_alphas, train_scores, marker='o', label='treino', drawstyle='steps-post')\n",
    "    ax.plot(ccp_alphas, test_scores, marker='o', label='treino', drawstyle='steps-post')\n",
    "\n",
    "    ax.legend()\n",
    "    plt.show()\n",
    "    \n",
    "    # ----  5. -------   \n",
    "    \n",
    "    ind_melhor_arvore = len(test_scores) - test_scores[::-1].index(max(test_scores)) -1\n",
    "    melhor_arvore = clfs[ind_melhor_arvore]\n",
    "    display(melhor_arvore)\n",
    "    return melhor_arvore"
   ]
  },
  {
   "cell_type": "code",
   "execution_count": 48,
   "metadata": {},
   "outputs": [
    {
     "data": {
      "image/png": "[encoded data removed]",
      "text/plain": [
       "<Figure size 640x480 with 1 Axes>"
      ]
     },
     "metadata": {},
     "output_type": "display_data"
    },
    {
     "data": {
      "text/html": [
       "<style>#sk-container-id-2 {color: black;}#sk-container-id-2 pre{padding: 0;}#sk-container-id-2 div.sk-toggleable {background-color: white;}#sk-container-id-2 label.sk-toggleable__label {cursor: pointer;display: block;width: 100%;margin-bottom: 0;padding: 0.3em;box-sizing: border-box;text-align: center;}#sk-container-id-2 label.sk-toggleable__label-arrow:before {content: \"▸\";float: left;margin-right: 0.25em;color: #696969;}#sk-container-id-2 label.sk-toggleable__label-arrow:hover:before {color: black;}#sk-container-id-2 div.sk-estimator:hover label.sk-toggleable__label-arrow:before {color: black;}#sk-container-id-2 div.sk-toggleable__content {max-height: 0;max-width: 0;overflow: hidden;text-align: left;background-color: #f0f8ff;}#sk-container-id-2 div.sk-toggleable__content pre {margin: 0.2em;color: black;border-radius: 0.25em;background-color: #f0f8ff;}#sk-container-id-2 input.sk-toggleable__control:checked~div.sk-toggleable__content {max-height: 200px;max-width: 100%;overflow: auto;}#sk-container-id-2 input.sk-toggleable__control:checked~label.sk-toggleable__label-arrow:before {content: \"▾\";}#sk-container-id-2 div.sk-estimator input.sk-toggleable__control:checked~label.sk-toggleable__label {background-color: #d4ebff;}#sk-container-id-2 div.sk-label input.sk-toggleable__control:checked~label.sk-toggleable__label {background-color: #d4ebff;}#sk-container-id-2 input.sk-hidden--visually {border: 0;clip: rect(1px 1px 1px 1px);clip: rect(1px, 1px, 1px, 1px);height: 1px;margin: -1px;overflow: hidden;padding: 0;position: absolute;width: 1px;}#sk-container-id-2 div.sk-estimator {font-family: monospace;background-color: #f0f8ff;border: 1px dotted black;border-radius: 0.25em;box-sizing: border-box;margin-bottom: 0.5em;}#sk-container-id-2 div.sk-estimator:hover {background-color: #d4ebff;}#sk-container-id-2 div.sk-parallel-item::after {content: \"\";width: 100%;border-bottom: 1px solid gray;flex-grow: 1;}#sk-container-id-2 div.sk-label:hover label.sk-toggleable__label {background-color: #d4ebff;}#sk-container-id-2 div.sk-serial::before {content: \"\";position: absolute;border-left: 1px solid gray;box-sizing: border-box;top: 0;bottom: 0;left: 50%;z-index: 0;}#sk-container-id-2 div.sk-serial {display: flex;flex-direction: column;align-items: center;background-color: white;padding-right: 0.2em;padding-left: 0.2em;position: relative;}#sk-container-id-2 div.sk-item {position: relative;z-index: 1;}#sk-container-id-2 div.sk-parallel {display: flex;align-items: stretch;justify-content: center;background-color: white;position: relative;}#sk-container-id-2 div.sk-item::before, #sk-container-id-2 div.sk-parallel-item::before {content: \"\";position: absolute;border-left: 1px solid gray;box-sizing: border-box;top: 0;bottom: 0;left: 50%;z-index: -1;}#sk-container-id-2 div.sk-parallel-item {display: flex;flex-direction: column;z-index: 1;position: relative;background-color: white;}#sk-container-id-2 div.sk-parallel-item:first-child::after {align-self: flex-end;width: 50%;}#sk-container-id-2 div.sk-parallel-item:last-child::after {align-self: flex-start;width: 50%;}#sk-container-id-2 div.sk-parallel-item:only-child::after {width: 0;}#sk-container-id-2 div.sk-dashed-wrapped {border: 1px dashed gray;margin: 0 0.4em 0.5em 0.4em;box-sizing: border-box;padding-bottom: 0.4em;background-color: white;}#sk-container-id-2 div.sk-label label {font-family: monospace;font-weight: bold;display: inline-block;line-height: 1.2em;}#sk-container-id-2 div.sk-label-container {text-align: center;}#sk-container-id-2 div.sk-container {/* jupyter's `normalize.less` sets `[hidden] { display: none; }` but bootstrap.min.css set `[hidden] { display: none !important; }` so we also need the `!important` here to be able to override the default hidden behavior on the sphinx rendered scikit-learn.org. See: https://github.com/scikit-learn/scikit-learn/issues/21755 */display: inline-block !important;position: relative;}#sk-container-id-2 div.sk-text-repr-fallback {display: none;}</style><div id=\"sk-container-id-2\" class=\"sk-top-container\"><div class=\"sk-text-repr-fallback\"><pre>DecisionTreeClassifier(ccp_alpha=0.0005866258418186837, min_samples_leaf=20,\n",
       "                       random_state=27)</pre><b>In a Jupyter environment, please rerun this cell to show the HTML representation or trust the notebook. <br />On GitHub, the HTML representation is unable to render, please try loading this page with nbviewer.org.</b></div><div class=\"sk-container\" hidden><div class=\"sk-item\"><div class=\"sk-estimator sk-toggleable\"><input class=\"sk-toggleable__control sk-hidden--visually\" id=\"sk-estimator-id-2\" type=\"checkbox\" checked><label for=\"sk-estimator-id-2\" class=\"sk-toggleable__label sk-toggleable__label-arrow\">DecisionTreeClassifier</label><div class=\"sk-toggleable__content\"><pre>DecisionTreeClassifier(ccp_alpha=0.0005866258418186837, min_samples_leaf=20,\n",
       "                       random_state=27)</pre></div></div></div></div></div>"
      ],
      "text/plain": [
       "DecisionTreeClassifier(ccp_alpha=0.0005866258418186837, min_samples_leaf=20,\n",
       "                       random_state=27)"
      ]
     },
     "metadata": {},
     "output_type": "display_data"
    }
   ],
   "source": [
    "classificador_arvore = modelo_arvore()"
   ]
  },
  {
   "cell_type": "markdown",
   "metadata": {},
   "source": [
    "### 5. Avaliação do modelo\n",
    "\n",
    "Avalie a árvore encontrada no item anterior na base de testes."
   ]
  },
  {
   "cell_type": "code",
   "execution_count": 53,
   "metadata": {},
   "outputs": [
    {
     "data": {
      "image/png": "[encoded data removed]",
      "text/plain": [
       "<Figure size 640x480 with 2 Axes>"
      ]
     },
     "metadata": {},
     "output_type": "display_data"
    }
   ],
   "source": [
    "y_prev = classificador_arvore.predict(X_valid_model)\n",
    "plt.title('Matriz de confusão')\n",
    "sns.heatmap(confusion_matrix(y_valid, y_prev), annot=True, fmt='.0f');\n"
   ]
  },
  {
   "cell_type": "code",
   "execution_count": 56,
   "metadata": {},
   "outputs": [
    {
     "name": "stdout",
     "output_type": "stream",
     "text": [
      "              precision    recall  f1-score   support\n",
      "\n",
      "           1       0.67      0.79      0.73       304\n",
      "           2       0.89      0.72      0.80       273\n",
      "           3       0.75      0.74      0.74       253\n",
      "           4       0.89      0.90      0.89       325\n",
      "           5       0.91      0.90      0.90       353\n",
      "           6       1.00      1.00      1.00       330\n",
      "\n",
      "    accuracy                           0.85      1838\n",
      "   macro avg       0.85      0.84      0.84      1838\n",
      "weighted avg       0.86      0.85      0.85      1838\n",
      "\n"
     ]
    }
   ],
   "source": [
    "print(classification_report(y_valid, y_prev))"
   ]
  }
 ],
 "metadata": {
  "kernelspec": {
   "display_name": "Python 3 (ipykernel)",
   "language": "python",
   "name": "python3"
  },
  "language_info": {
   "codemirror_mode": {
    "name": "ipython",
    "version": 3
   },
   "file_extension": ".py",
   "mimetype": "text/x-python",
   "name": "python",
   "nbconvert_exporter": "python",
   "pygments_lexer": "ipython3",
   "version": "3.11.5"
  }
 },
 "nbformat": 4,
 "nbformat_minor": 4
}
