{
 "cells": [
  {
   "cell_type": "markdown",
   "metadata": {},
   "source": [
    "# Módulo 5 Tarefa 1\n",
    "## Base de nascidos vivos do DataSUS\n",
    "O DataSUS disponibiliza diversos arquivos de dados com relação a seus segurados, conforme a [lei da transparência de informações públicas](https://www.sisgov.com/transparencia-acesso-informacao/#:~:text=A%20Lei%20da%20Transpar%C3%AAncia%20(LC,em%20um%20site%20na%20internet.). \n",
    "\n",
    "Essas informações podem ser obtidas pela internet [aqui](http://www2.datasus.gov.br/DATASUS/index.php?area=0901&item=1). Como o processo de obtenção desses arquivos foge um pouco do nosso escopo, deixamos o arquivo ```SINASC_RO_2019.csv``` já como vai ser encontrado no DataSUS. O dicionário de dados está no arquivo ```estrutura_sinasc_para_CD.pdf``` (o nome do arquivo tal qual no portal do DataSUS).\n",
    "\n",
    "### Nosso objetivo\n",
    "Queremos deixar uma base organizada para podermos estudar a relação entre partos com risco para o bebê e algumas condições como tempo de parto, consultas de pré-natal etc.\n",
    "\n",
    "#### Preparação da base\n",
    "1. Carregue a base 'SINASC_RO_2019.csv'. Conte o número de registros e o número de registros não duplicados da base. Dica: você aprendeu um método que remove duplicados, encadeie este método com um outro método que conta o número de linhas. **Há linhas duplicadas?**  \n",
    "\n",
    "2. Conte o número de valores *missing* por variável.  \n",
    "\n",
    "3. Ok, no item anterior você deve ter achado pouco prático ler a informação de tantas variáveis, muitas delas nem devem ser interesantes. Então crie uma seleção dessa base somente com as colunas que interessam. São elas:\n",
    "``` \n",
    "['LOCNASC', 'IDADEMAE', 'ESTCIVMAE', 'ESCMAE', 'QTDFILVIVO', \n",
    "    'GESTACAO', 'GRAVIDEZ', 'CONSULTAS', 'APGAR5'] \n",
    "```\n",
    "Refaça a contagem de valores *missings*.  \n",
    "\n",
    "4. Apgar é uma *nota* que o pediatra dá ao bebê quando nasce de acordo com algumas características associadas principalmente à respiração. Apgar 1 e Apgar 5 são as notas 1 e 5 minutos do nascimento. Apgar5 será a nossa variável de interesse principal. Então remova todos os registros com Apgar5 não preenchido. Para esta seleção, conte novamente o número de linhas e o número de *missings*.  \n",
    "\n",
    "5. observe que as variáveis ```['ESTCIVMAE', 'CONSULTAS']``` possuem o código ```9```, que significa *ignorado*. Vamos assumir que o não preenchido é o mesmo que o código ```9```.<br>\n",
    "6. Substitua os valores faltantes da quantitativa (```QTDFILVIVO```) por zero.  \n",
    "7. Das restantes, decida que valore te parece mais adequado (um 'não preenchido' ou um valor 'mais provável' como no item anterior) e preencha. Justifique. Lembre-se de que tratamento de dados é trabalho do cientista, e que estamos tomando decisões a todo o momento - não há necessariamente certo e errado aqui.  \n",
    "8. O Apgar possui uma classificação indicando se o bebê passou por asfixia:\n",
    "- Entre 8 e 10 está em uma faixa 'normal'. \n",
    "- Entre 6 e 7, significa que o recém-nascido passou por 'asfixia leve'. \n",
    "- Entre 4 e 5 significa 'asfixia moderada'.\n",
    "- Entre 0 e 3 significa 'asfixia severa'.  \n",
    "\n",
    "Crie uma categorização dessa variável com essa codificação e calcule as frequências dessa categorização.  \n",
    "<br>\n",
    "9. Renomeie as variáveis para que fiquem no *snake case*, ou seja, em letras minúsculas, com um *underscore* entre as palávras. Dica: repare que se você não quiser criar um *dataframe* novo, você vai precisar usar a opção ```inplace = True```."
   ]
  },
  {
   "cell_type": "markdown",
   "metadata": {},
   "source": [
    "## Resolução\n",
    "\n",
    "\n",
    "<li style=\"font-size:120%;color:#005073\"> Elaboração de uma função que retornará informações básicas sobre os dados que irá auxiliar na resolução dos problemas propostos. "
   ]
  },
  {
   "cell_type": "code",
   "execution_count": 1,
   "metadata": {},
   "outputs": [],
   "source": [
    "import pandas as pd\n",
    "import requests\n",
    "import numpy as np \n",
    "\n",
    "\n",
    "# 1) \n",
    "sinasc = pd.read_csv(\"C:\\\\Users\\\\alcid\\\\GitHub\\\\Portfolio\\\\EBAC\\\\Dados\\\\SINASC_RO_2019.csv\")\n",
    "def informations(dt: list) -> None: \n",
    "    faltantes = dt.isnull().sum(1)[dt.isnull().sum(1) > 0]\n",
    "    perc_faltantes = round(((faltantes.sum())/(dt.shape[0]*dt.shape[1]))*100,2)\n",
    "    print(f\"\\n\\nO dataset apresenta um formato com \\033[92m{dt.shape[0]}\\033[0m dados e com \\033[92m{dt.shape[1]}\\033[0m atributos.\")\n",
    "    print(f\"O total de linhas que apresentam dados faltantes é igual a \\033[92m{faltantes.count()}\\033[0m e de dados duplicados é de \\033[92m{dt.duplicated().sum()}\\033[0m.\")\n",
    "    print(f\"De um total de \\033[92m{dt.shape[0]*dt.shape[1]}\\033[0m únidades de dados, \\033[92m{faltantes.sum()}\\033[0m são faltantes, representando um total de \\033[92m{perc_faltantes}%\\033[0m \\ndos dados totais.\")\n",
    "    print('\\nSendo os atributos contendo faltantes os apresentados abaixo')\n",
    "    return display(dt.isnull().sum()[dt.isnull().sum() > 0].sort_values(ascending=False))"
   ]
  },
  {
   "cell_type": "code",
   "execution_count": 2,
   "metadata": {},
   "outputs": [
    {
     "name": "stdout",
     "output_type": "stream",
     "text": [
      "\n",
      "\n",
      "O dataset apresenta um formato com \u001b[92m27028\u001b[0m dados e com \u001b[92m69\u001b[0m atributos.\n",
      "O total de linhas que apresentam dados faltantes é igual a \u001b[92m27028\u001b[0m e de dados duplicados é de \u001b[92m0\u001b[0m.\n",
      "De um total de \u001b[92m1864932\u001b[0m únidades de dados, \u001b[92m121594\u001b[0m são faltantes, representando um total de \u001b[92m6.52%\u001b[0m \n",
      "dos dados totais.\n",
      "\n",
      "Sendo os atributos contendo faltantes os apresentados abaixo\n"
     ]
    },
    {
     "data": {
      "text/plain": [
       "DTRECORIGA    27028\n",
       "CODANOMAL     26814\n",
       "IDADEPAI      19421\n",
       "SERIESCMAE    12710\n",
       "DTULTMENST    10072\n",
       "CODOCUPMAE     2907\n",
       "MESPRENAT      2867\n",
       "QTDFILMORT     2098\n",
       "QTDPARTNOR     1879\n",
       "QTDPARTCES     1791\n",
       "QTDFILVIVO     1573\n",
       "SEMAGESTAC     1238\n",
       "TPMETESTIM     1238\n",
       "GESTACAO       1232\n",
       "QTDGESTANT     1212\n",
       "STTRABPART      947\n",
       "CONSPRENAT      930\n",
       "STCESPARTO      747\n",
       "RACACORMAE      661\n",
       "RACACOR         647\n",
       "IDANOMAL        591\n",
       "ESTCIVMAE       317\n",
       "ESCMAE          312\n",
       "CODUFNATU       298\n",
       "NATURALMAE      298\n",
       "CODMUNNATU      298\n",
       "TPAPRESENT      265\n",
       "ESCMAE2010      249\n",
       "ESCMAEAGR1      249\n",
       "CODESTAB        115\n",
       "APGAR5          103\n",
       "APGAR1           96\n",
       "GRAVIDEZ         79\n",
       "TPFUNCRESP       67\n",
       "TPNASCASSI       61\n",
       "DTDECLARAC       52\n",
       "PARTO            49\n",
       "DTNASCMAE        40\n",
       "HORANASC         21\n",
       "TPDOCRESP        14\n",
       "SEXO              4\n",
       "munResLat         1\n",
       "munResLon         1\n",
       "munResAlt         1\n",
       "munResArea        1\n",
       "dtype: int64"
      ]
     },
     "metadata": {},
     "output_type": "display_data"
    }
   ],
   "source": [
    "informations(sinasc)"
   ]
  },
  {
   "cell_type": "markdown",
   "metadata": {},
   "source": [
    "<li style=\"font-size:120%;color:#005073\"> Seleção de features."
   ]
  },
  {
   "cell_type": "code",
   "execution_count": 3,
   "metadata": {},
   "outputs": [
    {
     "name": "stdout",
     "output_type": "stream",
     "text": [
      "\n",
      "\n",
      "O dataset apresenta um formato com \u001b[92m27028\u001b[0m dados e com \u001b[92m9\u001b[0m atributos.\n",
      "O total de linhas que apresentam dados faltantes é igual a \u001b[92m3307\u001b[0m e de dados duplicados é de \u001b[92m16970\u001b[0m.\n",
      "De um total de \u001b[92m243252\u001b[0m únidades de dados, \u001b[92m3616\u001b[0m são faltantes, representando um total de \u001b[92m1.49%\u001b[0m \n",
      "dos dados totais.\n",
      "\n",
      "Sendo os atributos contendo faltantes os apresentados abaixo\n"
     ]
    },
    {
     "data": {
      "text/plain": [
       "QTDFILVIVO    1573\n",
       "GESTACAO      1232\n",
       "ESTCIVMAE      317\n",
       "ESCMAE         312\n",
       "APGAR5         103\n",
       "GRAVIDEZ        79\n",
       "dtype: int64"
      ]
     },
     "metadata": {},
     "output_type": "display_data"
    },
    {
     "data": {
      "text/html": [
       "<div>\n",
       "<style scoped>\n",
       "    .dataframe tbody tr th:only-of-type {\n",
       "        vertical-align: middle;\n",
       "    }\n",
       "\n",
       "    .dataframe tbody tr th {\n",
       "        vertical-align: top;\n",
       "    }\n",
       "\n",
       "    .dataframe thead th {\n",
       "        text-align: right;\n",
       "    }\n",
       "</style>\n",
       "<table border=\"1\" class=\"dataframe\">\n",
       "  <thead>\n",
       "    <tr style=\"text-align: right;\">\n",
       "      <th></th>\n",
       "      <th>LOCNASC</th>\n",
       "      <th>IDADEMAE</th>\n",
       "      <th>ESTCIVMAE</th>\n",
       "      <th>ESCMAE</th>\n",
       "      <th>QTDFILVIVO</th>\n",
       "      <th>GESTACAO</th>\n",
       "      <th>GRAVIDEZ</th>\n",
       "      <th>CONSULTAS</th>\n",
       "      <th>APGAR5</th>\n",
       "    </tr>\n",
       "  </thead>\n",
       "  <tbody>\n",
       "    <tr>\n",
       "      <th>0</th>\n",
       "      <td>1</td>\n",
       "      <td>19</td>\n",
       "      <td>5.0</td>\n",
       "      <td>8 a 11 anos</td>\n",
       "      <td>0.0</td>\n",
       "      <td>37 a 41 semanas</td>\n",
       "      <td>Única</td>\n",
       "      <td>4</td>\n",
       "      <td>10.0</td>\n",
       "    </tr>\n",
       "    <tr>\n",
       "      <th>1</th>\n",
       "      <td>1</td>\n",
       "      <td>29</td>\n",
       "      <td>2.0</td>\n",
       "      <td>8 a 11 anos</td>\n",
       "      <td>1.0</td>\n",
       "      <td>37 a 41 semanas</td>\n",
       "      <td>Única</td>\n",
       "      <td>4</td>\n",
       "      <td>9.0</td>\n",
       "    </tr>\n",
       "    <tr>\n",
       "      <th>2</th>\n",
       "      <td>1</td>\n",
       "      <td>37</td>\n",
       "      <td>9.0</td>\n",
       "      <td>8 a 11 anos</td>\n",
       "      <td>2.0</td>\n",
       "      <td>37 a 41 semanas</td>\n",
       "      <td>Única</td>\n",
       "      <td>4</td>\n",
       "      <td>10.0</td>\n",
       "    </tr>\n",
       "    <tr>\n",
       "      <th>3</th>\n",
       "      <td>1</td>\n",
       "      <td>30</td>\n",
       "      <td>5.0</td>\n",
       "      <td>12 anos ou mais</td>\n",
       "      <td>0.0</td>\n",
       "      <td>37 a 41 semanas</td>\n",
       "      <td>Única</td>\n",
       "      <td>3</td>\n",
       "      <td>10.0</td>\n",
       "    </tr>\n",
       "    <tr>\n",
       "      <th>4</th>\n",
       "      <td>1</td>\n",
       "      <td>30</td>\n",
       "      <td>2.0</td>\n",
       "      <td>8 a 11 anos</td>\n",
       "      <td>1.0</td>\n",
       "      <td>37 a 41 semanas</td>\n",
       "      <td>Única</td>\n",
       "      <td>4</td>\n",
       "      <td>10.0</td>\n",
       "    </tr>\n",
       "  </tbody>\n",
       "</table>\n",
       "</div>"
      ],
      "text/plain": [
       "   LOCNASC  IDADEMAE  ESTCIVMAE           ESCMAE  QTDFILVIVO         GESTACAO  \\\n",
       "0        1        19        5.0      8 a 11 anos         0.0  37 a 41 semanas   \n",
       "1        1        29        2.0      8 a 11 anos         1.0  37 a 41 semanas   \n",
       "2        1        37        9.0      8 a 11 anos         2.0  37 a 41 semanas   \n",
       "3        1        30        5.0  12 anos ou mais         0.0  37 a 41 semanas   \n",
       "4        1        30        2.0      8 a 11 anos         1.0  37 a 41 semanas   \n",
       "\n",
       "  GRAVIDEZ  CONSULTAS  APGAR5  \n",
       "0    Única          4    10.0  \n",
       "1    Única          4     9.0  \n",
       "2    Única          4    10.0  \n",
       "3    Única          3    10.0  \n",
       "4    Única          4    10.0  "
      ]
     },
     "metadata": {},
     "output_type": "display_data"
    }
   ],
   "source": [
    "# Alterar a base de dados\n",
    "df = sinasc[['LOCNASC', 'IDADEMAE', 'ESTCIVMAE', 'ESCMAE', 'QTDFILVIVO','GESTACAO', 'GRAVIDEZ', 'CONSULTAS', 'APGAR5']] \n",
    "informations(df)\n",
    "display(df.head())"
   ]
  },
  {
   "cell_type": "markdown",
   "metadata": {},
   "source": [
    "<li style=\"font-size:120%;color:#005073\"> Apagar dados faltantes."
   ]
  },
  {
   "cell_type": "code",
   "execution_count": 4,
   "metadata": {},
   "outputs": [
    {
     "name": "stdout",
     "output_type": "stream",
     "text": [
      "\n",
      "\n",
      "O dataset apresenta um formato com \u001b[92m26925\u001b[0m dados e com \u001b[92m9\u001b[0m atributos.\n",
      "O total de linhas que apresentam dados faltantes é igual a \u001b[92m3204\u001b[0m e de dados duplicados é de \u001b[92m16969\u001b[0m.\n",
      "De um total de \u001b[92m242325\u001b[0m únidades de dados, \u001b[92m3483\u001b[0m são faltantes, representando um total de \u001b[92m1.44%\u001b[0m \n",
      "dos dados totais.\n",
      "\n",
      "Sendo os atributos contendo faltantes os apresentados abaixo\n"
     ]
    },
    {
     "data": {
      "text/plain": [
       "QTDFILVIVO    1566\n",
       "GESTACAO      1216\n",
       "ESTCIVMAE      315\n",
       "ESCMAE         310\n",
       "GRAVIDEZ        76\n",
       "dtype: int64"
      ]
     },
     "metadata": {},
     "output_type": "display_data"
    }
   ],
   "source": [
    "# 3) seu código aqui\n",
    "df_apgar5 = df.dropna(subset='APGAR5')\n",
    "informations(df_apgar5)"
   ]
  },
  {
   "cell_type": "markdown",
   "metadata": {},
   "source": [
    "<li style=\"font-size:120%;color:#005073\"> Preencher os faltantes quantitativos com \"9\""
   ]
  },
  {
   "cell_type": "code",
   "execution_count": 5,
   "metadata": {},
   "outputs": [
    {
     "data": {
      "text/html": [
       "<div>\n",
       "<style scoped>\n",
       "    .dataframe tbody tr th:only-of-type {\n",
       "        vertical-align: middle;\n",
       "    }\n",
       "\n",
       "    .dataframe tbody tr th {\n",
       "        vertical-align: top;\n",
       "    }\n",
       "\n",
       "    .dataframe thead th {\n",
       "        text-align: right;\n",
       "    }\n",
       "</style>\n",
       "<table border=\"1\" class=\"dataframe\">\n",
       "  <thead>\n",
       "    <tr style=\"text-align: right;\">\n",
       "      <th></th>\n",
       "      <th>count</th>\n",
       "      <th>mean</th>\n",
       "      <th>std</th>\n",
       "      <th>min</th>\n",
       "      <th>25%</th>\n",
       "      <th>50%</th>\n",
       "      <th>75%</th>\n",
       "      <th>max</th>\n",
       "    </tr>\n",
       "  </thead>\n",
       "  <tbody>\n",
       "    <tr>\n",
       "      <th>LOCNASC</th>\n",
       "      <td>26925.0</td>\n",
       "      <td>1.007168</td>\n",
       "      <td>0.126025</td>\n",
       "      <td>1.0</td>\n",
       "      <td>1.0</td>\n",
       "      <td>1.0</td>\n",
       "      <td>1.0</td>\n",
       "      <td>4.0</td>\n",
       "    </tr>\n",
       "    <tr>\n",
       "      <th>IDADEMAE</th>\n",
       "      <td>26925.0</td>\n",
       "      <td>26.095339</td>\n",
       "      <td>6.386409</td>\n",
       "      <td>11.0</td>\n",
       "      <td>21.0</td>\n",
       "      <td>26.0</td>\n",
       "      <td>31.0</td>\n",
       "      <td>53.0</td>\n",
       "    </tr>\n",
       "    <tr>\n",
       "      <th>ESTCIVMAE</th>\n",
       "      <td>26610.0</td>\n",
       "      <td>2.544720</td>\n",
       "      <td>1.670264</td>\n",
       "      <td>1.0</td>\n",
       "      <td>1.0</td>\n",
       "      <td>2.0</td>\n",
       "      <td>5.0</td>\n",
       "      <td>9.0</td>\n",
       "    </tr>\n",
       "    <tr>\n",
       "      <th>QTDFILVIVO</th>\n",
       "      <td>25359.0</td>\n",
       "      <td>1.050712</td>\n",
       "      <td>1.166966</td>\n",
       "      <td>0.0</td>\n",
       "      <td>0.0</td>\n",
       "      <td>1.0</td>\n",
       "      <td>2.0</td>\n",
       "      <td>30.0</td>\n",
       "    </tr>\n",
       "    <tr>\n",
       "      <th>CONSULTAS</th>\n",
       "      <td>26925.0</td>\n",
       "      <td>3.578793</td>\n",
       "      <td>0.785540</td>\n",
       "      <td>1.0</td>\n",
       "      <td>3.0</td>\n",
       "      <td>4.0</td>\n",
       "      <td>4.0</td>\n",
       "      <td>9.0</td>\n",
       "    </tr>\n",
       "    <tr>\n",
       "      <th>APGAR5</th>\n",
       "      <td>26925.0</td>\n",
       "      <td>9.179164</td>\n",
       "      <td>0.790574</td>\n",
       "      <td>0.0</td>\n",
       "      <td>9.0</td>\n",
       "      <td>9.0</td>\n",
       "      <td>10.0</td>\n",
       "      <td>10.0</td>\n",
       "    </tr>\n",
       "  </tbody>\n",
       "</table>\n",
       "</div>"
      ],
      "text/plain": [
       "              count       mean       std   min   25%   50%   75%   max\n",
       "LOCNASC     26925.0   1.007168  0.126025   1.0   1.0   1.0   1.0   4.0\n",
       "IDADEMAE    26925.0  26.095339  6.386409  11.0  21.0  26.0  31.0  53.0\n",
       "ESTCIVMAE   26610.0   2.544720  1.670264   1.0   1.0   2.0   5.0   9.0\n",
       "QTDFILVIVO  25359.0   1.050712  1.166966   0.0   0.0   1.0   2.0  30.0\n",
       "CONSULTAS   26925.0   3.578793  0.785540   1.0   3.0   4.0   4.0   9.0\n",
       "APGAR5      26925.0   9.179164  0.790574   0.0   9.0   9.0  10.0  10.0"
      ]
     },
     "metadata": {},
     "output_type": "display_data"
    },
    {
     "name": "stdout",
     "output_type": "stream",
     "text": [
      "\n",
      "\n",
      "O dataset apresenta um formato com \u001b[92m26925\u001b[0m dados e com \u001b[92m9\u001b[0m atributos.\n",
      "O total de linhas que apresentam dados faltantes é igual a \u001b[92m2964\u001b[0m e de dados duplicados é de \u001b[92m16998\u001b[0m.\n",
      "De um total de \u001b[92m242325\u001b[0m únidades de dados, \u001b[92m3168\u001b[0m são faltantes, representando um total de \u001b[92m1.31%\u001b[0m \n",
      "dos dados totais.\n",
      "\n",
      "Sendo os atributos contendo faltantes os apresentados abaixo\n"
     ]
    },
    {
     "data": {
      "text/plain": [
       "QTDFILVIVO    1566\n",
       "GESTACAO      1216\n",
       "ESCMAE         310\n",
       "GRAVIDEZ        76\n",
       "dtype: int64"
      ]
     },
     "metadata": {},
     "output_type": "display_data"
    }
   ],
   "source": [
    "# 4) Confirmar que o valor máximo é 9\n",
    "display(df_apgar5.describe().T)\n",
    "for i in ['ESTCIVMAE','CONSULTAS']:\n",
    "    df_apgar5.loc[:,i] = df_apgar5[i].fillna(9)\n",
    "informations(df_apgar5)"
   ]
  },
  {
   "cell_type": "markdown",
   "metadata": {},
   "source": [
    "<li style=\"font-size:120%;color:#005073\"> Preencher faltantes com \"0\""
   ]
  },
  {
   "cell_type": "code",
   "execution_count": 6,
   "metadata": {},
   "outputs": [
    {
     "name": "stdout",
     "output_type": "stream",
     "text": [
      "\n",
      "\n",
      "O dataset apresenta um formato com \u001b[92m26925\u001b[0m dados e com \u001b[92m9\u001b[0m atributos.\n",
      "O total de linhas que apresentam dados faltantes é igual a \u001b[92m1550\u001b[0m e de dados duplicados é de \u001b[92m17541\u001b[0m.\n",
      "De um total de \u001b[92m242325\u001b[0m únidades de dados, \u001b[92m1602\u001b[0m são faltantes, representando um total de \u001b[92m0.66%\u001b[0m \n",
      "dos dados totais.\n",
      "\n",
      "Sendo os atributos contendo faltantes os apresentados abaixo\n"
     ]
    },
    {
     "data": {
      "text/plain": [
       "GESTACAO    1216\n",
       "ESCMAE       310\n",
       "GRAVIDEZ      76\n",
       "dtype: int64"
      ]
     },
     "metadata": {},
     "output_type": "display_data"
    }
   ],
   "source": [
    "# 6) \n",
    "df_apgar5.loc[:,'QTDFILVIVO'] = df_apgar5['QTDFILVIVO'].fillna(0)\n",
    "informations(df_apgar5)"
   ]
  },
  {
   "cell_type": "markdown",
   "metadata": {},
   "source": [
    "<li style=\"font-size:120%;color:#005073\"> Preencher dados categóricos utilizando a biblioteca impute do scikit learning. "
   ]
  },
  {
   "cell_type": "code",
   "execution_count": 7,
   "metadata": {
    "scrolled": false
   },
   "outputs": [
    {
     "name": "stdout",
     "output_type": "stream",
     "text": [
      "\n",
      "\n",
      "O dataset apresenta um formato com \u001b[92m26925\u001b[0m dados e com \u001b[92m9\u001b[0m atributos.\n",
      "O total de linhas que apresentam dados faltantes é igual a \u001b[92m0\u001b[0m e de dados duplicados é de \u001b[92m18403\u001b[0m.\n",
      "De um total de \u001b[92m242325\u001b[0m únidades de dados, \u001b[92m0\u001b[0m são faltantes, representando um total de \u001b[92m0.0%\u001b[0m \n",
      "dos dados totais.\n",
      "\n",
      "Sendo os atributos contendo faltantes os apresentados abaixo\n"
     ]
    },
    {
     "data": {
      "text/plain": [
       "Series([], dtype: int64)"
      ]
     },
     "metadata": {},
     "output_type": "display_data"
    }
   ],
   "source": [
    "# 7) \n",
    "from sklearn.impute import SimpleImputer\n",
    "\n",
    "preencher = SimpleImputer(strategy='most_frequent')\n",
    "df_apgar5.iloc[:,:] = preencher.fit_transform(df_apgar5)\n",
    "informations(df_apgar5)"
   ]
  },
  {
   "cell_type": "markdown",
   "metadata": {},
   "source": [
    "<li style=\"font-size:120%;color:#005073\"> Criação de categorias com base em atributo numérico."
   ]
  },
  {
   "cell_type": "code",
   "execution_count": 8,
   "metadata": {},
   "outputs": [
    {
     "name": "stderr",
     "output_type": "stream",
     "text": [
      "C:\\Users\\alcid\\AppData\\Local\\Temp\\ipykernel_15828\\1541426516.py:12: SettingWithCopyWarning: \n",
      "A value is trying to be set on a copy of a slice from a DataFrame.\n",
      "Try using .loc[row_indexer,col_indexer] = value instead\n",
      "\n",
      "See the caveats in the documentation: https://pandas.pydata.org/pandas-docs/stable/user_guide/indexing.html#returning-a-view-versus-a-copy\n",
      "  df_apgar5.loc[:,'APGAR5_CAT'] = df_apgar5['APGAR5'].apply(lambda x: pass_to_cat(x)).tolist()\n"
     ]
    },
    {
     "data": {
      "text/plain": [
       "APGAR5_CAT\n",
       "normal              26463\n",
       "asfixia leve          320\n",
       "asfixia severa         74\n",
       "asfixia moderada       68\n",
       "Name: count, dtype: int64"
      ]
     },
     "execution_count": 8,
     "metadata": {},
     "output_type": "execute_result"
    }
   ],
   "source": [
    "# 8) seu código aqui\n",
    "def pass_to_cat(valor: float) -> str:\n",
    "    if valor <= 3:\n",
    "        return 'asfixia severa'\n",
    "    elif (valor == 4) | (valor == 5):\n",
    "        return 'asfixia moderada'\n",
    "    elif (valor == 6) | (valor == 7):\n",
    "        return 'asfixia leve'\n",
    "    elif valor >= 8:\n",
    "        return 'normal'\n",
    "    \n",
    "df_apgar5.loc[:,'APGAR5_CAT'] = df_apgar5['APGAR5'].apply(lambda x: pass_to_cat(x)).tolist()\n",
    "df_apgar5['APGAR5_CAT'].value_counts()\n"
   ]
  },
  {
   "cell_type": "markdown",
   "metadata": {},
   "source": [
    "<li style=\"font-size:120%;color:#005073\"> Utilizando a função map para transformar o nome das colunas em minúsculo."
   ]
  },
  {
   "cell_type": "code",
   "execution_count": 9,
   "metadata": {},
   "outputs": [
    {
     "data": {
      "text/html": [
       "<div>\n",
       "<style scoped>\n",
       "    .dataframe tbody tr th:only-of-type {\n",
       "        vertical-align: middle;\n",
       "    }\n",
       "\n",
       "    .dataframe tbody tr th {\n",
       "        vertical-align: top;\n",
       "    }\n",
       "\n",
       "    .dataframe thead th {\n",
       "        text-align: right;\n",
       "    }\n",
       "</style>\n",
       "<table border=\"1\" class=\"dataframe\">\n",
       "  <thead>\n",
       "    <tr style=\"text-align: right;\">\n",
       "      <th></th>\n",
       "      <th>locnasc</th>\n",
       "      <th>idademae</th>\n",
       "      <th>estcivmae</th>\n",
       "      <th>escmae</th>\n",
       "      <th>qtdfilvivo</th>\n",
       "      <th>gestacao</th>\n",
       "      <th>gravidez</th>\n",
       "      <th>consultas</th>\n",
       "      <th>apgar5</th>\n",
       "      <th>apgar5_cat</th>\n",
       "    </tr>\n",
       "  </thead>\n",
       "  <tbody>\n",
       "    <tr>\n",
       "      <th>0</th>\n",
       "      <td>1</td>\n",
       "      <td>19</td>\n",
       "      <td>5.0</td>\n",
       "      <td>8 a 11 anos</td>\n",
       "      <td>0.0</td>\n",
       "      <td>37 a 41 semanas</td>\n",
       "      <td>Única</td>\n",
       "      <td>4</td>\n",
       "      <td>10.0</td>\n",
       "      <td>normal</td>\n",
       "    </tr>\n",
       "    <tr>\n",
       "      <th>1</th>\n",
       "      <td>1</td>\n",
       "      <td>29</td>\n",
       "      <td>2.0</td>\n",
       "      <td>8 a 11 anos</td>\n",
       "      <td>1.0</td>\n",
       "      <td>37 a 41 semanas</td>\n",
       "      <td>Única</td>\n",
       "      <td>4</td>\n",
       "      <td>9.0</td>\n",
       "      <td>normal</td>\n",
       "    </tr>\n",
       "    <tr>\n",
       "      <th>2</th>\n",
       "      <td>1</td>\n",
       "      <td>37</td>\n",
       "      <td>9.0</td>\n",
       "      <td>8 a 11 anos</td>\n",
       "      <td>2.0</td>\n",
       "      <td>37 a 41 semanas</td>\n",
       "      <td>Única</td>\n",
       "      <td>4</td>\n",
       "      <td>10.0</td>\n",
       "      <td>normal</td>\n",
       "    </tr>\n",
       "    <tr>\n",
       "      <th>3</th>\n",
       "      <td>1</td>\n",
       "      <td>30</td>\n",
       "      <td>5.0</td>\n",
       "      <td>12 anos ou mais</td>\n",
       "      <td>0.0</td>\n",
       "      <td>37 a 41 semanas</td>\n",
       "      <td>Única</td>\n",
       "      <td>3</td>\n",
       "      <td>10.0</td>\n",
       "      <td>normal</td>\n",
       "    </tr>\n",
       "    <tr>\n",
       "      <th>4</th>\n",
       "      <td>1</td>\n",
       "      <td>30</td>\n",
       "      <td>2.0</td>\n",
       "      <td>8 a 11 anos</td>\n",
       "      <td>1.0</td>\n",
       "      <td>37 a 41 semanas</td>\n",
       "      <td>Única</td>\n",
       "      <td>4</td>\n",
       "      <td>10.0</td>\n",
       "      <td>normal</td>\n",
       "    </tr>\n",
       "  </tbody>\n",
       "</table>\n",
       "</div>"
      ],
      "text/plain": [
       "   locnasc  idademae  estcivmae           escmae  qtdfilvivo         gestacao  \\\n",
       "0        1        19        5.0      8 a 11 anos         0.0  37 a 41 semanas   \n",
       "1        1        29        2.0      8 a 11 anos         1.0  37 a 41 semanas   \n",
       "2        1        37        9.0      8 a 11 anos         2.0  37 a 41 semanas   \n",
       "3        1        30        5.0  12 anos ou mais         0.0  37 a 41 semanas   \n",
       "4        1        30        2.0      8 a 11 anos         1.0  37 a 41 semanas   \n",
       "\n",
       "  gravidez  consultas  apgar5 apgar5_cat  \n",
       "0    Única          4    10.0     normal  \n",
       "1    Única          4     9.0     normal  \n",
       "2    Única          4    10.0     normal  \n",
       "3    Única          3    10.0     normal  \n",
       "4    Única          4    10.0     normal  "
      ]
     },
     "execution_count": 9,
     "metadata": {},
     "output_type": "execute_result"
    }
   ],
   "source": [
    "df_apgar5.columns = list(map(lambda x: x.lower() ,df_apgar5.columns))\n",
    "df_apgar5.head()"
   ]
  }
 ],
 "metadata": {
  "kernelspec": {
   "display_name": "Python 3 (ipykernel)",
   "language": "python",
   "name": "python3"
  },
  "language_info": {
   "codemirror_mode": {
    "name": "ipython",
    "version": 3
   },
   "file_extension": ".py",
   "mimetype": "text/x-python",
   "name": "python",
   "nbconvert_exporter": "python",
   "pygments_lexer": "ipython3",
   "version": "3.11.5"
  }
 },
 "nbformat": 4,
 "nbformat_minor": 4
}
