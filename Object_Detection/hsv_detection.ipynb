{
 "cells": [
  {
   "cell_type": "markdown",
   "id": "8df8a2f7-f809-4723-9431-365c42e1fe87",
   "metadata": {},
   "source": [
    "# Libraries"
   ]
  },
  {
   "cell_type": "code",
   "execution_count": 1,
   "id": "810f566c-35ec-4520-9964-d1714542e677",
   "metadata": {},
   "outputs": [],
   "source": [
    "import cv2\n",
    "import numpy as np"
   ]
  },
  {
   "cell_type": "code",
   "execution_count": 5,
   "id": "20a04dce-eebd-4cbe-b48f-3e33e0332889",
   "metadata": {},
   "outputs": [],
   "source": [
    "!pip freeze > requirements.txt"
   ]
  },
  {
   "cell_type": "markdown",
   "id": "ff100ac8-ee6c-49c8-bb6e-e914a927c132",
   "metadata": {},
   "source": [
    "# Function"
   ]
  },
  {
   "cell_type": "code",
   "execution_count": 2,
   "id": "b08889a4-1496-4141-8cd0-eca21b4714a4",
   "metadata": {},
   "outputs": [],
   "source": [
    "def nothing(x):\n",
    "    \"\"\"\n",
    "    Função de retorno\n",
    "    \"\"\"\n",
    "    pass"
   ]
  },
  {
   "cell_type": "markdown",
   "id": "18257c4b-b183-4e0a-a27a-ac17505ffd39",
   "metadata": {},
   "source": [
    "# Main Code"
   ]
  },
  {
   "cell_type": "code",
   "execution_count": 3,
   "id": "7fc7a3e0-b976-408b-a5c0-69eb585622b1",
   "metadata": {},
   "outputs": [],
   "source": [
    "# Criar janela de controle dos parâmetros\n",
    "cv2.namedWindow(\"parametros\")\n",
    "\n",
    "# Ajustar o tamanho da janela dos parâmetros\n",
    "cv2.resizeWindow(\"parametros\", 400, 480)\n",
    "\n",
    "# Criar barras de rolagem para ajustar os parâmetros\n",
    "cv2.createTrackbar(\"H minima\",\"parametros\",0,255,nothing)\n",
    "cv2.createTrackbar(\"S minima\",\"parametros\",0,255,nothing)\n",
    "cv2.createTrackbar(\"V minima\",\"parametros\",0,255,nothing)\n",
    "cv2.createTrackbar(\"H maxima\",\"parametros\",0,255,nothing)\n",
    "cv2.createTrackbar(\"S maxima\",\"parametros\",0,255,nothing)\n",
    "cv2.createTrackbar(\"V maxima\",\"parametros\",0,255,nothing)\n",
    "\n",
    "# Carregar imagem da webcam\n",
    "cap = cv2.VideoCapture(1)\n",
    "\n",
    "while True:\n",
    "\n",
    "    # Carregar a imagem da webcam\n",
    "    _, frame = cap.read()\n",
    "\n",
    "    # Converter para o formato HSV\n",
    "    hsv = cv2.cvtColor(frame, cv2.COLOR_BGR2HSV)\n",
    "    \n",
    "    # Pegar os valores escolhidos pelo filtro\n",
    "    lh = cv2.getTrackbarPos(\"H minima\",\"parametros\")\n",
    "    ls = cv2.getTrackbarPos(\"S minima\",\"parametros\")\n",
    "    lv = cv2.getTrackbarPos(\"V minima\",\"parametros\")\n",
    "    hh = cv2.getTrackbarPos(\"H maxima\",\"parametros\")\n",
    "    hs = cv2.getTrackbarPos(\"S maxima\",\"parametros\")\n",
    "    hv = cv2.getTrackbarPos(\"V maxima\",\"parametros\")\n",
    "\n",
    "    # Criando o array dos filtros\n",
    "    lim_inf = np.array([lh,ls,lv])\n",
    "    lim_sup = np.array([hh,hs,hv])\n",
    "\n",
    "    # Criar uma máscara para filtrar as cores dentro do intervalo especificado.\n",
    "    mask = cv2.inRange(hsv,lim_inf, lim_sup)\n",
    "\n",
    "    # Aplicar a máscara na imagem original \n",
    "    res = cv2.bitwise_and(frame, frame, mask=mask)\n",
    "\n",
    "    # Mostrar a imagem\n",
    "    cv2.imshow(\"Caneca\",res)\n",
    "    \n",
    "    key = cv2.waitKey(1)\n",
    "    if key == 27:\n",
    "        break\n",
    "        \n",
    "cap.release()\n",
    "cv2.destroyAllWindows()"
   ]
  }
 ],
 "metadata": {
  "kernelspec": {
   "display_name": "Python 3 (ipykernel)",
   "language": "python",
   "name": "python3"
  },
  "language_info": {
   "codemirror_mode": {
    "name": "ipython",
    "version": 3
   },
   "file_extension": ".py",
   "mimetype": "text/x-python",
   "name": "python",
   "nbconvert_exporter": "python",
   "pygments_lexer": "ipython3",
   "version": "3.11.8"
  }
 },
 "nbformat": 4,
 "nbformat_minor": 5
}
