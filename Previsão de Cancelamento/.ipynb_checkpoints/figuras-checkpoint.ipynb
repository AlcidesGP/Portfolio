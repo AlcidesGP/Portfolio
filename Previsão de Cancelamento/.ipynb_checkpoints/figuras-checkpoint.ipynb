{
 "cells": [
  {
   "cell_type": "code",
   "execution_count": 5,
   "id": "1610487d",
   "metadata": {},
   "outputs": [],
   "source": [
    "import matplotlib.pyplot as plt\n",
    "import seaborn as sns\n",
    "\n",
    "from mycolorpy import colorlist as mcp\n",
    "import matplotlib.gridspec as gridspec"
   ]
  },
  {
   "cell_type": "code",
   "execution_count": 6,
   "id": "31cfa838",
   "metadata": {},
   "outputs": [],
   "source": [
    "def pie_0(dados: list,titulo: str, target: str) -> None:\n",
    "    \"\"\"\n",
    "    Função irá retornar o gráfico de pizza do alvo categórico, separando-o por cor e distância, além de adicionar\n",
    "    as proporções visualmente no gráfico.\n",
    "    \n",
    "    dados : Dataframe que será trabalhodo\n",
    "    Titulo : Título no gráfico.\n",
    "    Target : O alvo de classificação.\n",
    "    \n",
    "    \"\"\"\n",
    "    dt = dados.copy()\n",
    "    fig = plt.figure(figsize=(10, 5)) # Criando Imagem\n",
    "    colors=mcp.gen_color(cmap=\"Blues_r\",n=5)\n",
    "    outer = gridspec.GridSpec(1, # Rows\n",
    "                              2, # Cols\n",
    "                              wspace=0.3, hspace=0.2) # Espaço entre os quadrantes da imagem\n",
    "    fig.suptitle(titulo, color='grey', size=20)\n",
    "    # PLOT \n",
    "    \n",
    "    fig.add_subplot(outer[0, :])\n",
    "    dt = dt[target].value_counts()\n",
    "    x = dt.values\n",
    "    y = dt.index\n",
    "\n",
    "    pie = plt.pie(x = x, labels=y, autopct=\"%1.f%%\", shadow=True, explode=(0,0.1), startangle=90, colors=colors[0:])"
   ]
  },
  {
   "cell_type": "code",
   "execution_count": 1,
   "id": "687def13",
   "metadata": {},
   "outputs": [],
   "source": [
    "def barras_(dados: list, titulo: str, tamanho: tuple, t_imagem: tuple) -> None:\n",
    "    \"\"\"\n",
    "    ---- Propósito da função -----\n",
    "    Retornar uma imagem contendo a frequência de cada categoria dos dados qualitativos.\n",
    "    \n",
    "    ---- Dados de entrada -------\n",
    "    dados => DataFrame; Dados a serem trabalhados\n",
    "    titulo => string; Nome do título do gráfico.\n",
    "    tamanho => tuple; Quantidade de linhas e colunas que a imagem vai ter.\n",
    "    t_imagem => tuple; contendo a quantidade de linhas e colunas que a imagem deve conter.\n",
    "    \n",
    "    \"\"\"\n",
    "    \n",
    "    \n",
    "    # Preparação dos dados\n",
    "    dt = dados.copy() # Criaçaõ de cópia\n",
    "    \n",
    "    # Configurações Iniciais\n",
    "    grafico = plt.figure(figsize=t_imagem) # Definir tamanho da figura\n",
    "    plt.suptitle(titulo, fontsize=30, horizontalalignment='center' ,color='grey') # Título\n",
    "    plt.subplots_adjust(top=0.8, # Espaço entre o título e os gráficos\n",
    "                        wspace = 0.5, # Espaço vertical entre os gráficos\n",
    "                        hspace = 0.5) # Espaço horizontal entre os gráficos\n",
    "\n",
    "    \n",
    "    # lOOP pelas colunas\n",
    "    for pos_x in range(tamanho[0]):\n",
    "        for pos_y in range(tamanho[1]):\n",
    "            \n",
    "            # Posição\n",
    "            pos = (pos_x, pos_y) # Definir o tamanho da imagem (linhas e colunas)\n",
    "            ax = plt.subplot2grid(tamanho, pos) # Definir a AX de cada gráfico.\n",
    "            color = '#78C' # Cor do palette\n",
    "            \n",
    "            # Plot das barras\n",
    "            valores = dt[dt.columns[pos_y]].value_counts().values # O valor da frequência.\n",
    "            categorias = dt[dt.columns[pos_y]].value_counts().index # A categoria da frequência.\n",
    "            \n",
    "            barra = sns.barplot(orient='h', # Para a barra ficar deitada\n",
    "                                x = valores, \n",
    "                                y = categorias, \n",
    "                                palette = sns.light_palette(color) , # Utilizando um palette de cores para dar um degradee\n",
    "                                dodge=False,\n",
    "                                ax=ax) # Definição da AX.\n",
    "            \n",
    "            # Plot do texto na imagem.\n",
    "            for cont, val in zip(range(len(valores)), valores): # LOOP da categoria com uma contagem para a posição de Y\n",
    "                \n",
    "                porc = val/(valores.sum()) # Porcentagem de cada categoria \n",
    "                plotar = f'{val} ({round(porc*100,2)}%) ' # O texto do total de cada categoria e sua porcentagem\n",
    "                \n",
    "                if porc < 0.1: # Para o gráfico não ficar com a visualização comprometida, valores abaixo de 10% ficam na pos de 1/15 da máxima \n",
    "                    text_pos = valores.max()/15 \n",
    "                else:\n",
    "                    text_pos = val/2\n",
    "                    \n",
    "                barra.annotate(plotar, # Texto\n",
    "                               xy =  (text_pos, cont), # Posição do texto (x, y)\n",
    "                               fontsize=12, # Tamanho da fonte\n",
    "                               color='black') # Cor\n",
    "     \n",
    "            # Configuração Visual dos Gráficos\n",
    "                    # Ajustes de configuração de axis.\n",
    "            barra.set_title(f\"{dt.columns[pos_y]}\", horizontalalignment='left', color='grey', \n",
    "                            x=0, fontsize=15)\n",
    "                  # Desativar\n",
    "            barra.spines['top'].set_visible(False)\n",
    "            barra.spines['right'].set_visible(False)\n",
    "            barra.spines['left'].set_visible(False)\n",
    "                  # Cor\n",
    "            barra.spines['bottom'].set_color('darkgrey')\n",
    "            barra.tick_params(axis='y', colors='black')\n",
    "            barra.tick_params(axis='x', colors='darkgrey')\n",
    "            barra.set(xlabel='Frequência', ylabel='')\n",
    "\n",
    "            \n",
    "    return barra.show()"
   ]
  },
  {
   "cell_type": "code",
   "execution_count": 4,
   "id": "59501379",
   "metadata": {},
   "outputs": [
    {
     "name": "stdout",
     "output_type": "stream",
     "text": [
      "Importação realizada com sucesso.\n"
     ]
    }
   ],
   "source": [
    "print('Importação realizada com sucesso.')"
   ]
  }
 ],
 "metadata": {
  "kernelspec": {
   "display_name": "Python 3 (ipykernel)",
   "language": "python",
   "name": "python3"
  },
  "language_info": {
   "codemirror_mode": {
    "name": "ipython",
    "version": 3
   },
   "file_extension": ".py",
   "mimetype": "text/x-python",
   "name": "python",
   "nbconvert_exporter": "python",
   "pygments_lexer": "ipython3",
   "version": "3.11.5"
  }
 },
 "nbformat": 4,
 "nbformat_minor": 5
}
