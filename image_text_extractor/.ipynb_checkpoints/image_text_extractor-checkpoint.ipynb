{
 "cells": [
  {
   "cell_type": "markdown",
   "id": "f60235ff-18a1-4f5f-a16a-7ae85ff1ecc9",
   "metadata": {},
   "source": [
    "# Libraries e Installers"
   ]
  },
  {
   "cell_type": "code",
   "execution_count": 1,
   "id": "cb6e9de5-cc91-4397-a356-eeed8bf575f2",
   "metadata": {
    "scrolled": true
   },
   "outputs": [
    {
     "name": "stdout",
     "output_type": "stream",
     "text": [
      "Collecting paddlepaddle\n",
      "  Using cached paddlepaddle-2.6.1-cp311-cp311-win_amd64.whl.metadata (8.8 kB)\n",
      "Collecting paddleocr\n",
      "  Using cached paddleocr-2.7.3-py3-none-any.whl.metadata (26 kB)\n",
      "Collecting httpx (from paddlepaddle)\n",
      "  Using cached httpx-0.27.0-py3-none-any.whl.metadata (7.2 kB)\n",
      "Collecting numpy>=1.13 (from paddlepaddle)\n",
      "  Using cached numpy-1.26.4-cp311-cp311-win_amd64.whl.metadata (61 kB)\n",
      "Collecting Pillow (from paddlepaddle)\n",
      "  Using cached pillow-10.3.0-cp311-cp311-win_amd64.whl.metadata (9.4 kB)\n",
      "Requirement already satisfied: decorator in c:\\users\\alcid\\.conda\\envs\\text\\lib\\site-packages (from paddlepaddle) (5.1.1)\n",
      "Collecting astor (from paddlepaddle)\n",
      "  Using cached astor-0.8.1-py2.py3-none-any.whl.metadata (4.2 kB)\n",
      "Collecting opt-einsum==3.3.0 (from paddlepaddle)\n",
      "  Using cached opt_einsum-3.3.0-py3-none-any.whl.metadata (6.5 kB)\n",
      "Collecting protobuf<=3.20.2,>=3.1.0 (from paddlepaddle)\n",
      "  Using cached protobuf-3.20.2-py2.py3-none-any.whl.metadata (720 bytes)\n",
      "Collecting shapely (from paddleocr)\n",
      "  Using cached shapely-2.0.3-cp311-cp311-win_amd64.whl.metadata (7.2 kB)\n",
      "Requirement already satisfied: scikit-image in c:\\users\\alcid\\appdata\\roaming\\python\\python311\\site-packages (from paddleocr) (0.22.0)\n",
      "Collecting imgaug (from paddleocr)\n",
      "  Using cached imgaug-0.4.0-py2.py3-none-any.whl.metadata (1.8 kB)\n",
      "Collecting pyclipper (from paddleocr)\n",
      "  Using cached pyclipper-1.3.0.post5-cp311-cp311-win_amd64.whl.metadata (9.2 kB)\n",
      "Collecting lmdb (from paddleocr)\n",
      "  Using cached lmdb-1.4.1-cp311-cp311-win_amd64.whl.metadata (1.2 kB)\n",
      "Collecting tqdm (from paddleocr)\n",
      "  Using cached tqdm-4.66.2-py3-none-any.whl.metadata (57 kB)\n",
      "Collecting visualdl (from paddleocr)\n",
      "  Using cached visualdl-2.5.3-py3-none-any.whl.metadata (25 kB)\n",
      "Collecting rapidfuzz (from paddleocr)\n",
      "  Using cached rapidfuzz-3.7.0-cp311-cp311-win_amd64.whl.metadata (11 kB)\n",
      "Collecting opencv-python<=4.6.0.66 (from paddleocr)\n",
      "  Using cached opencv_python-4.6.0.66-cp36-abi3-win_amd64.whl.metadata (18 kB)\n",
      "Collecting opencv-contrib-python<=4.6.0.66 (from paddleocr)\n",
      "  Using cached opencv_contrib_python-4.6.0.66-cp36-abi3-win_amd64.whl.metadata (18 kB)\n",
      "Collecting cython (from paddleocr)\n",
      "  Using cached Cython-3.0.10-cp311-cp311-win_amd64.whl.metadata (3.2 kB)\n",
      "Collecting lxml (from paddleocr)\n",
      "  Using cached lxml-5.2.0-cp311-cp311-win_amd64.whl.metadata (4.0 kB)\n",
      "Collecting premailer (from paddleocr)\n",
      "  Using cached premailer-3.10.0-py2.py3-none-any.whl.metadata (15 kB)\n",
      "Collecting openpyxl (from paddleocr)\n",
      "  Using cached openpyxl-3.1.2-py2.py3-none-any.whl.metadata (2.5 kB)\n",
      "Collecting attrdict (from paddleocr)\n",
      "  Using cached attrdict-2.0.1-py2.py3-none-any.whl.metadata (6.7 kB)\n",
      "Requirement already satisfied: pyyaml in c:\\users\\alcid\\.conda\\envs\\text\\lib\\site-packages (from paddleocr) (6.0.1)\n",
      "Collecting python-docx (from paddleocr)\n",
      "  Using cached python_docx-1.1.0-py3-none-any.whl.metadata (2.0 kB)\n",
      "Requirement already satisfied: beautifulsoup4 in c:\\users\\alcid\\.conda\\envs\\text\\lib\\site-packages (from paddleocr) (4.12.2)\n",
      "Collecting fonttools>=4.24.0 (from paddleocr)\n",
      "  Using cached fonttools-4.50.0-cp311-cp311-win_amd64.whl.metadata (162 kB)\n",
      "Collecting fire>=0.3.0 (from paddleocr)\n",
      "  Using cached fire-0.6.0-py2.py3-none-any.whl\n",
      "Collecting pdf2docx (from paddleocr)\n",
      "  Using cached pdf2docx-0.5.8-py3-none-any.whl.metadata (3.2 kB)\n",
      "Requirement already satisfied: six in c:\\users\\alcid\\.conda\\envs\\text\\lib\\site-packages (from fire>=0.3.0->paddleocr) (1.16.0)\n",
      "Collecting termcolor (from fire>=0.3.0->paddleocr)\n",
      "  Using cached termcolor-2.4.0-py3-none-any.whl.metadata (6.1 kB)\n",
      "Requirement already satisfied: soupsieve>1.2 in c:\\users\\alcid\\.conda\\envs\\text\\lib\\site-packages (from beautifulsoup4->paddleocr) (2.5)\n",
      "Requirement already satisfied: anyio in c:\\users\\alcid\\.conda\\envs\\text\\lib\\site-packages (from httpx->paddlepaddle) (4.2.0)\n",
      "Requirement already satisfied: certifi in c:\\users\\alcid\\.conda\\envs\\text\\lib\\site-packages (from httpx->paddlepaddle) (2024.2.2)\n",
      "Collecting httpcore==1.* (from httpx->paddlepaddle)\n",
      "  Using cached httpcore-1.0.5-py3-none-any.whl.metadata (20 kB)\n",
      "Requirement already satisfied: idna in c:\\users\\alcid\\.conda\\envs\\text\\lib\\site-packages (from httpx->paddlepaddle) (3.4)\n",
      "Requirement already satisfied: sniffio in c:\\users\\alcid\\.conda\\envs\\text\\lib\\site-packages (from httpx->paddlepaddle) (1.3.0)\n",
      "Collecting h11<0.15,>=0.13 (from httpcore==1.*->httpx->paddlepaddle)\n",
      "  Using cached h11-0.14.0-py3-none-any.whl.metadata (8.2 kB)\n",
      "Requirement already satisfied: scipy in c:\\users\\alcid\\appdata\\roaming\\python\\python311\\site-packages (from imgaug->paddleocr) (1.12.0)\n",
      "Collecting matplotlib (from imgaug->paddleocr)\n",
      "  Using cached matplotlib-3.8.3-cp311-cp311-win_amd64.whl.metadata (5.9 kB)\n",
      "Requirement already satisfied: imageio in c:\\users\\alcid\\appdata\\roaming\\python\\python311\\site-packages (from imgaug->paddleocr) (2.34.0)\n",
      "Requirement already satisfied: networkx>=2.8 in c:\\users\\alcid\\appdata\\roaming\\python\\python311\\site-packages (from scikit-image->paddleocr) (3.2.1)\n",
      "Requirement already satisfied: tifffile>=2022.8.12 in c:\\users\\alcid\\appdata\\roaming\\python\\python311\\site-packages (from scikit-image->paddleocr) (2024.2.12)\n",
      "Requirement already satisfied: packaging>=21 in c:\\users\\alcid\\.conda\\envs\\text\\lib\\site-packages (from scikit-image->paddleocr) (23.2)\n",
      "Requirement already satisfied: lazy_loader>=0.3 in c:\\users\\alcid\\appdata\\roaming\\python\\python311\\site-packages (from scikit-image->paddleocr) (0.3)\n",
      "Collecting et-xmlfile (from openpyxl->paddleocr)\n",
      "  Using cached et_xmlfile-1.1.0-py3-none-any.whl.metadata (1.8 kB)\n",
      "Collecting PyMuPDF>=1.19.0 (from pdf2docx->paddleocr)\n",
      "  Using cached PyMuPDF-1.24.0-cp311-none-win_amd64.whl.metadata (3.4 kB)\n",
      "Collecting opencv-python-headless>=4.5 (from pdf2docx->paddleocr)\n",
      "  Using cached opencv_python_headless-4.9.0.80-cp37-abi3-win_amd64.whl.metadata (20 kB)\n",
      "Requirement already satisfied: typing-extensions in c:\\users\\alcid\\.conda\\envs\\text\\lib\\site-packages (from python-docx->paddleocr) (4.9.0)\n",
      "Collecting cssselect (from premailer->paddleocr)\n",
      "  Using cached cssselect-1.2.0-py2.py3-none-any.whl.metadata (2.2 kB)\n",
      "Collecting cssutils (from premailer->paddleocr)\n",
      "  Using cached cssutils-2.10.2-py3-none-any.whl.metadata (8.7 kB)\n",
      "Requirement already satisfied: requests in c:\\users\\alcid\\.conda\\envs\\text\\lib\\site-packages (from premailer->paddleocr) (2.31.0)\n",
      "Collecting cachetools (from premailer->paddleocr)\n",
      "  Using cached cachetools-5.3.3-py3-none-any.whl.metadata (5.3 kB)\n",
      "Requirement already satisfied: colorama in c:\\users\\alcid\\.conda\\envs\\text\\lib\\site-packages (from tqdm->paddleocr) (0.4.6)\n",
      "Collecting bce-python-sdk (from visualdl->paddleocr)\n",
      "  Using cached bce_python_sdk-0.9.6-py3-none-any.whl.metadata (318 bytes)\n",
      "Collecting flask>=1.1.1 (from visualdl->paddleocr)\n",
      "  Using cached flask-3.0.2-py3-none-any.whl.metadata (3.6 kB)\n",
      "Collecting Flask-Babel>=3.0.0 (from visualdl->paddleocr)\n",
      "  Using cached flask_babel-4.0.0-py3-none-any.whl.metadata (1.9 kB)\n",
      "Collecting pandas (from visualdl->paddleocr)\n",
      "  Using cached pandas-2.2.1-cp311-cp311-win_amd64.whl.metadata (19 kB)\n",
      "Collecting rarfile (from visualdl->paddleocr)\n",
      "  Using cached rarfile-4.1-py3-none-any.whl.metadata (4.4 kB)\n",
      "Requirement already satisfied: psutil in c:\\users\\alcid\\.conda\\envs\\text\\lib\\site-packages (from visualdl->paddleocr) (5.9.0)\n",
      "Collecting Werkzeug>=3.0.0 (from flask>=1.1.1->visualdl->paddleocr)\n",
      "  Using cached werkzeug-3.0.1-py3-none-any.whl.metadata (4.1 kB)\n",
      "Requirement already satisfied: Jinja2>=3.1.2 in c:\\users\\alcid\\.conda\\envs\\text\\lib\\site-packages (from flask>=1.1.1->visualdl->paddleocr) (3.1.3)\n",
      "Collecting itsdangerous>=2.1.2 (from flask>=1.1.1->visualdl->paddleocr)\n",
      "  Using cached itsdangerous-2.1.2-py3-none-any.whl.metadata (2.9 kB)\n",
      "Collecting click>=8.1.3 (from flask>=1.1.1->visualdl->paddleocr)\n",
      "  Using cached click-8.1.7-py3-none-any.whl.metadata (3.0 kB)\n",
      "Collecting blinker>=1.6.2 (from flask>=1.1.1->visualdl->paddleocr)\n",
      "  Using cached blinker-1.7.0-py3-none-any.whl.metadata (1.9 kB)\n",
      "Collecting Babel>=2.12 (from Flask-Babel>=3.0.0->visualdl->paddleocr)\n",
      "  Using cached Babel-2.14.0-py3-none-any.whl.metadata (1.6 kB)\n",
      "Requirement already satisfied: pytz>=2022.7 in c:\\users\\alcid\\.conda\\envs\\text\\lib\\site-packages (from Flask-Babel>=3.0.0->visualdl->paddleocr) (2023.3.post1)\n",
      "Collecting PyMuPDFb==1.24.0 (from PyMuPDF>=1.19.0->pdf2docx->paddleocr)\n",
      "  Using cached PyMuPDFb-1.24.0-py3-none-win_amd64.whl.metadata (1.4 kB)\n",
      "Collecting pycryptodome>=3.8.0 (from bce-python-sdk->visualdl->paddleocr)\n",
      "  Using cached pycryptodome-3.20.0-cp35-abi3-win_amd64.whl.metadata (3.4 kB)\n",
      "Collecting future>=0.6.0 (from bce-python-sdk->visualdl->paddleocr)\n",
      "  Using cached future-1.0.0-py3-none-any.whl.metadata (4.0 kB)\n",
      "Collecting contourpy>=1.0.1 (from matplotlib->imgaug->paddleocr)\n",
      "  Using cached contourpy-1.2.0-cp311-cp311-win_amd64.whl.metadata (5.8 kB)\n",
      "Collecting cycler>=0.10 (from matplotlib->imgaug->paddleocr)\n",
      "  Using cached cycler-0.12.1-py3-none-any.whl.metadata (3.8 kB)\n",
      "Collecting kiwisolver>=1.3.1 (from matplotlib->imgaug->paddleocr)\n",
      "  Using cached kiwisolver-1.4.5-cp311-cp311-win_amd64.whl.metadata (6.5 kB)\n",
      "Collecting pyparsing>=2.3.1 (from matplotlib->imgaug->paddleocr)\n",
      "  Using cached pyparsing-3.1.2-py3-none-any.whl.metadata (5.1 kB)\n",
      "Requirement already satisfied: python-dateutil>=2.7 in c:\\users\\alcid\\.conda\\envs\\text\\lib\\site-packages (from matplotlib->imgaug->paddleocr) (2.8.2)\n",
      "Collecting tzdata>=2022.7 (from pandas->visualdl->paddleocr)\n",
      "  Using cached tzdata-2024.1-py2.py3-none-any.whl.metadata (1.4 kB)\n",
      "Requirement already satisfied: charset-normalizer<4,>=2 in c:\\users\\alcid\\.conda\\envs\\text\\lib\\site-packages (from requests->premailer->paddleocr) (2.0.4)\n",
      "Requirement already satisfied: urllib3<3,>=1.21.1 in c:\\users\\alcid\\.conda\\envs\\text\\lib\\site-packages (from requests->premailer->paddleocr) (2.1.0)\n",
      "Requirement already satisfied: MarkupSafe>=2.0 in c:\\users\\alcid\\.conda\\envs\\text\\lib\\site-packages (from Jinja2>=3.1.2->flask>=1.1.1->visualdl->paddleocr) (2.1.3)\n",
      "Using cached paddlepaddle-2.6.1-cp311-cp311-win_amd64.whl (81.0 MB)\n",
      "Using cached opt_einsum-3.3.0-py3-none-any.whl (65 kB)\n",
      "Using cached paddleocr-2.7.3-py3-none-any.whl (780 kB)\n",
      "Using cached fonttools-4.50.0-cp311-cp311-win_amd64.whl (2.2 MB)\n",
      "Using cached numpy-1.26.4-cp311-cp311-win_amd64.whl (15.8 MB)\n",
      "Using cached opencv_contrib_python-4.6.0.66-cp36-abi3-win_amd64.whl (42.5 MB)\n",
      "Using cached opencv_python-4.6.0.66-cp36-abi3-win_amd64.whl (35.6 MB)\n",
      "Using cached pillow-10.3.0-cp311-cp311-win_amd64.whl (2.5 MB)\n",
      "Using cached protobuf-3.20.2-py2.py3-none-any.whl (162 kB)\n",
      "Using cached astor-0.8.1-py2.py3-none-any.whl (27 kB)\n",
      "Using cached attrdict-2.0.1-py2.py3-none-any.whl (9.9 kB)\n",
      "Using cached Cython-3.0.10-cp311-cp311-win_amd64.whl (2.8 MB)\n",
      "Using cached httpx-0.27.0-py3-none-any.whl (75 kB)\n",
      "Using cached httpcore-1.0.5-py3-none-any.whl (77 kB)\n",
      "Using cached imgaug-0.4.0-py2.py3-none-any.whl (948 kB)\n",
      "Using cached lmdb-1.4.1-cp311-cp311-win_amd64.whl (100 kB)\n",
      "Using cached lxml-5.2.0-cp311-cp311-win_amd64.whl (3.8 MB)\n",
      "Using cached openpyxl-3.1.2-py2.py3-none-any.whl (249 kB)\n",
      "Using cached pdf2docx-0.5.8-py3-none-any.whl (132 kB)\n",
      "Using cached python_docx-1.1.0-py3-none-any.whl (239 kB)\n",
      "Using cached premailer-3.10.0-py2.py3-none-any.whl (19 kB)\n",
      "Using cached pyclipper-1.3.0.post5-cp311-cp311-win_amd64.whl (108 kB)\n",
      "Using cached rapidfuzz-3.7.0-cp311-cp311-win_amd64.whl (1.6 MB)\n",
      "Using cached shapely-2.0.3-cp311-cp311-win_amd64.whl (1.4 MB)\n",
      "Using cached tqdm-4.66.2-py3-none-any.whl (78 kB)\n",
      "Using cached visualdl-2.5.3-py3-none-any.whl (6.3 MB)\n",
      "Using cached flask-3.0.2-py3-none-any.whl (101 kB)\n",
      "Using cached flask_babel-4.0.0-py3-none-any.whl (9.6 kB)\n",
      "Using cached opencv_python_headless-4.9.0.80-cp37-abi3-win_amd64.whl (38.5 MB)\n",
      "Using cached PyMuPDF-1.24.0-cp311-none-win_amd64.whl (3.6 MB)\n",
      "Using cached PyMuPDFb-1.24.0-py3-none-win_amd64.whl (24.9 MB)\n",
      "Using cached bce_python_sdk-0.9.6-py3-none-any.whl (330 kB)\n",
      "Using cached cachetools-5.3.3-py3-none-any.whl (9.3 kB)\n",
      "Using cached cssselect-1.2.0-py2.py3-none-any.whl (18 kB)\n",
      "Using cached cssutils-2.10.2-py3-none-any.whl (398 kB)\n",
      "Using cached et_xmlfile-1.1.0-py3-none-any.whl (4.7 kB)\n",
      "Using cached matplotlib-3.8.3-cp311-cp311-win_amd64.whl (7.6 MB)\n",
      "Using cached pandas-2.2.1-cp311-cp311-win_amd64.whl (11.6 MB)\n",
      "Using cached rarfile-4.1-py3-none-any.whl (28 kB)\n",
      "Using cached termcolor-2.4.0-py3-none-any.whl (7.7 kB)\n",
      "Using cached Babel-2.14.0-py3-none-any.whl (11.0 MB)\n",
      "Using cached blinker-1.7.0-py3-none-any.whl (13 kB)\n",
      "Using cached click-8.1.7-py3-none-any.whl (97 kB)\n",
      "Using cached contourpy-1.2.0-cp311-cp311-win_amd64.whl (187 kB)\n",
      "Using cached cycler-0.12.1-py3-none-any.whl (8.3 kB)\n",
      "Using cached future-1.0.0-py3-none-any.whl (491 kB)\n",
      "Using cached h11-0.14.0-py3-none-any.whl (58 kB)\n",
      "Using cached itsdangerous-2.1.2-py3-none-any.whl (15 kB)\n",
      "Using cached kiwisolver-1.4.5-cp311-cp311-win_amd64.whl (56 kB)\n",
      "Using cached pycryptodome-3.20.0-cp35-abi3-win_amd64.whl (1.8 MB)\n",
      "Using cached pyparsing-3.1.2-py3-none-any.whl (103 kB)\n",
      "Using cached tzdata-2024.1-py2.py3-none-any.whl (345 kB)\n",
      "Using cached werkzeug-3.0.1-py3-none-any.whl (226 kB)\n",
      "Installing collected packages: pyclipper, lmdb, Werkzeug, tzdata, tqdm, termcolor, rarfile, rapidfuzz, pyparsing, PyMuPDFb, pycryptodome, protobuf, Pillow, numpy, lxml, kiwisolver, itsdangerous, h11, future, fonttools, et-xmlfile, cython, cycler, cssutils, cssselect, click, cachetools, blinker, Babel, attrdict, astor, shapely, python-docx, PyMuPDF, premailer, pandas, opt-einsum, openpyxl, opencv-python-headless, opencv-python, opencv-contrib-python, httpcore, flask, fire, contourpy, bce-python-sdk, pdf2docx, matplotlib, httpx, Flask-Babel, visualdl, paddlepaddle, imgaug, paddleocr\n",
      "  Attempting uninstall: Babel\n",
      "    Found existing installation: Babel 2.11.0\n",
      "    Uninstalling Babel-2.11.0:\n",
      "      Successfully uninstalled Babel-2.11.0\n",
      "Successfully installed Babel-2.14.0 Flask-Babel-4.0.0 Pillow-10.3.0 PyMuPDF-1.24.0 PyMuPDFb-1.24.0 Werkzeug-3.0.1 astor-0.8.1 attrdict-2.0.1 bce-python-sdk-0.9.6 blinker-1.7.0 cachetools-5.3.3 click-8.1.7 contourpy-1.2.0 cssselect-1.2.0 cssutils-2.10.2 cycler-0.12.1 cython-3.0.10 et-xmlfile-1.1.0 fire-0.6.0 flask-3.0.2 fonttools-4.50.0 future-1.0.0 h11-0.14.0 httpcore-1.0.5 httpx-0.27.0 imgaug-0.4.0 itsdangerous-2.1.2 kiwisolver-1.4.5 lmdb-1.4.1 lxml-5.2.0 matplotlib-3.8.3 numpy-1.26.4 opencv-contrib-python-4.6.0.66 opencv-python-4.6.0.66 opencv-python-headless-4.9.0.80 openpyxl-3.1.2 opt-einsum-3.3.0 paddleocr-2.7.3 paddlepaddle-2.6.1 pandas-2.2.1 pdf2docx-0.5.8 premailer-3.10.0 protobuf-3.20.2 pyclipper-1.3.0.post5 pycryptodome-3.20.0 pyparsing-3.1.2 python-docx-1.1.0 rapidfuzz-3.7.0 rarfile-4.1 shapely-2.0.3 termcolor-2.4.0 tqdm-4.66.2 tzdata-2024.1 visualdl-2.5.3\n"
     ]
    }
   ],
   "source": [
    "!pip install paddlepaddle paddleocr"
   ]
  },
  {
   "cell_type": "code",
   "execution_count": 2,
   "id": "eb50f23f-47ea-4a24-a9d9-12ff9c67bc4c",
   "metadata": {},
   "outputs": [],
   "source": [
    "from paddleocr import PaddleOCR"
   ]
  },
  {
   "cell_type": "code",
   "execution_count": 3,
   "id": "13b731c8-77e6-4ced-abe4-95647c96da74",
   "metadata": {},
   "outputs": [],
   "source": [
    "!pip list --format=freeze > requirements.txt"
   ]
  },
  {
   "cell_type": "markdown",
   "id": "4016884e-786a-4aa2-b35e-7a98a2837dfa",
   "metadata": {},
   "source": [
    "# Main "
   ]
  },
  {
   "cell_type": "code",
   "execution_count": 4,
   "id": "0ea17c00-baa5-455e-983d-537abd14d9e0",
   "metadata": {},
   "outputs": [
    {
     "name": "stdout",
     "output_type": "stream",
     "text": [
      "[2024/04/01 10:51:40] ppocr DEBUG: Namespace(help='==SUPPRESS==', use_gpu=False, use_xpu=False, use_npu=False, ir_optim=True, use_tensorrt=False, min_subgraph_size=15, precision='fp32', gpu_mem=500, gpu_id=0, image_dir=None, page_num=0, det_algorithm='DB', det_model_dir='C:\\\\Users\\\\alcid/.paddleocr/whl\\\\det\\\\en\\\\en_PP-OCRv3_det_infer', det_limit_side_len=960, det_limit_type='max', det_box_type='quad', det_db_thresh=0.3, det_db_box_thresh=0.6, det_db_unclip_ratio=1.5, max_batch_size=10, use_dilation=False, det_db_score_mode='fast', det_east_score_thresh=0.8, det_east_cover_thresh=0.1, det_east_nms_thresh=0.2, det_sast_score_thresh=0.5, det_sast_nms_thresh=0.2, det_pse_thresh=0, det_pse_box_thresh=0.85, det_pse_min_area=16, det_pse_scale=1, scales=[8, 16, 32], alpha=1.0, beta=1.0, fourier_degree=5, rec_algorithm='SVTR_LCNet', rec_model_dir='C:\\\\Users\\\\alcid/.paddleocr/whl\\\\rec\\\\latin\\\\latin_PP-OCRv3_rec_infer', rec_image_inverse=True, rec_image_shape='3, 48, 320', rec_batch_num=6, max_text_length=25, rec_char_dict_path='C:\\\\Users\\\\alcid\\\\.conda\\\\envs\\\\text\\\\Lib\\\\site-packages\\\\paddleocr\\\\ppocr\\\\utils\\\\dict\\\\latin_dict.txt', use_space_char=True, vis_font_path='./doc/fonts/simfang.ttf', drop_score=0.5, e2e_algorithm='PGNet', e2e_model_dir=None, e2e_limit_side_len=768, e2e_limit_type='max', e2e_pgnet_score_thresh=0.5, e2e_char_dict_path='./ppocr/utils/ic15_dict.txt', e2e_pgnet_valid_set='totaltext', e2e_pgnet_mode='fast', use_angle_cls=False, cls_model_dir='C:\\\\Users\\\\alcid/.paddleocr/whl\\\\cls\\\\ch_ppocr_mobile_v2.0_cls_infer', cls_image_shape='3, 48, 192', label_list=['0', '180'], cls_batch_num=6, cls_thresh=0.9, enable_mkldnn=False, cpu_threads=10, use_pdserving=False, warmup=False, sr_model_dir=None, sr_image_shape='3, 32, 128', sr_batch_num=1, draw_img_save_dir='./inference_results', save_crop_res=False, crop_res_save_dir='./output', use_mp=False, total_process_num=1, process_id=0, benchmark=False, save_log_path='./log_output/', show_log=True, use_onnx=False, output='./output', table_max_len=488, table_algorithm='TableAttn', table_model_dir=None, merge_no_span_structure=True, table_char_dict_path=None, layout_model_dir=None, layout_dict_path=None, layout_score_threshold=0.5, layout_nms_threshold=0.5, kie_algorithm='LayoutXLM', ser_model_dir=None, re_model_dir=None, use_visual_backbone=True, ser_dict_path='../train_data/XFUND/class_list_xfun.txt', ocr_order_method=None, mode='structure', image_orientation=False, layout=True, table=True, ocr=True, recovery=False, use_pdf2docx_api=False, invert=False, binarize=False, alphacolor=(255, 255, 255), lang='pt', det=True, rec=True, type='ocr', ocr_version='PP-OCRv4', structure_version='PP-StructureV2')\n"
     ]
    }
   ],
   "source": [
    "ocr = PaddleOCR(lang='pt')"
   ]
  },
  {
   "cell_type": "code",
   "execution_count": 5,
   "id": "ad00168a-a1a7-46a3-91c2-a32828b3c707",
   "metadata": {},
   "outputs": [
    {
     "name": "stdout",
     "output_type": "stream",
     "text": [
      "[2024/04/01 10:51:41] ppocr WARNING: Since the angle classifier is not initialized, it will not be used during the forward process\n",
      "[2024/04/01 10:51:42] ppocr DEBUG: dt_boxes num : 8, elapsed : 0.5170748233795166\n",
      "[2024/04/01 10:51:42] ppocr DEBUG: rec_res num  : 8, elapsed : 0.4004707336425781\n",
      "encontro (s.m.)\n",
      "gosto quando acontece no ar, entre nossas almas,\n",
      "através do nosso olhar. é esbarrar e gostar.\n",
      "é marcar e aparecer. é comprar uma passagem\n",
      "para Sao Paulo s6 para a gente se ver. é quando\n",
      "nossos caminhos se cruzam. é quando a gente se\n",
      "usa e abusa.\n",
      "sexta te busco as oito, pode ser?\n"
     ]
    }
   ],
   "source": [
    "# Caminho para a imagem\n",
    "image_path = './livro.jpg'\n",
    "\n",
    "# Extrair o texto da imagem\n",
    "result = ocr.ocr(image_path)\n",
    "\n",
    "# Imprimir o texto extraído\n",
    "for line in result:\n",
    "    for word in line:\n",
    "        print(word[1][0])"
   ]
  },
  {
   "cell_type": "code",
   "execution_count": null,
   "id": "226acb64-2b77-4bd4-99c6-21ceeb653153",
   "metadata": {},
   "outputs": [],
   "source": []
  },
  {
   "cell_type": "code",
   "execution_count": null,
   "id": "0ade411f-3c6e-4552-bbdd-dbfb11827ca8",
   "metadata": {},
   "outputs": [],
   "source": []
  },
  {
   "cell_type": "code",
   "execution_count": null,
   "id": "d3614f27-e0b3-4965-8248-1a2401a6acec",
   "metadata": {},
   "outputs": [],
   "source": []
  },
  {
   "cell_type": "code",
   "execution_count": null,
   "id": "c1f5ce01-3e16-4e25-be19-95aac0e096a2",
   "metadata": {},
   "outputs": [],
   "source": []
  },
  {
   "cell_type": "code",
   "execution_count": null,
   "id": "ccb00803-aa23-4630-b4d5-352ff090a896",
   "metadata": {},
   "outputs": [],
   "source": []
  },
  {
   "cell_type": "code",
   "execution_count": null,
   "id": "2ccc102e-5bc2-40a3-8865-edb0fa399a0c",
   "metadata": {},
   "outputs": [],
   "source": []
  },
  {
   "cell_type": "code",
   "execution_count": null,
   "id": "7ff2d991-9ebd-478c-a47a-84f029e85a2c",
   "metadata": {},
   "outputs": [],
   "source": []
  },
  {
   "cell_type": "code",
   "execution_count": null,
   "id": "f5ac5bb4-d9a4-4186-8057-fffae466da12",
   "metadata": {},
   "outputs": [],
   "source": []
  },
  {
   "cell_type": "code",
   "execution_count": null,
   "id": "9227a4d7-cb65-418a-ab68-b1cae9679d13",
   "metadata": {},
   "outputs": [],
   "source": []
  },
  {
   "cell_type": "code",
   "execution_count": null,
   "id": "5d5bd973-584b-4c17-9d36-78b35049b0a7",
   "metadata": {},
   "outputs": [],
   "source": []
  },
  {
   "cell_type": "code",
   "execution_count": null,
   "id": "02cfc43a-1633-4c27-83b7-a6d049fb795a",
   "metadata": {},
   "outputs": [],
   "source": []
  },
  {
   "cell_type": "code",
   "execution_count": null,
   "id": "dc1d2d62-2023-472e-a902-fd333eadfeca",
   "metadata": {},
   "outputs": [],
   "source": []
  },
  {
   "cell_type": "code",
   "execution_count": null,
   "id": "6424d100-6f26-46c9-b0ed-f02b77073eeb",
   "metadata": {},
   "outputs": [],
   "source": []
  },
  {
   "cell_type": "code",
   "execution_count": null,
   "id": "caf155ed-1e26-430a-8c9d-4b3556b88ff0",
   "metadata": {},
   "outputs": [],
   "source": []
  },
  {
   "cell_type": "code",
   "execution_count": null,
   "id": "2e0a48fa-904e-4fe4-8bdc-17fb2397fdd2",
   "metadata": {},
   "outputs": [],
   "source": []
  },
  {
   "cell_type": "code",
   "execution_count": null,
   "id": "42c2cc06-fbe6-413c-ad30-e56d77911a2a",
   "metadata": {},
   "outputs": [],
   "source": []
  },
  {
   "cell_type": "code",
   "execution_count": null,
   "id": "319a6ba1-8706-453a-a9d3-34613ee6aee8",
   "metadata": {},
   "outputs": [],
   "source": []
  },
  {
   "cell_type": "code",
   "execution_count": null,
   "id": "393cfc7c-29a9-4837-a19e-147b4fbd653b",
   "metadata": {},
   "outputs": [],
   "source": []
  },
  {
   "cell_type": "code",
   "execution_count": null,
   "id": "90cd9b49-5928-4e16-8477-94b6d94630a5",
   "metadata": {},
   "outputs": [],
   "source": []
  }
 ],
 "metadata": {
  "kernelspec": {
   "display_name": "Python 3 (ipykernel)",
   "language": "python",
   "name": "python3"
  },
  "language_info": {
   "codemirror_mode": {
    "name": "ipython",
    "version": 3
   },
   "file_extension": ".py",
   "mimetype": "text/x-python",
   "name": "python",
   "nbconvert_exporter": "python",
   "pygments_lexer": "ipython3",
   "version": "3.11.8"
  }
 },
 "nbformat": 4,
 "nbformat_minor": 5
}
